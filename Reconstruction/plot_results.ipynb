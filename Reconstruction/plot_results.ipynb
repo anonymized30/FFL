{
 "cells": [
  {
   "cell_type": "code",
   "execution_count": 93,
   "metadata": {},
   "outputs": [],
   "source": [
    "import torch\n",
    "import numpy as np\n",
    "import matplotlib.pyplot as plt\n",
    "import inversefed\n",
    "from torchvision.utils import save_image\n",
    "import torchvision"
   ]
  },
  {
   "cell_type": "code",
   "execution_count": 2,
   "metadata": {},
   "outputs": [
    {
     "name": "stdout",
     "output_type": "stream",
     "text": [
      "Currently evaluating -------------------------------:\n",
      "Tuesday, 04. May 2021 05:20PM\n",
      "CPUs: 4, GPUs: 1 on DESKTOP-RLB7PA1.\n",
      "GPU : GeForce GTX 1660\n"
     ]
    }
   ],
   "source": [
    "setup = inversefed.utils.system_startup()\n",
    "dm = torch.as_tensor(inversefed.consts.cifar10_mean, **setup)[:, None, None]\n",
    "ds = torch.as_tensor(inversefed.consts.cifar10_std, **setup)[:, None, None]"
   ]
  },
  {
   "cell_type": "code",
   "execution_count": 96,
   "metadata": {},
   "outputs": [],
   "source": [
    "def plot(tensor):\n",
    "    tensor = tensor.clone().detach()\n",
    "    tensor.mul_(ds).add_(dm).clamp_(0, 1)\n",
    "    if tensor.shape[0] == 1:\n",
    "        return plt.imshow(tensor[0].permute(1, 2, 0).cpu());\n",
    "    else:\n",
    "        fig, axes = plt.subplots(1, tensor.shape[0], figsize=(12, tensor.shape[0]*12))\n",
    "        for i, im in enumerate(tensor):\n",
    "            axes[i].axis('off')\n",
    "            axes[i].imshow(im.permute(1, 2, 0).cpu());"
   ]
  },
  {
   "cell_type": "code",
   "execution_count": 198,
   "metadata": {},
   "outputs": [],
   "source": [
    "res = torch.load('results/convnet64Untrained_auto_peer1.t7')"
   ]
  },
  {
   "cell_type": "code",
   "execution_count": 120,
   "metadata": {},
   "outputs": [
    {
     "data": {
      "text/plain": [
       "dict_keys(['dataset', 'model', 'psnr', 'ground_truth', 'output', 'data'])"
      ]
     },
     "execution_count": 120,
     "metadata": {},
     "output_type": "execute_result"
    }
   ],
   "source": [
    "res.keys()"
   ]
  },
  {
   "cell_type": "code",
   "execution_count": 199,
   "metadata": {},
   "outputs": [],
   "source": [
    "gt = res['ground_truth']\n",
    "out = res['output']"
   ]
  },
  {
   "cell_type": "code",
   "execution_count": 200,
   "metadata": {},
   "outputs": [
    {
     "data": {
      "image/png": "[encoded data removed]",
      "text/plain": [
       "<Figure size 144x144 with 1 Axes>"
      ]
     },
     "metadata": {
      "needs_background": "light"
     },
     "output_type": "display_data"
    }
   ],
   "source": [
    "fig = plt.figure()\n",
    "fig.set_size_inches((2,2))\n",
    "plot(out);\n",
    "plt.axis('off')\n",
    "# plt.title('Mixed update')\n",
    "plt.tight_layout()\n",
    "plt.savefig('images/output11.png', dpi = 600)"
   ]
  },
  {
   "cell_type": "code",
   "execution_count": 139,
   "metadata": {},
   "outputs": [
    {
     "data": {
      "image/png": "[encoded data removed]",
      "text/plain": [
       "<Figure size 72x72 with 1 Axes>"
      ]
     },
     "metadata": {
      "needs_background": "light"
     },
     "output_type": "display_data"
    }
   ],
   "source": [
    "fig = plt.figure()\n",
    "fig.set_size_inches((1,1))\n",
    "plt.text(0,0, 'Peer i')\n",
    "plt.axis('off')\n",
    "# plt.title('Mixed update')\n",
    "plt.tight_layout()\n",
    "plt.savefig('images/peeri.png', dpi = 600)\n",
    "plt.show()"
   ]
  },
  {
   "cell_type": "code",
   "execution_count": 190,
   "metadata": {},
   "outputs": [],
   "source": [
    "gt = gt.clone().detach()\n",
    "gt.mul_(ds).add_(dm).clamp_(0, 1)\n",
    "save_image(gt, 'images/input28.png', padding=1)"
   ]
  }
 ],
 "metadata": {
  "kernelspec": {
   "display_name": "Python 3",
   "language": "python",
   "name": "python3"
  },
  "language_info": {
   "codemirror_mode": {
    "name": "ipython",
    "version": 3
   },
   "file_extension": ".py",
   "mimetype": "text/x-python",
   "name": "python",
   "nbconvert_exporter": "python",
   "pygments_lexer": "ipython3",
   "version": "3.8.5"
  }
 },
 "nbformat": 4,
 "nbformat_minor": 4
}
