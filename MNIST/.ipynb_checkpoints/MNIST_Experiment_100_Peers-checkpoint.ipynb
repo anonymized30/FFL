{
 "cells": [
  {
   "cell_type": "code",
   "execution_count": null,
   "metadata": {},
   "outputs": [],
   "source": [
    "#================================= Start of importing required packages and libraries =========================================#\n",
    "from __future__ import print_function\n",
    "%matplotlib inline\n",
    "import numpy as np\n",
    "import torchvision\n",
    "import torchvision\n",
    "import torch.nn as nn\n",
    "import torch.nn.functional as F\n",
    "import torch.optim as optim\n",
    "from torchvision import datasets, transforms\n",
    "from sklearn.metrics import *\n",
    "from matplotlib import pyplot as plt\n",
    "from dataset import Dataset\n",
    "from models import CNNMnist, DenseNet\n",
    "import os\n",
    "from torch.utils import data\n",
    "import math\n",
    "import random\n",
    "from tqdm import tqdm\n",
    "import copy\n",
    "import statistics\n",
    "from utils import *\n",
    "from environment_federated import *\n",
    "from experiment_federated import *\n",
    "\n",
    "#================================== End of importing required packages and libraries ==========================================#\n"
   ]
  },
  {
   "cell_type": "code",
   "execution_count": null,
   "metadata": {},
   "outputs": [],
   "source": [
    "#=============================== Defining global variables ========================#\n",
    "SIM_NUM = 3 # number of simulation times\n",
    "PEER_NUM = 100 # \"number of peers: K\" \n",
    "PEER_PSEUDONYM = ['Worker '+str(i+1) for i in range(PEER_NUM)]\n",
    "PEER_FRAC = 0.15 #'the fraction of peers: C to bel selected in each round'\n",
    "UNTARGETED_ATTACK_RATES = [0.2] #different rates of random attack\n",
    "STEALTHY_POSONING_RATES = [0.2] #different rates of stealthy attack\n",
    "RANDOM_MALICIOU_BEHAVIOUR_RATE = 0.7\n",
    "STEALTHY_MALICIOU_BEHAVIOUR_RATE = 1\n",
    "MAPPING_LIST = [0, 1, 2, 3, 9, 5, 6, 7, 8, 9]\n",
    "SEED = 0 #fixed seed\n",
    "NORMAL_TAU = 1 # value of tau to dtermine outliers based on the rule Q1 - tau * IQR =< dist <= Q3 + tau * IQR \n",
    "TARGETED_TAU = 1\n",
    "                     \n",
    "GLOBAL_ROUNDS = 20 #\"number of rounds of federated model training\"\n",
    "LOCAL_EPOCHS = 5#\"the number of local epochs: E for each peer\"\n",
    "LOCAL_BS = 10 #\"local batch size: B for each peer\"\n",
    "LOCAL_LR =  0.0005#local learning rate: lr for each peer\n",
    "LOCAL_MOMENTUM = 0.9 #local momentum for each peer\n",
    "NUM_CLASSES = 10 # number of classes in an experiment\n",
    "\n",
    "LABELS_DICT = {\"zero\":0, \n",
    "        \"one\":1,\n",
    "        \"two\":2,\n",
    "        \"three\":3,\n",
    "        \"four\":4,\n",
    "        \"five\":5,\n",
    "        \"six\":6,\n",
    "        \"seven\":7,\n",
    "        \"eight\":8,\n",
    "        \"nine\":9}\n",
    "\n",
    "CLASSES_LIST = ('Zero', 'One', 'Two',  'Three',  'Four',  'Five',\n",
    "                       'Six',   'Seven', 'Eight', 'Nine')\n",
    "\n",
    "#select the device to work with cpu or gpu\n",
    "if torch.cuda.is_available():\n",
    "    DEVICE = \"cuda\"\n",
    "else:\n",
    "    DEVICE = \"cpu\"\n",
    "    \n",
    "DEVICE = torch.device(DEVICE)\n",
    "\n",
    "random.seed(SEED)\n",
    "torch.manual_seed(SEED)\n",
    "torch.cuda.manual_seed_all(SEED)\n",
    "np.random.seed(SEED)\n",
    "os.environ['PYTHONHASHSEED'] = str(SEED)"
   ]
  },
  {
   "cell_type": "code",
   "execution_count": null,
   "metadata": {},
   "outputs": [],
   "source": [
    "#Normal training experiment in a simple environment 100% honest peers\n",
    "normal_training_exp(sim_num=1, peer_pseudonym = PEER_PSEUDONYM,\n",
    "                peer_num=PEER_NUM, peer_frac = PEER_FRAC, seed = SEED,tau =NORMAL_TAU,\n",
    "               global_rounds = GLOBAL_ROUNDS, local_epochs = LOCAL_EPOCHS, local_bs = LOCAL_BS,\n",
    "               local_lr = LOCAL_LR, local_momentum = LOCAL_MOMENTUM, num_classes = NUM_CLASSES, \n",
    "               labels_dict = LABELS_DICT, classes_list = CLASSES_LIST, device = DEVICE)"
   ]
  },
  {
   "cell_type": "code",
   "execution_count": null,
   "metadata": {},
   "outputs": [],
   "source": [
    "#Random attack training experiment in a simple environment (Under Random Attack)\n",
    "\n",
    "untargeted_attack_training_exp(sim_num = 1, peer_pseudonym = PEER_PSEUDONYM,\n",
    "                peer_num = PEER_NUM, peer_frac = PEER_FRAC, seed = SEED, tau = NORMAL_TAU,\n",
    "               global_rounds = GLOBAL_ROUNDS, local_epochs = LOCAL_EPOCHS, local_bs = LOCAL_BS,\n",
    "               local_lr = LOCAL_LR, local_momentum = LOCAL_MOMENTUM, num_classes = NUM_CLASSES, \n",
    "               labels_dict = LABELS_DICT, classes_list = CLASSES_LIST, device = DEVICE,\n",
    "                               attack_type ='untargeted', attack_rates = UNTARGETED_ATTACK_RATES, \n",
    "                              malicious_behaviour_rate = RANDOM_MALICIOU_BEHAVIOUR_RATE)"
   ]
  },
  {
   "cell_type": "code",
   "execution_count": null,
   "metadata": {},
   "outputs": [],
   "source": [
    "#Random attack training experiment in a secure environment (Under Random Attack)\n",
    "\n",
    "secureEnv_random_attack_training_exp(sim_num = 1, peer_pseudonym = PEER_PSEUDONYM,\n",
    "                peer_num = PEER_NUM, peer_frac = PEER_FRAC, seed = SEED, tau = NORMAL_TAU, \n",
    "                global_rounds = GLOBAL_ROUNDS, local_epochs = LOCAL_EPOCHS, local_bs = LOCAL_BS,\n",
    "               local_lr = LOCAL_LR , local_momentum = LOCAL_MOMENTUM, num_classes = NUM_CLASSES, \n",
    "               labels_dict = LABELS_DICT, classes_list = CLASSES_LIST, device = DEVICE,\n",
    "                attack_type = 'untargeted', attack_rates = UNTARGETED_ATTACK_RATES, mapping_list = MAPPING_LIST, \n",
    "                                          malicious_behaviour_rate = RANDOM_MALICIOU_BEHAVIOUR_RATE)"
   ]
  },
  {
   "cell_type": "code",
   "execution_count": null,
   "metadata": {},
   "outputs": [],
   "source": [
    "#Targeted attack training experiment in a simple environment (Under Targeted Attack)\n",
    "\n",
    "# targeted_attack_training_exp(sim_num = 1, peer_pseudonym = PEER_PSEUDONYM,\n",
    "#                 peer_num = PEER_NUM, peer_frac = PEER_FRAC, acm_frac = ACM_FRAC, seed = SEED,tau = TARGETED_TAU,\n",
    "#                global_rounds = GLOBAL_ROUNDS, local_epochs = LOCAL_EPOCHS, local_bs = LOCAL_BS,\n",
    "#                local_lr = LOCAL_LR, local_momentum = LOCAL_MOMENTUM, num_classes = NUM_CLASSES, \n",
    "#                labels_dict = LABELS_DICT, classes_list = CLASSES_LIST, device = DEVICE,\n",
    "#                                attack_type ='targeted', attack_rates = STEALTHY_POSONING_RATES, \n",
    "#                              malicious_behaviour_rate = STEALTHY_MALICIOU_BEHAVIOUR_RATE, mapping_list = MAPPING_LIST)"
   ]
  },
  {
   "cell_type": "code",
   "execution_count": null,
   "metadata": {},
   "outputs": [],
   "source": [
    "#Targeted attack training experiment in an EigenTrust environment\n",
    "\n",
    "# eigenTrust_targeted_attack_training_exp(sim_num = SIM_NUM, peer_pseudonym = PEER_PSEUDONYM,\n",
    "#                 peer_num = PEER_NUM, peer_frac = PEER_FRAC, acm_frac = ACM_FRAC, seed = SEED, tau = TARGETED_TAU, \n",
    "#                 trust_upd = TRUST_UPDATE, global_rounds = GLOBAL_ROUNDS, local_epochs = LOCAL_EPOCHS, local_bs = LOCAL_BS,\n",
    "#                local_lr = LOCAL_LR , local_momentum = LOCAL_MOMENTUM, num_classes = NUM_CLASSES, \n",
    "#                labels_dict = LABELS_DICT, classes_list = CLASSES_LIST, device = DEVICE,\n",
    "#                 attack_type = 'targeted', attack_rates = STEALTHY_POSONING_RATES, \n",
    "#                                           malicious_behaviour_rate = STEALTHY_MALICIOU_BEHAVIOUR_RATE, \n",
    "#                                         mapping_list = MAPPING_LIST, a = A)"
   ]
  },
  {
   "cell_type": "code",
   "execution_count": null,
   "metadata": {},
   "outputs": [],
   "source": []
  }
 ],
 "metadata": {
  "kernelspec": {
   "display_name": "Python 3",
   "language": "python",
   "name": "python3"
  },
  "language_info": {
   "codemirror_mode": {
    "name": "ipython",
    "version": 3
   },
   "file_extension": ".py",
   "mimetype": "text/x-python",
   "name": "python",
   "nbconvert_exporter": "python",
   "pygments_lexer": "ipython3",
   "version": "3.7.4"
  }
 },
 "nbformat": 4,
 "nbformat_minor": 2
}
