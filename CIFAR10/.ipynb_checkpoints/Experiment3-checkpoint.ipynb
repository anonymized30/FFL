{
 "cells": [
  {
   "cell_type": "code",
   "execution_count": 1,
   "metadata": {},
   "outputs": [],
   "source": [
    "#================================= Start of importing required packages and libraries =========================================#\n",
    "from __future__ import print_function\n",
    "%matplotlib inline\n",
    "import numpy as np\n",
    "import torchvision\n",
    "import torchvision\n",
    "import torch.nn as nn\n",
    "import torch.nn.functional as F\n",
    "import torch.optim as optim\n",
    "from torchvision import datasets, transforms\n",
    "from sklearn.metrics import *\n",
    "from matplotlib import pyplot as plt\n",
    "from dataset import Dataset\n",
    "from models import CNNMnist, DenseNet\n",
    "import os\n",
    "from torch.utils import data\n",
    "import math\n",
    "import random\n",
    "from update import test_inference\n",
    "from tqdm import tqdm\n",
    "import copy\n",
    "import statistics\n",
    "from update import LocalUpdate, test_inference\n",
    "from utils import *\n",
    "from environment_federated import *\n",
    "from experiment_federated import *\n",
    "\n",
    "\n",
    "#================================== End of importing required packages and libraries ==========================================#\n"
   ]
  },
  {
   "cell_type": "code",
   "execution_count": 2,
   "metadata": {},
   "outputs": [],
   "source": [
    "#=============================== Defining global variables ========================#\n",
    "\n",
    "SIM_NUM = 10# number of simulation times\n",
    "TRUST_UPDATE = 1 #When update the reputation matrix\n",
    "A = 0.5\n",
    "PEER_PSEUDONYM = ['Josep', 'David', 'Oriol','Alberto', 'Jesus', 'Michael', 'Fadi', 'Rami', 'Ashneet', 'Najeeb']\n",
    "PEER_NUM = 10 # \"number of peers: K\" \n",
    "PEER_FRAC = 0.7 #'the fraction of peers: C to bel selected in each round'\n",
    "ACM_FRAC = 0.3 #'the fraction of accountability managers :ACM'\n",
    "UNTARGETED_ATTACK_RATES = [0.3] #different rates of random attack\n",
    "STEALTHY_POSONING_RATES = [0.3] #different rates of stealthy attack\n",
    "RANDOM_MALICIOU_BEHAVIOUR_RATE = 0.7\n",
    "STEALTHY_MALICIOU_BEHAVIOUR_RATE = 0.7\n",
    "MAPPING_LIST = [0, 1, 2, 3, 9, 5, 6, 7, 8, 9]\n",
    "SEED = 0 #fixed seed\n",
    "NORMAL_TAU = 2 # value of tau to dtermine outliers based on the rule Q1 - tau * IQR =< dist <= Q3 + tau * IQR \n",
    "TARGETED_TAU = 2\n",
    "INTIAL_REPUTATION = [1/PEER_NUM for i in range(PEER_NUM)] #initialization of reputation values \n",
    "                                #with 1/PEER_NUM for each PEER             \n",
    "GLOBAL_ROUNDS = 10 #\"number of rounds of federated model training\"\n",
    "LOCAL_EPOCHS = 1 #\"the number of local epochs: E for each peer\"\n",
    "LOCAL_BS = 2 #\"local batch size: B for each peer\"\n",
    "LOCAL_LR =  0.00004#local learning rate: lr for each peer\n",
    "LOCAL_MOMENTUM = 0.9 #local momentum for each peer\n",
    "NUM_CLASSES = 10 # number of classes in an experiment\n",
    "\n",
    "LABELS_DICT = {\"zero\":0, \n",
    "        \"one\":1,\n",
    "        \"two\":2,\n",
    "        \"three\":3,\n",
    "        \"four\":4,\n",
    "        \"five\":5,\n",
    "        \"six\":6,\n",
    "        \"seven\":7,\n",
    "        \"eight\":8,\n",
    "        \"nine\":9}\n",
    "\n",
    "CLASSES_LIST = ('Zero', 'One', 'Two',  'Three',  'Four',  'Five',\n",
    "                       'Six',   'Seven', 'Eight', 'Nine')\n",
    "\n",
    "#select the device to work with cpu or gpu\n",
    "if torch.cuda.is_available():\n",
    "    DEVICE = \"cuda:0\"\n",
    "else:\n",
    "    DEVICE = \"cpu\"\n",
    "    \n",
    "DEVICE = torch.device(DEVICE)\n",
    "\n",
    "\n",
    "random.seed(SEED)\n",
    "torch.manual_seed(SEED)\n",
    "torch.cuda.manual_seed_all(SEED)\n",
    "np.random.seed(SEED)\n",
    "os.environ['PYTHONHASHSEED'] = str(SEED)"
   ]
  },
  {
   "cell_type": "code",
   "execution_count": null,
   "metadata": {},
   "outputs": [],
   "source": [
    "#Normal training experiment in a simple environment\n",
    "normal_training_exp(sim_num=1, peer_pseudonym = PEER_PSEUDONYM,\n",
    "                peer_num=PEER_NUM, peer_frac = PEER_FRAC, acm_frac = ACM_FRAC, seed = SEED,tau =NORMAL_TAU,\n",
    "               global_rounds = GLOBAL_ROUNDS, local_epochs = LOCAL_EPOCHS, local_bs = LOCAL_BS,\n",
    "               local_lr = LOCAL_LR, local_momentum = LOCAL_MOMENTUM, num_classes = NUM_CLASSES, \n",
    "               labels_dict = LABELS_DICT, classes_list = CLASSES_LIST, device = DEVICE)"
   ]
  },
  {
   "cell_type": "code",
   "execution_count": null,
   "metadata": {},
   "outputs": [],
   "source": [
    "#untargeted attack training experiment in a simple environment\n",
    "untargeted_attack_training_exp(sim_num = 1, peer_pseudonym = PEER_PSEUDONYM,\n",
    "                peer_num = PEER_NUM, peer_frac = PEER_FRAC, acm_frac = ACM_FRAC, seed = SEED, tau = NORMAL_TAU,\n",
    "               global_rounds = GLOBAL_ROUNDS, local_epochs = LOCAL_EPOCHS, local_bs = LOCAL_BS,\n",
    "               local_lr = LOCAL_LR, local_momentum = LOCAL_MOMENTUM, num_classes = NUM_CLASSES, \n",
    "               labels_dict = LABELS_DICT, classes_list = CLASSES_LIST, device = DEVICE,\n",
    "                               attack_type ='untargeted', attack_rates = UNTARGETED_ATTACK_RATES, \n",
    "                              malicious_behaviour_rate = RANDOM_MALICIOU_BEHAVIOUR_RATE)"
   ]
  },
  {
   "cell_type": "code",
   "execution_count": null,
   "metadata": {},
   "outputs": [],
   "source": [
    "#targeted attack training experiment in a simple environment\n",
    "targeted_attack_training_exp(sim_num = 1, peer_pseudonym = PEER_PSEUDONYM,\n",
    "                peer_num = PEER_NUM, peer_frac = PEER_FRAC, acm_frac = ACM_FRAC, seed = SEED,tau = TARGETED_TAU,\n",
    "               global_rounds = GLOBAL_ROUNDS, local_epochs = LOCAL_EPOCHS, local_bs = LOCAL_BS,\n",
    "               local_lr = LOCAL_LR, local_momentum = LOCAL_MOMENTUM, num_classes = NUM_CLASSES, \n",
    "               labels_dict = LABELS_DICT, classes_list = CLASSES_LIST, device = DEVICE,\n",
    "                               attack_type ='targeted', attack_rates = STEALTHY_POSONING_RATES, \n",
    "                             malicious_behaviour_rate = STEALTHY_MALICIOU_BEHAVIOUR_RATE, mapping_list = MAPPING_LIST)"
   ]
  },
  {
   "cell_type": "code",
   "execution_count": null,
   "metadata": {},
   "outputs": [],
   "source": [
    "#untargeted attack training experiment in an EigenTrust environment\n",
    "eigenTrust_untargeted_attack_training_exp(sim_num = SIM_NUM, peer_pseudonym = PEER_PSEUDONYM,\n",
    "                peer_num = PEER_NUM, peer_frac = PEER_FRAC, acm_frac = ACM_FRAC, seed = SEED, tau = NORMAL_TAU, \n",
    "                trust_upd = TRUST_UPDATE, global_rounds = GLOBAL_ROUNDS, local_epochs = LOCAL_EPOCHS, local_bs = LOCAL_BS,\n",
    "               local_lr = LOCAL_LR , local_momentum = LOCAL_MOMENTUM, num_classes = NUM_CLASSES, \n",
    "               labels_dict = LABELS_DICT, classes_list = CLASSES_LIST, device = DEVICE,\n",
    "                attack_type = 'untargeted', attack_rates = UNTARGETED_ATTACK_RATES, mapping_list = MAPPING_LIST, \n",
    "                                          malicious_behaviour_rate = RANDOM_MALICIOU_BEHAVIOUR_RATE, a = A)"
   ]
  },
  {
   "cell_type": "code",
   "execution_count": null,
   "metadata": {},
   "outputs": [
    {
     "name": "stdout",
     "output_type": "stream",
     "text": [
      "\n",
      "==>Start targeted attack Simulation in EigentTrust Environment...\n",
      "\n",
      "\n",
      "===>Stealthy/targeted attack with rate of: (30%) of peers and malicious behaviour rate of: (70%)\n",
      "======>Creating Global model.....\n",
      "CNNMnist(\n",
      "  (conv1): Conv2d(1, 10, kernel_size=(5, 5), stride=(1, 1))\n",
      "  (conv2): Conv2d(10, 20, kernel_size=(5, 5), stride=(1, 1))\n",
      "  (conv2_drop): Dropout2d(p=0.5, inplace=False)\n",
      "  (fc1): Linear(in_features=320, out_features=50, bias=True)\n",
      "  (fc2): Linear(in_features=50, out_features=10, bias=True)\n",
      ")\n",
      "\n",
      "===>Simulation Step: 1\n",
      "\n",
      "Cuurent Global Reputation of Peers Before Simulation\n",
      "Josep   Reputation:  0.1\n",
      "David   Reputation:  0.1\n",
      "Oriol   Reputation:  0.1\n",
      "Alberto   Reputation:  0.1\n",
      "Jesus   Reputation:  0.1\n",
      "Michel   Reputation:  0.1\n",
      "Fadi   Reputation:  0.1\n",
      "Rami   Reputation:  0.1\n",
      "Ashneet   Reputation:  0.1\n",
      "Najeeb   Reputation:  0.1\n",
      "=======> loading training dataset......\n",
      "\n",
      "=======> loading testing dataset......\n",
      "\n",
      "=======> loading training dataset......\n",
      "\n",
      "=======> loading training dataset......\n",
      "\n",
      "=======> loading training dataset......\n",
      "\n",
      "=======> loading training dataset......\n",
      "\n",
      "=======> loading training dataset......\n",
      "\n",
      "=======> loading training dataset......\n",
      "\n",
      "=======> loading training dataset......\n",
      "\n",
      "=======> loading training dataset......\n",
      "\n",
      "=======> loading training dataset......\n",
      "\n",
      "=======> loading training dataset......\n",
      "\n",
      "\n",
      "Loading done!....\n",
      "\n",
      "5400\n",
      "5400\n",
      "5400\n",
      "5400\n",
      "5400\n",
      "5400\n",
      "5400\n",
      "5400\n",
      "5400\n",
      "5400\n",
      "\n",
      "=======> Start Global Model Training......\n",
      "\n"
     ]
    },
    {
     "data": {
      "application/vnd.jupyter.widget-view+json": {
       "model_id": "1f351dcb74ac468c929d4bbbcbfa78ac",
       "version_major": 2,
       "version_minor": 0
      },
      "text/plain": [
       "HBox(children=(IntProgress(value=0, max=10), HTML(value='')))"
      ]
     },
     "metadata": {},
     "output_type": "display_data"
    },
    {
     "name": "stdout",
     "output_type": "stream",
     "text": [
      "\n",
      " | Global Training Round : 1 |\n",
      "\n",
      "Worker:Alberto starts training in Global Round:1 |\n"
     ]
    },
    {
     "data": {
      "application/vnd.jupyter.widget-view+json": {
       "model_id": "049d990165a7405e9a29d482cb787ae7",
       "version_major": 2,
       "version_minor": 0
      },
      "text/plain": [
       "HBox(children=(IntProgress(value=0, max=1), HTML(value='')))"
      ]
     },
     "metadata": {},
     "output_type": "display_data"
    },
    {
     "name": "stdout",
     "output_type": "stream",
     "text": [
      "Train Epoch: 1 [2800/5400\t(52%)]\tLoss: 2.196697\n",
      "Train Epoch: 1 [3000/5400\t(56%)]\tLoss: 2.423949\n",
      "Train Epoch: 1 [3200/5400\t(59%)]\tLoss: 2.337734\n",
      "Train Epoch: 1 [3400/5400\t(63%)]\tLoss: 2.415796\n",
      "Train Epoch: 1 [3600/5400\t(67%)]\tLoss: 2.366726\n",
      "Train Epoch: 1 [3800/5400\t(70%)]\tLoss: 2.190040\n",
      "Train Epoch: 1 [4000/5400\t(74%)]\tLoss: 2.400572\n",
      "Train Epoch: 1 [4200/5400\t(78%)]\tLoss: 2.374868\n",
      "Train Epoch: 1 [4400/5400\t(81%)]\tLoss: 2.254191\n",
      "Train Epoch: 1 [4600/5400\t(85%)]\tLoss: 2.300572\n",
      "Train Epoch: 1 [4800/5400\t(89%)]\tLoss: 2.368184\n",
      "Train Epoch: 1 [5000/5400\t(93%)]\tLoss: 2.223549\n",
      "Train Epoch: 1 [5200/5400\t(96%)]\tLoss: 2.173349\n",
      "\n",
      "Worker:Alberto ends training in Global Round:1 |\n",
      "Worker:Jesus starts training in Global Round:1 |\n"
     ]
    },
    {
     "data": {
      "application/vnd.jupyter.widget-view+json": {
       "model_id": "0f46eed68d674ababe220b3c036d5f60",
       "version_major": 2,
       "version_minor": 0
      },
      "text/plain": [
       "HBox(children=(IntProgress(value=0, max=1), HTML(value='')))"
      ]
     },
     "metadata": {},
     "output_type": "display_data"
    },
    {
     "name": "stdout",
     "output_type": "stream",
     "text": [
      "Train Epoch: 1 [2800/5400\t(52%)]\tLoss: 2.296312\n",
      "Train Epoch: 1 [3000/5400\t(56%)]\tLoss: 2.247861\n",
      "Train Epoch: 1 [3200/5400\t(59%)]\tLoss: 2.144322\n",
      "Train Epoch: 1 [3400/5400\t(63%)]\tLoss: 2.459248\n",
      "Train Epoch: 1 [3600/5400\t(67%)]\tLoss: 2.360972\n",
      "Train Epoch: 1 [3800/5400\t(70%)]\tLoss: 2.181662\n",
      "Train Epoch: 1 [4000/5400\t(74%)]\tLoss: 2.218073\n",
      "Train Epoch: 1 [4200/5400\t(78%)]\tLoss: 2.267558\n",
      "Train Epoch: 1 [4400/5400\t(81%)]\tLoss: 2.346920\n",
      "Train Epoch: 1 [4600/5400\t(85%)]\tLoss: 2.252599\n",
      "Train Epoch: 1 [4800/5400\t(89%)]\tLoss: 2.379313\n",
      "Train Epoch: 1 [5000/5400\t(93%)]\tLoss: 2.236434\n",
      "Train Epoch: 1 [5200/5400\t(96%)]\tLoss: 2.279904\n",
      "\n",
      "Worker:Jesus ends training in Global Round:1 |\n",
      "Worker:Michel starts training in Global Round:1 |\n"
     ]
    },
    {
     "data": {
      "application/vnd.jupyter.widget-view+json": {
       "model_id": "c656e377bf2d4c5ba8b04026e7d8fa39",
       "version_major": 2,
       "version_minor": 0
      },
      "text/plain": [
       "HBox(children=(IntProgress(value=0, max=1), HTML(value='')))"
      ]
     },
     "metadata": {},
     "output_type": "display_data"
    },
    {
     "name": "stdout",
     "output_type": "stream",
     "text": [
      "Train Epoch: 1 [2800/5400\t(52%)]\tLoss: 2.217991\n",
      "Train Epoch: 1 [3000/5400\t(56%)]\tLoss: 2.281692\n",
      "Train Epoch: 1 [3200/5400\t(59%)]\tLoss: 2.267359\n",
      "Train Epoch: 1 [3400/5400\t(63%)]\tLoss: 2.048366\n",
      "Train Epoch: 1 [3600/5400\t(67%)]\tLoss: 2.195662\n",
      "Train Epoch: 1 [3800/5400\t(70%)]\tLoss: 2.273777\n",
      "Train Epoch: 1 [4000/5400\t(74%)]\tLoss: 2.240355\n",
      "Train Epoch: 1 [4200/5400\t(78%)]\tLoss: 2.327328\n",
      "Train Epoch: 1 [4400/5400\t(81%)]\tLoss: 2.365036\n",
      "Train Epoch: 1 [4600/5400\t(85%)]\tLoss: 2.329740\n",
      "Train Epoch: 1 [4800/5400\t(89%)]\tLoss: 2.263506\n",
      "Train Epoch: 1 [5000/5400\t(93%)]\tLoss: 2.541933\n",
      "Train Epoch: 1 [5200/5400\t(96%)]\tLoss: 2.344453\n",
      "\n",
      "Worker:Michel ends training in Global Round:1 |\n",
      "Worker:Fadi starts training in Global Round:1 |\n"
     ]
    },
    {
     "data": {
      "application/vnd.jupyter.widget-view+json": {
       "model_id": "0001ab2df1a54e36a995d51f30d13d48",
       "version_major": 2,
       "version_minor": 0
      },
      "text/plain": [
       "HBox(children=(IntProgress(value=0, max=1), HTML(value='')))"
      ]
     },
     "metadata": {},
     "output_type": "display_data"
    },
    {
     "name": "stdout",
     "output_type": "stream",
     "text": [
      "Train Epoch: 1 [2800/5400\t(52%)]\tLoss: 2.261290\n",
      "Train Epoch: 1 [3000/5400\t(56%)]\tLoss: 2.308480\n",
      "Train Epoch: 1 [3200/5400\t(59%)]\tLoss: 2.225867\n",
      "Train Epoch: 1 [3400/5400\t(63%)]\tLoss: 2.338794\n",
      "Train Epoch: 1 [3600/5400\t(67%)]\tLoss: 2.282088\n",
      "Train Epoch: 1 [3800/5400\t(70%)]\tLoss: 2.399607\n",
      "Train Epoch: 1 [4000/5400\t(74%)]\tLoss: 2.012002\n",
      "Train Epoch: 1 [4200/5400\t(78%)]\tLoss: 2.200967\n",
      "Train Epoch: 1 [4400/5400\t(81%)]\tLoss: 2.395900\n",
      "Train Epoch: 1 [4600/5400\t(85%)]\tLoss: 2.273464\n",
      "Train Epoch: 1 [4800/5400\t(89%)]\tLoss: 2.156714\n",
      "Train Epoch: 1 [5000/5400\t(93%)]\tLoss: 2.238845\n",
      "Train Epoch: 1 [5200/5400\t(96%)]\tLoss: 2.359037\n",
      "\n",
      "Worker:Fadi ends training in Global Round:1 |\n",
      "Worker:Rami starts training in Global Round:1 |\n"
     ]
    },
    {
     "data": {
      "application/vnd.jupyter.widget-view+json": {
       "model_id": "f31529a7f0f64fb8bf0aefdf09384761",
       "version_major": 2,
       "version_minor": 0
      },
      "text/plain": [
       "HBox(children=(IntProgress(value=0, max=1), HTML(value='')))"
      ]
     },
     "metadata": {},
     "output_type": "display_data"
    },
    {
     "name": "stdout",
     "output_type": "stream",
     "text": [
      "Train Epoch: 1 [2800/5400\t(52%)]\tLoss: 2.289065\n",
      "Train Epoch: 1 [3000/5400\t(56%)]\tLoss: 2.181040\n",
      "Train Epoch: 1 [3200/5400\t(59%)]\tLoss: 2.272217\n",
      "Train Epoch: 1 [3400/5400\t(63%)]\tLoss: 2.191369\n",
      "Train Epoch: 1 [3600/5400\t(67%)]\tLoss: 2.197440\n",
      "Train Epoch: 1 [3800/5400\t(70%)]\tLoss: 2.384578\n",
      "Train Epoch: 1 [4000/5400\t(74%)]\tLoss: 2.325297\n",
      "Train Epoch: 1 [4200/5400\t(78%)]\tLoss: 2.191623\n",
      "Train Epoch: 1 [4400/5400\t(81%)]\tLoss: 2.256308\n",
      "Train Epoch: 1 [4600/5400\t(85%)]\tLoss: 2.378753\n",
      "Train Epoch: 1 [4800/5400\t(89%)]\tLoss: 2.159695\n",
      "Train Epoch: 1 [5000/5400\t(93%)]\tLoss: 2.327942\n",
      "Train Epoch: 1 [5200/5400\t(96%)]\tLoss: 2.415159\n",
      "\n",
      "Worker:Rami ends training in Global Round:1 |\n",
      "Worker:Ashneet starts training in Global Round:1 |\n"
     ]
    },
    {
     "data": {
      "application/vnd.jupyter.widget-view+json": {
       "model_id": "288fb2d0111943888d7c20693f6fd5ad",
       "version_major": 2,
       "version_minor": 0
      },
      "text/plain": [
       "HBox(children=(IntProgress(value=0, max=1), HTML(value='')))"
      ]
     },
     "metadata": {},
     "output_type": "display_data"
    },
    {
     "name": "stdout",
     "output_type": "stream",
     "text": [
      "Train Epoch: 1 [2800/5400\t(52%)]\tLoss: 2.224093\n",
      "Train Epoch: 1 [3000/5400\t(56%)]\tLoss: 2.364735\n",
      "Train Epoch: 1 [3200/5400\t(59%)]\tLoss: 2.139871\n",
      "Train Epoch: 1 [3400/5400\t(63%)]\tLoss: 2.463762\n",
      "Train Epoch: 1 [3600/5400\t(67%)]\tLoss: 2.174035\n",
      "Train Epoch: 1 [3800/5400\t(70%)]\tLoss: 2.443696\n",
      "Train Epoch: 1 [4000/5400\t(74%)]\tLoss: 2.240491\n",
      "Train Epoch: 1 [4200/5400\t(78%)]\tLoss: 2.213994\n",
      "Train Epoch: 1 [4400/5400\t(81%)]\tLoss: 2.376812\n",
      "Train Epoch: 1 [4600/5400\t(85%)]\tLoss: 2.346253\n",
      "Train Epoch: 1 [4800/5400\t(89%)]\tLoss: 2.156507\n",
      "Train Epoch: 1 [5000/5400\t(93%)]\tLoss: 2.300047\n",
      "Train Epoch: 1 [5200/5400\t(96%)]\tLoss: 2.356317\n",
      "\n",
      "Worker:Ashneet ends training in Global Round:1 |\n",
      "Worker:Najeeb starts training in Global Round:1 |\n"
     ]
    },
    {
     "data": {
      "application/vnd.jupyter.widget-view+json": {
       "model_id": "c1a58a8faaba4a888eead59a7ef2951b",
       "version_major": 2,
       "version_minor": 0
      },
      "text/plain": [
       "HBox(children=(IntProgress(value=0, max=1), HTML(value='')))"
      ]
     },
     "metadata": {},
     "output_type": "display_data"
    },
    {
     "name": "stdout",
     "output_type": "stream",
     "text": [
      "Train Epoch: 1 [2800/5400\t(52%)]\tLoss: 2.315541\n",
      "Train Epoch: 1 [3000/5400\t(56%)]\tLoss: 2.326910\n",
      "Train Epoch: 1 [3200/5400\t(59%)]\tLoss: 2.185424\n",
      "Train Epoch: 1 [3400/5400\t(63%)]\tLoss: 2.219810\n",
      "Train Epoch: 1 [3600/5400\t(67%)]\tLoss: 2.359862\n",
      "Train Epoch: 1 [3800/5400\t(70%)]\tLoss: 2.242994\n",
      "Train Epoch: 1 [4000/5400\t(74%)]\tLoss: 2.193043\n",
      "Train Epoch: 1 [4200/5400\t(78%)]\tLoss: 2.305951\n",
      "Train Epoch: 1 [4400/5400\t(81%)]\tLoss: 2.248998\n",
      "Train Epoch: 1 [4600/5400\t(85%)]\tLoss: 2.272792\n",
      "Train Epoch: 1 [4800/5400\t(89%)]\tLoss: 2.040536\n",
      "Train Epoch: 1 [5000/5400\t(93%)]\tLoss: 2.214720\n",
      "Train Epoch: 1 [5200/5400\t(96%)]\tLoss: 2.335265\n",
      "\n",
      "Worker:Najeeb ends training in Global Round:1 |\n",
      "\n",
      " Current global round local reputations\n",
      "\n",
      "\n",
      "local ratings introduced by accountability manager:  Alberto , with tau value =:  2\n",
      "\n",
      "Worker         Rating                   Distance       \n",
      "\n",
      "Alberto                 1           0.07577679632167626\n",
      "\n",
      "Jesus                   1           0.07611744152499285\n",
      "\n",
      "Michel                  1           0.07685246131237469\n",
      "\n",
      "Fadi                    1          0.060344363761478996\n",
      "\n",
      "Rami                    1            0.0778236239901215\n",
      "\n",
      "Ashneet                 1           0.01418679110422703\n",
      "\n",
      "Najeeb                  1           0.07229217815497761\n",
      "\n",
      "local ratings introduced by accountability manager:  Michel , with tau value =:  2\n",
      "\n",
      "Worker         Rating                   Distance       \n",
      "\n",
      "Alberto                 1           0.07577679632167626\n",
      "\n",
      "Jesus                   1           0.07611744152499285\n",
      "\n",
      "Michel                  1           0.07685246131237469\n",
      "\n",
      "Fadi                    1          0.060344363761478996\n",
      "\n",
      "Rami                    1            0.0778236239901215\n",
      "\n",
      "Ashneet                 1           0.01418679110422703\n",
      "\n",
      "Najeeb                  1           0.07229217815497761\n",
      "\n",
      "local ratings introduced by accountability manager:  David , with tau value =:  2\n",
      "\n",
      "Worker         Rating                   Distance       \n",
      "\n",
      "Alberto                 1           0.07577679632167626\n",
      "\n",
      "Jesus                   1           0.07611744152499285\n",
      "\n",
      "Michel                  1           0.07685246131237469\n",
      "\n",
      "Fadi                    1          0.060344363761478996\n",
      "\n",
      "Rami                    1            0.0778236239901215\n",
      "\n",
      "Ashneet                 1           0.01418679110422703\n",
      "\n",
      "Najeeb                  1           0.07229217815497761\n",
      "\n",
      "Average loss: 2.2358, Accuracy: 2514/10000 (25%)\n",
      "\n",
      "Category   - Accuracy\n",
      "Zero       - 7.2\n",
      "One        - 13.3\n",
      "Two        - 0.5\n",
      "Three      - 86.1\n",
      "Four       - 23.0\n",
      "Five       - 0.2\n",
      "Six        - 36.5\n",
      "Seven      - 1.7\n",
      "Eight      - 21.0\n",
      "Nine       - 61.1\n",
      "\n",
      " | Global Training Round : 2 |\n",
      "\n",
      "Worker:Alberto starts training in Global Round:2 |\n"
     ]
    },
    {
     "data": {
      "application/vnd.jupyter.widget-view+json": {
       "model_id": "2fad238d505b4a9792757d8c3d587982",
       "version_major": 2,
       "version_minor": 0
      },
      "text/plain": [
       "HBox(children=(IntProgress(value=0, max=1), HTML(value='')))"
      ]
     },
     "metadata": {},
     "output_type": "display_data"
    },
    {
     "name": "stdout",
     "output_type": "stream",
     "text": [
      "Train Epoch: 1 [2800/5400\t(52%)]\tLoss: 1.545977\n",
      "Train Epoch: 1 [3000/5400\t(56%)]\tLoss: 2.334159\n",
      "Train Epoch: 1 [3200/5400\t(59%)]\tLoss: 2.278921\n",
      "Train Epoch: 1 [3400/5400\t(63%)]\tLoss: 2.246054\n",
      "Train Epoch: 1 [3600/5400\t(67%)]\tLoss: 1.790354\n",
      "Train Epoch: 1 [3800/5400\t(70%)]\tLoss: 2.307164\n",
      "Train Epoch: 1 [4000/5400\t(74%)]\tLoss: 2.270638\n",
      "Train Epoch: 1 [4200/5400\t(78%)]\tLoss: 2.347723\n",
      "Train Epoch: 1 [4400/5400\t(81%)]\tLoss: 2.135692\n",
      "Train Epoch: 1 [4600/5400\t(85%)]\tLoss: 2.181675\n",
      "Train Epoch: 1 [4800/5400\t(89%)]\tLoss: 2.286233\n",
      "Train Epoch: 1 [5000/5400\t(93%)]\tLoss: 2.199733\n",
      "Train Epoch: 1 [5200/5400\t(96%)]\tLoss: 2.219871\n",
      "\n",
      "Worker:Alberto ends training in Global Round:2 |\n",
      "Worker:Jesus starts training in Global Round:2 |\n"
     ]
    },
    {
     "data": {
      "application/vnd.jupyter.widget-view+json": {
       "model_id": "3df4d5c748e941e38b183da920b3dd1c",
       "version_major": 2,
       "version_minor": 0
      },
      "text/plain": [
       "HBox(children=(IntProgress(value=0, max=1), HTML(value='')))"
      ]
     },
     "metadata": {},
     "output_type": "display_data"
    },
    {
     "name": "stdout",
     "output_type": "stream",
     "text": [
      "Train Epoch: 1 [2800/5400\t(52%)]\tLoss: 1.823644\n",
      "Train Epoch: 1 [3000/5400\t(56%)]\tLoss: 2.275133\n",
      "Train Epoch: 1 [3200/5400\t(59%)]\tLoss: 2.230447\n",
      "Train Epoch: 1 [3400/5400\t(63%)]\tLoss: 2.118075\n",
      "Train Epoch: 1 [3600/5400\t(67%)]\tLoss: 2.265172\n",
      "Train Epoch: 1 [3800/5400\t(70%)]\tLoss: 2.127554\n",
      "Train Epoch: 1 [4000/5400\t(74%)]\tLoss: 2.285755\n",
      "Train Epoch: 1 [4200/5400\t(78%)]\tLoss: 2.052867\n",
      "Train Epoch: 1 [4400/5400\t(81%)]\tLoss: 1.406172\n",
      "Train Epoch: 1 [4600/5400\t(85%)]\tLoss: 2.333481\n",
      "Train Epoch: 1 [4800/5400\t(89%)]\tLoss: 2.032198\n",
      "Train Epoch: 1 [5000/5400\t(93%)]\tLoss: 2.254790\n",
      "Train Epoch: 1 [5200/5400\t(96%)]\tLoss: 1.495007\n",
      "\n",
      "Worker:Jesus ends training in Global Round:2 |\n",
      "Worker:Michel starts training in Global Round:2 |\n"
     ]
    },
    {
     "data": {
      "application/vnd.jupyter.widget-view+json": {
       "model_id": "a4809b5becb246358f3c212c1e1f5cb5",
       "version_major": 2,
       "version_minor": 0
      },
      "text/plain": [
       "HBox(children=(IntProgress(value=0, max=1), HTML(value='')))"
      ]
     },
     "metadata": {},
     "output_type": "display_data"
    },
    {
     "name": "stdout",
     "output_type": "stream",
     "text": [
      "Train Epoch: 1 [2800/5400\t(52%)]\tLoss: 2.092658\n",
      "Train Epoch: 1 [3000/5400\t(56%)]\tLoss: 2.164364\n",
      "Train Epoch: 1 [3200/5400\t(59%)]\tLoss: 2.036116\n",
      "Train Epoch: 1 [3400/5400\t(63%)]\tLoss: 2.517649\n",
      "Train Epoch: 1 [3600/5400\t(67%)]\tLoss: 2.501729\n",
      "Train Epoch: 1 [3800/5400\t(70%)]\tLoss: 2.218819\n",
      "Train Epoch: 1 [4000/5400\t(74%)]\tLoss: 2.123451\n",
      "Train Epoch: 1 [4200/5400\t(78%)]\tLoss: 2.285420\n",
      "Train Epoch: 1 [4400/5400\t(81%)]\tLoss: 1.908021\n",
      "Train Epoch: 1 [4600/5400\t(85%)]\tLoss: 2.164808\n",
      "Train Epoch: 1 [4800/5400\t(89%)]\tLoss: 1.823043\n",
      "Train Epoch: 1 [5000/5400\t(93%)]\tLoss: 1.792210\n",
      "Train Epoch: 1 [5200/5400\t(96%)]\tLoss: 2.267935\n",
      "\n",
      "Worker:Michel ends training in Global Round:2 |\n",
      "Worker:Fadi starts training in Global Round:2 |\n"
     ]
    },
    {
     "data": {
      "application/vnd.jupyter.widget-view+json": {
       "model_id": "423f956bb20447a2be56ccb4f43b52dd",
       "version_major": 2,
       "version_minor": 0
      },
      "text/plain": [
       "HBox(children=(IntProgress(value=0, max=1), HTML(value='')))"
      ]
     },
     "metadata": {},
     "output_type": "display_data"
    },
    {
     "name": "stdout",
     "output_type": "stream",
     "text": [
      "Train Epoch: 1 [2800/5400\t(52%)]\tLoss: 2.134980\n",
      "Train Epoch: 1 [3000/5400\t(56%)]\tLoss: 1.954775\n",
      "Train Epoch: 1 [3200/5400\t(59%)]\tLoss: 2.182637\n",
      "Train Epoch: 1 [3400/5400\t(63%)]\tLoss: 2.255636\n",
      "Train Epoch: 1 [3600/5400\t(67%)]\tLoss: 2.216931\n",
      "Train Epoch: 1 [3800/5400\t(70%)]\tLoss: 2.388275\n",
      "Train Epoch: 1 [4000/5400\t(74%)]\tLoss: 2.022225\n",
      "Train Epoch: 1 [4200/5400\t(78%)]\tLoss: 1.871980\n",
      "Train Epoch: 1 [4400/5400\t(81%)]\tLoss: 2.188083\n",
      "Train Epoch: 1 [4600/5400\t(85%)]\tLoss: 1.835374\n",
      "Train Epoch: 1 [4800/5400\t(89%)]\tLoss: 2.331506\n",
      "Train Epoch: 1 [5000/5400\t(93%)]\tLoss: 1.836773\n",
      "Train Epoch: 1 [5200/5400\t(96%)]\tLoss: 1.802742\n",
      "\n",
      "Worker:Fadi ends training in Global Round:2 |\n",
      "Worker:Rami starts training in Global Round:2 |\n"
     ]
    },
    {
     "data": {
      "application/vnd.jupyter.widget-view+json": {
       "model_id": "0b2983247c49439599b5fbf91bd94238",
       "version_major": 2,
       "version_minor": 0
      },
      "text/plain": [
       "HBox(children=(IntProgress(value=0, max=1), HTML(value='')))"
      ]
     },
     "metadata": {},
     "output_type": "display_data"
    },
    {
     "name": "stdout",
     "output_type": "stream",
     "text": [
      "Train Epoch: 1 [2800/5400\t(52%)]\tLoss: 2.137482\n",
      "Train Epoch: 1 [3000/5400\t(56%)]\tLoss: 2.094724\n",
      "Train Epoch: 1 [3200/5400\t(59%)]\tLoss: 2.358124\n",
      "Train Epoch: 1 [3400/5400\t(63%)]\tLoss: 2.311571\n",
      "Train Epoch: 1 [3600/5400\t(67%)]\tLoss: 2.154564\n",
      "Train Epoch: 1 [3800/5400\t(70%)]\tLoss: 2.079344\n",
      "Train Epoch: 1 [4000/5400\t(74%)]\tLoss: 1.995460\n",
      "Train Epoch: 1 [4200/5400\t(78%)]\tLoss: 2.338526\n",
      "Train Epoch: 1 [4400/5400\t(81%)]\tLoss: 2.042602\n",
      "Train Epoch: 1 [4600/5400\t(85%)]\tLoss: 2.272106\n",
      "Train Epoch: 1 [4800/5400\t(89%)]\tLoss: 1.925770\n",
      "Train Epoch: 1 [5000/5400\t(93%)]\tLoss: 2.119299\n",
      "Train Epoch: 1 [5200/5400\t(96%)]\tLoss: 1.746418\n",
      "\n",
      "Worker:Rami ends training in Global Round:2 |\n",
      "Worker:Ashneet starts training in Global Round:2 |\n"
     ]
    },
    {
     "data": {
      "application/vnd.jupyter.widget-view+json": {
       "model_id": "fe84f430ec1c4a5da9088c08f798049d",
       "version_major": 2,
       "version_minor": 0
      },
      "text/plain": [
       "HBox(children=(IntProgress(value=0, max=1), HTML(value='')))"
      ]
     },
     "metadata": {},
     "output_type": "display_data"
    },
    {
     "name": "stdout",
     "output_type": "stream",
     "text": [
      "Train Epoch: 1 [2800/5400\t(52%)]\tLoss: 2.281744\n",
      "Train Epoch: 1 [3000/5400\t(56%)]\tLoss: 2.459707\n",
      "Train Epoch: 1 [3200/5400\t(59%)]\tLoss: 2.147486\n",
      "Train Epoch: 1 [3400/5400\t(63%)]\tLoss: 2.554085\n",
      "Train Epoch: 1 [3600/5400\t(67%)]\tLoss: 2.230362\n",
      "Train Epoch: 1 [3800/5400\t(70%)]\tLoss: 2.139658\n",
      "Train Epoch: 1 [4000/5400\t(74%)]\tLoss: 2.186889\n",
      "Train Epoch: 1 [4200/5400\t(78%)]\tLoss: 2.264483\n",
      "Train Epoch: 1 [4400/5400\t(81%)]\tLoss: 1.875427\n",
      "Train Epoch: 1 [4600/5400\t(85%)]\tLoss: 2.318489\n",
      "Train Epoch: 1 [4800/5400\t(89%)]\tLoss: 1.625487\n",
      "Train Epoch: 1 [5000/5400\t(93%)]\tLoss: 2.181513\n",
      "Train Epoch: 1 [5200/5400\t(96%)]\tLoss: 1.899413\n",
      "\n",
      "Worker:Ashneet ends training in Global Round:2 |\n",
      "Worker:Najeeb starts training in Global Round:2 |\n"
     ]
    },
    {
     "data": {
      "application/vnd.jupyter.widget-view+json": {
       "model_id": "f4727bda46de45eeb0fb8a61bf10a358",
       "version_major": 2,
       "version_minor": 0
      },
      "text/plain": [
       "HBox(children=(IntProgress(value=0, max=1), HTML(value='')))"
      ]
     },
     "metadata": {},
     "output_type": "display_data"
    },
    {
     "name": "stdout",
     "output_type": "stream",
     "text": [
      "Train Epoch: 1 [2800/5400\t(52%)]\tLoss: 2.309703\n",
      "Train Epoch: 1 [3000/5400\t(56%)]\tLoss: 2.244133\n",
      "Train Epoch: 1 [3200/5400\t(59%)]\tLoss: 2.297291\n",
      "Train Epoch: 1 [3400/5400\t(63%)]\tLoss: 2.293604\n",
      "Train Epoch: 1 [3600/5400\t(67%)]\tLoss: 2.296330\n",
      "Train Epoch: 1 [3800/5400\t(70%)]\tLoss: 2.236805\n",
      "Train Epoch: 1 [4000/5400\t(74%)]\tLoss: 1.955111\n",
      "Train Epoch: 1 [4200/5400\t(78%)]\tLoss: 2.168770\n",
      "Train Epoch: 1 [4400/5400\t(81%)]\tLoss: 1.960046\n",
      "Train Epoch: 1 [4600/5400\t(85%)]\tLoss: 2.160393\n",
      "Train Epoch: 1 [4800/5400\t(89%)]\tLoss: 2.094264\n",
      "Train Epoch: 1 [5000/5400\t(93%)]\tLoss: 1.909197\n",
      "Train Epoch: 1 [5200/5400\t(96%)]\tLoss: 2.324125\n",
      "\n",
      "Worker:Najeeb ends training in Global Round:2 |\n",
      "\n",
      " Current global round local reputations\n",
      "\n",
      "\n",
      "local ratings introduced by accountability manager:  Alberto , with tau value =:  2\n",
      "\n",
      "Worker         Rating                   Distance       \n",
      "\n",
      "Alberto                 1           0.11072455094009978\n",
      "\n",
      "Jesus                   1          0.018098751351773742\n",
      "\n",
      "Michel                  1           0.09096203933868875\n",
      "\n",
      "Fadi                    1           0.11100149994026086\n",
      "\n",
      "Rami                    0            0.1159833325332179\n",
      "\n",
      "Ashneet                 0           0.11765906543416763\n",
      "\n",
      "Najeeb                  1           0.11152427726616697\n",
      "\n",
      "local ratings introduced by accountability manager:  Michel , with tau value =:  2\n",
      "\n",
      "Worker         Rating                   Distance       \n",
      "\n",
      "Alberto                 1           0.11072455094009978\n",
      "\n",
      "Jesus                   1          0.018098751351773742\n",
      "\n",
      "Michel                  1           0.09096203933868875\n",
      "\n",
      "Fadi                    1           0.11100149994026086\n",
      "\n",
      "Rami                    0            0.1159833325332179\n",
      "\n",
      "Ashneet                 0           0.11765906543416763\n",
      "\n",
      "Najeeb                  1           0.11152427726616697\n",
      "\n",
      "local ratings introduced by accountability manager:  David , with tau value =:  2\n",
      "\n",
      "Worker         Rating                   Distance       \n",
      "\n",
      "Alberto                 1           0.11072455094009978\n",
      "\n",
      "Jesus                   1          0.018098751351773742\n",
      "\n",
      "Michel                  1           0.09096203933868875\n",
      "\n",
      "Fadi                    1           0.11100149994026086\n",
      "\n",
      "Rami                    0            0.1159833325332179\n",
      "\n",
      "Ashneet                 0           0.11765906543416763\n",
      "\n",
      "Najeeb                  1           0.11152427726616697\n",
      "\n",
      "Average loss: 2.2038, Accuracy: 5870/10000 (59%)\n",
      "\n",
      "Category   - Accuracy\n",
      "Zero       - 94.6\n",
      "One        - 95.3\n",
      "Two        - 21.4\n",
      "Three      - 93.7\n",
      "Four       - 34.9\n",
      "Five       - 8.1\n",
      "Six        - 92.2\n",
      "Seven      - 64.8\n",
      "Eight      - 2.8\n",
      "Nine       - 69.7\n",
      "\n",
      " | Global Training Round : 3 |\n",
      "\n",
      "Worker:Alberto starts training in Global Round:3 |\n"
     ]
    },
    {
     "data": {
      "application/vnd.jupyter.widget-view+json": {
       "model_id": "358faeb6723646b4bab72228669c33c9",
       "version_major": 2,
       "version_minor": 0
      },
      "text/plain": [
       "HBox(children=(IntProgress(value=0, max=1), HTML(value='')))"
      ]
     },
     "metadata": {},
     "output_type": "display_data"
    },
    {
     "name": "stdout",
     "output_type": "stream",
     "text": [
      "Train Epoch: 1 [2800/5400\t(52%)]\tLoss: 1.838439\n",
      "Train Epoch: 1 [3000/5400\t(56%)]\tLoss: 2.073677\n",
      "Train Epoch: 1 [3200/5400\t(59%)]\tLoss: 1.739921\n",
      "Train Epoch: 1 [3400/5400\t(63%)]\tLoss: 1.942293\n",
      "Train Epoch: 1 [3600/5400\t(67%)]\tLoss: 2.307761\n",
      "Train Epoch: 1 [3800/5400\t(70%)]\tLoss: 2.038854\n",
      "Train Epoch: 1 [4000/5400\t(74%)]\tLoss: 2.032178\n",
      "Train Epoch: 1 [4200/5400\t(78%)]\tLoss: 2.054354\n",
      "Train Epoch: 1 [4400/5400\t(81%)]\tLoss: 2.291803\n",
      "Train Epoch: 1 [4600/5400\t(85%)]\tLoss: 1.209826\n",
      "Train Epoch: 1 [4800/5400\t(89%)]\tLoss: 1.947197\n",
      "Train Epoch: 1 [5000/5400\t(93%)]\tLoss: 1.648954\n",
      "Train Epoch: 1 [5200/5400\t(96%)]\tLoss: 1.666666\n",
      "\n",
      "Worker:Alberto ends training in Global Round:3 |\n",
      "Worker:Jesus starts training in Global Round:3 |\n"
     ]
    },
    {
     "data": {
      "application/vnd.jupyter.widget-view+json": {
       "model_id": "f22f34ef36dc433f8c97874c57251582",
       "version_major": 2,
       "version_minor": 0
      },
      "text/plain": [
       "HBox(children=(IntProgress(value=0, max=1), HTML(value='')))"
      ]
     },
     "metadata": {},
     "output_type": "display_data"
    },
    {
     "name": "stdout",
     "output_type": "stream",
     "text": [
      "Train Epoch: 1 [2800/5400\t(52%)]\tLoss: 2.167992\n",
      "Train Epoch: 1 [3000/5400\t(56%)]\tLoss: 2.034882\n",
      "Train Epoch: 1 [3200/5400\t(59%)]\tLoss: 1.817144\n",
      "Train Epoch: 1 [3400/5400\t(63%)]\tLoss: 2.158855\n",
      "Train Epoch: 1 [3600/5400\t(67%)]\tLoss: 1.579842\n",
      "Train Epoch: 1 [3800/5400\t(70%)]\tLoss: 1.738882\n",
      "Train Epoch: 1 [4000/5400\t(74%)]\tLoss: 2.030118\n",
      "Train Epoch: 1 [4200/5400\t(78%)]\tLoss: 2.095108\n",
      "Train Epoch: 1 [4400/5400\t(81%)]\tLoss: 1.804549\n",
      "Train Epoch: 1 [4600/5400\t(85%)]\tLoss: 2.237471\n",
      "Train Epoch: 1 [4800/5400\t(89%)]\tLoss: 2.244071\n",
      "Train Epoch: 1 [5000/5400\t(93%)]\tLoss: 1.478002\n",
      "Train Epoch: 1 [5200/5400\t(96%)]\tLoss: 1.893642\n",
      "\n",
      "Worker:Jesus ends training in Global Round:3 |\n",
      "Worker:Michel starts training in Global Round:3 |\n"
     ]
    },
    {
     "data": {
      "application/vnd.jupyter.widget-view+json": {
       "model_id": "6bab94a5bb304784bdcaeabe432e75c6",
       "version_major": 2,
       "version_minor": 0
      },
      "text/plain": [
       "HBox(children=(IntProgress(value=0, max=1), HTML(value='')))"
      ]
     },
     "metadata": {},
     "output_type": "display_data"
    },
    {
     "name": "stdout",
     "output_type": "stream",
     "text": [
      "Train Epoch: 1 [2800/5400\t(52%)]\tLoss: 2.284688\n",
      "Train Epoch: 1 [3000/5400\t(56%)]\tLoss: 2.107972\n",
      "Train Epoch: 1 [3200/5400\t(59%)]\tLoss: 2.208086\n",
      "Train Epoch: 1 [3400/5400\t(63%)]\tLoss: 1.663438\n",
      "Train Epoch: 1 [3600/5400\t(67%)]\tLoss: 2.275692\n",
      "Train Epoch: 1 [3800/5400\t(70%)]\tLoss: 2.241273\n",
      "Train Epoch: 1 [4000/5400\t(74%)]\tLoss: 1.529913\n",
      "Train Epoch: 1 [4200/5400\t(78%)]\tLoss: 1.723922\n",
      "Train Epoch: 1 [4400/5400\t(81%)]\tLoss: 1.805676\n",
      "Train Epoch: 1 [4600/5400\t(85%)]\tLoss: 2.012568\n",
      "Train Epoch: 1 [4800/5400\t(89%)]\tLoss: 2.040655\n",
      "Train Epoch: 1 [5000/5400\t(93%)]\tLoss: 2.378503\n",
      "Train Epoch: 1 [5200/5400\t(96%)]\tLoss: 2.255604\n",
      "\n",
      "Worker:Michel ends training in Global Round:3 |\n",
      "Worker:Fadi starts training in Global Round:3 |\n"
     ]
    },
    {
     "data": {
      "application/vnd.jupyter.widget-view+json": {
       "model_id": "c60b84eafbdc445eb92d07eedf73e903",
       "version_major": 2,
       "version_minor": 0
      },
      "text/plain": [
       "HBox(children=(IntProgress(value=0, max=1), HTML(value='')))"
      ]
     },
     "metadata": {},
     "output_type": "display_data"
    },
    {
     "name": "stdout",
     "output_type": "stream",
     "text": [
      "Train Epoch: 1 [2800/5400\t(52%)]\tLoss: 2.056878\n",
      "Train Epoch: 1 [3000/5400\t(56%)]\tLoss: 1.837641\n",
      "Train Epoch: 1 [3200/5400\t(59%)]\tLoss: 2.144598\n",
      "Train Epoch: 1 [3400/5400\t(63%)]\tLoss: 2.241778\n",
      "Train Epoch: 1 [3600/5400\t(67%)]\tLoss: 2.161751\n",
      "Train Epoch: 1 [3800/5400\t(70%)]\tLoss: 1.838931\n",
      "Train Epoch: 1 [4000/5400\t(74%)]\tLoss: 2.037935\n",
      "Train Epoch: 1 [4200/5400\t(78%)]\tLoss: 2.097340\n",
      "Train Epoch: 1 [4400/5400\t(81%)]\tLoss: 2.227810\n",
      "Train Epoch: 1 [4600/5400\t(85%)]\tLoss: 1.870754\n",
      "Train Epoch: 1 [4800/5400\t(89%)]\tLoss: 2.286527\n",
      "Train Epoch: 1 [5000/5400\t(93%)]\tLoss: 2.247212\n",
      "Train Epoch: 1 [5200/5400\t(96%)]\tLoss: 2.119872\n",
      "\n",
      "Worker:Fadi ends training in Global Round:3 |\n",
      "Worker:Rami starts training in Global Round:3 |\n"
     ]
    },
    {
     "data": {
      "application/vnd.jupyter.widget-view+json": {
       "model_id": "2be107acee3146ee82f29ccd29d85b11",
       "version_major": 2,
       "version_minor": 0
      },
      "text/plain": [
       "HBox(children=(IntProgress(value=0, max=1), HTML(value='')))"
      ]
     },
     "metadata": {},
     "output_type": "display_data"
    },
    {
     "name": "stdout",
     "output_type": "stream",
     "text": [
      "Train Epoch: 1 [2800/5400\t(52%)]\tLoss: 2.147335\n",
      "Train Epoch: 1 [3000/5400\t(56%)]\tLoss: 2.092144\n",
      "Train Epoch: 1 [3200/5400\t(59%)]\tLoss: 1.897552\n",
      "Train Epoch: 1 [3400/5400\t(63%)]\tLoss: 2.160902\n",
      "Train Epoch: 1 [3600/5400\t(67%)]\tLoss: 2.188206\n",
      "Train Epoch: 1 [3800/5400\t(70%)]\tLoss: 1.894997\n",
      "Train Epoch: 1 [4000/5400\t(74%)]\tLoss: 2.035081\n",
      "Train Epoch: 1 [4200/5400\t(78%)]\tLoss: 1.703752\n",
      "Train Epoch: 1 [4400/5400\t(81%)]\tLoss: 2.038029\n",
      "Train Epoch: 1 [4600/5400\t(85%)]\tLoss: 2.728307\n",
      "Train Epoch: 1 [4800/5400\t(89%)]\tLoss: 1.847338\n",
      "Train Epoch: 1 [5000/5400\t(93%)]\tLoss: 1.880012\n",
      "Train Epoch: 1 [5200/5400\t(96%)]\tLoss: 1.802406\n",
      "\n",
      "Worker:Rami ends training in Global Round:3 |\n",
      "Worker:Ashneet starts training in Global Round:3 |\n",
      "===>Targeted/stealthy attack started by:  Ashneet  in Global Round:  3\n"
     ]
    },
    {
     "data": {
      "application/vnd.jupyter.widget-view+json": {
       "model_id": "ef6b717398524abb8b42ba2605fa8e5d",
       "version_major": 2,
       "version_minor": 0
      },
      "text/plain": [
       "HBox(children=(IntProgress(value=0, max=1), HTML(value='')))"
      ]
     },
     "metadata": {},
     "output_type": "display_data"
    },
    {
     "name": "stdout",
     "output_type": "stream",
     "text": [
      "Train Epoch: 1 [2800/5400\t(52%)]\tLoss: 1.961204\n",
      "Train Epoch: 1 [3000/5400\t(56%)]\tLoss: 2.276305\n",
      "Train Epoch: 1 [3200/5400\t(59%)]\tLoss: 1.694485\n",
      "Train Epoch: 1 [3400/5400\t(63%)]\tLoss: 1.595129\n",
      "Train Epoch: 1 [3600/5400\t(67%)]\tLoss: 2.580008\n",
      "Train Epoch: 1 [3800/5400\t(70%)]\tLoss: 1.664354\n",
      "Train Epoch: 1 [4000/5400\t(74%)]\tLoss: 1.597904\n",
      "Train Epoch: 1 [4200/5400\t(78%)]\tLoss: 1.307165\n",
      "Train Epoch: 1 [4400/5400\t(81%)]\tLoss: 1.351434\n",
      "Train Epoch: 1 [4600/5400\t(85%)]\tLoss: 1.697310\n",
      "Train Epoch: 1 [4800/5400\t(89%)]\tLoss: 2.442749\n",
      "Train Epoch: 1 [5000/5400\t(93%)]\tLoss: 1.166494\n",
      "Train Epoch: 1 [5200/5400\t(96%)]\tLoss: 1.945213\n",
      "\n",
      "Worker:Ashneet ends training in Global Round:3 |\n",
      "Worker:Najeeb starts training in Global Round:3 |\n"
     ]
    },
    {
     "data": {
      "application/vnd.jupyter.widget-view+json": {
       "model_id": "f91c037fe61748fc968f3ec641716135",
       "version_major": 2,
       "version_minor": 0
      },
      "text/plain": [
       "HBox(children=(IntProgress(value=0, max=1), HTML(value='')))"
      ]
     },
     "metadata": {},
     "output_type": "display_data"
    },
    {
     "name": "stdout",
     "output_type": "stream",
     "text": [
      "Train Epoch: 1 [2800/5400\t(52%)]\tLoss: 1.735718\n",
      "Train Epoch: 1 [3000/5400\t(56%)]\tLoss: 1.700633\n",
      "Train Epoch: 1 [3200/5400\t(59%)]\tLoss: 2.098144\n",
      "Train Epoch: 1 [3400/5400\t(63%)]\tLoss: 2.067561\n",
      "Train Epoch: 1 [3600/5400\t(67%)]\tLoss: 2.186046\n",
      "Train Epoch: 1 [3800/5400\t(70%)]\tLoss: 1.837394\n",
      "Train Epoch: 1 [4000/5400\t(74%)]\tLoss: 2.447704\n",
      "Train Epoch: 1 [4200/5400\t(78%)]\tLoss: 1.688353\n",
      "Train Epoch: 1 [4400/5400\t(81%)]\tLoss: 2.057541\n",
      "Train Epoch: 1 [4600/5400\t(85%)]\tLoss: 2.004678\n",
      "Train Epoch: 1 [4800/5400\t(89%)]\tLoss: 2.291026\n",
      "Train Epoch: 1 [5000/5400\t(93%)]\tLoss: 1.595129\n",
      "Train Epoch: 1 [5200/5400\t(96%)]\tLoss: 1.397858\n",
      "\n",
      "Worker:Najeeb ends training in Global Round:3 |\n",
      "\n",
      " Current global round local reputations\n",
      "\n",
      "\n",
      "local ratings introduced by accountability manager:  Alberto , with tau value =:  2\n",
      "\n",
      "Worker         Rating                   Distance       \n",
      "\n",
      "Alberto                 1           0.10815212769764765\n",
      "\n",
      "Jesus                   1           0.10082952210452789\n",
      "\n",
      "Michel                  1           0.10935599414649631\n",
      "\n",
      "Fadi                    1           0.10970418231812092\n",
      "\n",
      "Rami                    1           0.11250902171317707\n",
      "\n",
      "Ashneet                 0           0.18310464051191355\n",
      "\n",
      "Najeeb                  1          0.011105894396005235\n",
      "\n",
      "local ratings introduced by accountability manager:  Michel , with tau value =:  2\n",
      "\n",
      "Worker         Rating                   Distance       \n",
      "\n",
      "Alberto                 1           0.10815212769764765\n",
      "\n",
      "Jesus                   1           0.10082952210452789\n",
      "\n",
      "Michel                  1           0.10935599414649631\n",
      "\n",
      "Fadi                    1           0.10970418231812092\n",
      "\n",
      "Rami                    1           0.11250902171317707\n",
      "\n",
      "Ashneet                 0           0.18310464051191355\n",
      "\n",
      "Najeeb                  1          0.011105894396005235\n",
      "\n",
      "local ratings introduced by accountability manager:  David , with tau value =:  2\n",
      "\n",
      "Worker         Rating                   Distance       \n",
      "\n",
      "Alberto                 1           0.10815212769764765\n",
      "\n",
      "Jesus                   1           0.10082952210452789\n",
      "\n",
      "Michel                  1           0.10935599414649631\n",
      "\n",
      "Fadi                    1           0.10970418231812092\n",
      "\n",
      "Rami                    1           0.11250902171317707\n",
      "\n",
      "Ashneet                 0           0.18310464051191355\n",
      "\n",
      "Najeeb                  1          0.011105894396005235\n",
      "\n",
      "Average loss: 1.9809, Accuracy: 6663/10000 (67%)\n",
      "\n",
      "Category   - Accuracy\n",
      "Zero       - 98.7\n",
      "One        - 97.4\n",
      "Two        - 27.9\n",
      "Three      - 90.0\n",
      "Four       - 72.4\n",
      "Five       - 36.3\n",
      "Six        - 85.5\n",
      "Seven      - 90.9\n",
      "Eight      - 47.6\n",
      "Nine       - 14.0\n",
      "\n",
      " | Global Training Round : 4 |\n",
      "\n",
      "Worker:Alberto starts training in Global Round:4 |\n"
     ]
    },
    {
     "data": {
      "application/vnd.jupyter.widget-view+json": {
       "model_id": "9312033bf9b243f699d04f9130a6082f",
       "version_major": 2,
       "version_minor": 0
      },
      "text/plain": [
       "HBox(children=(IntProgress(value=0, max=1), HTML(value='')))"
      ]
     },
     "metadata": {},
     "output_type": "display_data"
    },
    {
     "name": "stdout",
     "output_type": "stream",
     "text": [
      "Train Epoch: 1 [2800/5400\t(52%)]\tLoss: 1.301813\n",
      "Train Epoch: 1 [3000/5400\t(56%)]\tLoss: 2.250060\n",
      "Train Epoch: 1 [3200/5400\t(59%)]\tLoss: 1.893128\n",
      "Train Epoch: 1 [3400/5400\t(63%)]\tLoss: 1.622549\n",
      "Train Epoch: 1 [3600/5400\t(67%)]\tLoss: 1.017087\n",
      "Train Epoch: 1 [3800/5400\t(70%)]\tLoss: 0.824328\n",
      "Train Epoch: 1 [4000/5400\t(74%)]\tLoss: 0.920925\n",
      "Train Epoch: 1 [4200/5400\t(78%)]\tLoss: 1.776159\n",
      "Train Epoch: 1 [4400/5400\t(81%)]\tLoss: 2.205488\n",
      "Train Epoch: 1 [4600/5400\t(85%)]\tLoss: 1.565029\n",
      "Train Epoch: 1 [4800/5400\t(89%)]\tLoss: 0.587005\n",
      "Train Epoch: 1 [5000/5400\t(93%)]\tLoss: 1.159692\n",
      "Train Epoch: 1 [5200/5400\t(96%)]\tLoss: 1.840061\n",
      "\n",
      "Worker:Alberto ends training in Global Round:4 |\n",
      "Worker:Jesus starts training in Global Round:4 |\n",
      "===>Targeted/stealthy attack started by:  Jesus  in Global Round:  4\n"
     ]
    },
    {
     "data": {
      "application/vnd.jupyter.widget-view+json": {
       "model_id": "3c50e1b582284fba9bcb1e58e9770840",
       "version_major": 2,
       "version_minor": 0
      },
      "text/plain": [
       "HBox(children=(IntProgress(value=0, max=1), HTML(value='')))"
      ]
     },
     "metadata": {},
     "output_type": "display_data"
    },
    {
     "name": "stdout",
     "output_type": "stream",
     "text": [
      "Train Epoch: 1 [2800/5400\t(52%)]\tLoss: 1.606732\n",
      "Train Epoch: 1 [3000/5400\t(56%)]\tLoss: 1.341230\n",
      "Train Epoch: 1 [3200/5400\t(59%)]\tLoss: 1.579149\n",
      "Train Epoch: 1 [3400/5400\t(63%)]\tLoss: 2.208001\n",
      "Train Epoch: 1 [3600/5400\t(67%)]\tLoss: 1.643820\n",
      "Train Epoch: 1 [3800/5400\t(70%)]\tLoss: 2.904736\n",
      "Train Epoch: 1 [4000/5400\t(74%)]\tLoss: 1.191859\n",
      "Train Epoch: 1 [4200/5400\t(78%)]\tLoss: 0.926802\n",
      "Train Epoch: 1 [4400/5400\t(81%)]\tLoss: 1.778268\n",
      "Train Epoch: 1 [4600/5400\t(85%)]\tLoss: 1.176570\n",
      "Train Epoch: 1 [4800/5400\t(89%)]\tLoss: 1.400944\n",
      "Train Epoch: 1 [5000/5400\t(93%)]\tLoss: 1.919415\n",
      "Train Epoch: 1 [5200/5400\t(96%)]\tLoss: 0.548915\n",
      "\n",
      "Worker:Jesus ends training in Global Round:4 |\n",
      "Worker:Michel starts training in Global Round:4 |\n"
     ]
    },
    {
     "data": {
      "application/vnd.jupyter.widget-view+json": {
       "model_id": "e45a75a951d1438ebb982f49b515dbc9",
       "version_major": 2,
       "version_minor": 0
      },
      "text/plain": [
       "HBox(children=(IntProgress(value=0, max=1), HTML(value='')))"
      ]
     },
     "metadata": {},
     "output_type": "display_data"
    },
    {
     "name": "stdout",
     "output_type": "stream",
     "text": [
      "Train Epoch: 1 [2800/5400\t(52%)]\tLoss: 1.595648\n",
      "Train Epoch: 1 [3000/5400\t(56%)]\tLoss: 1.571911\n",
      "Train Epoch: 1 [3200/5400\t(59%)]\tLoss: 2.181447\n",
      "Train Epoch: 1 [3400/5400\t(63%)]\tLoss: 1.520882\n",
      "Train Epoch: 1 [3600/5400\t(67%)]\tLoss: 1.024311\n",
      "Train Epoch: 1 [3800/5400\t(70%)]\tLoss: 1.243131\n",
      "Train Epoch: 1 [4000/5400\t(74%)]\tLoss: 0.733483\n",
      "Train Epoch: 1 [4200/5400\t(78%)]\tLoss: 2.287646\n",
      "Train Epoch: 1 [4400/5400\t(81%)]\tLoss: 1.283146\n",
      "Train Epoch: 1 [4600/5400\t(85%)]\tLoss: 0.741473\n",
      "Train Epoch: 1 [4800/5400\t(89%)]\tLoss: 2.025740\n",
      "Train Epoch: 1 [5000/5400\t(93%)]\tLoss: 2.119099\n",
      "Train Epoch: 1 [5200/5400\t(96%)]\tLoss: 0.934658\n",
      "\n",
      "Worker:Michel ends training in Global Round:4 |\n",
      "Worker:Fadi starts training in Global Round:4 |\n"
     ]
    },
    {
     "data": {
      "application/vnd.jupyter.widget-view+json": {
       "model_id": "6184491c5aaf4e8bb6427590f4aa1f29",
       "version_major": 2,
       "version_minor": 0
      },
      "text/plain": [
       "HBox(children=(IntProgress(value=0, max=1), HTML(value='')))"
      ]
     },
     "metadata": {},
     "output_type": "display_data"
    },
    {
     "name": "stdout",
     "output_type": "stream",
     "text": [
      "Train Epoch: 1 [2800/5400\t(52%)]\tLoss: 0.872313\n",
      "Train Epoch: 1 [3000/5400\t(56%)]\tLoss: 0.765693\n",
      "Train Epoch: 1 [3200/5400\t(59%)]\tLoss: 1.465274\n",
      "Train Epoch: 1 [3400/5400\t(63%)]\tLoss: 1.035154\n",
      "Train Epoch: 1 [3600/5400\t(67%)]\tLoss: 1.505570\n",
      "Train Epoch: 1 [3800/5400\t(70%)]\tLoss: 1.995263\n",
      "Train Epoch: 1 [4000/5400\t(74%)]\tLoss: 1.155464\n",
      "Train Epoch: 1 [4200/5400\t(78%)]\tLoss: 1.779365\n",
      "Train Epoch: 1 [4400/5400\t(81%)]\tLoss: 1.496602\n",
      "Train Epoch: 1 [4600/5400\t(85%)]\tLoss: 2.168962\n",
      "Train Epoch: 1 [4800/5400\t(89%)]\tLoss: 1.490897\n",
      "Train Epoch: 1 [5000/5400\t(93%)]\tLoss: 1.241107\n",
      "Train Epoch: 1 [5200/5400\t(96%)]\tLoss: 2.115255\n",
      "\n",
      "Worker:Fadi ends training in Global Round:4 |\n",
      "Worker:Rami starts training in Global Round:4 |\n"
     ]
    },
    {
     "data": {
      "application/vnd.jupyter.widget-view+json": {
       "model_id": "e86f58b7c3174205a4fb6f267f378ff6",
       "version_major": 2,
       "version_minor": 0
      },
      "text/plain": [
       "HBox(children=(IntProgress(value=0, max=1), HTML(value='')))"
      ]
     },
     "metadata": {},
     "output_type": "display_data"
    },
    {
     "name": "stdout",
     "output_type": "stream",
     "text": [
      "Train Epoch: 1 [2800/5400\t(52%)]\tLoss: 0.909766\n",
      "Train Epoch: 1 [3000/5400\t(56%)]\tLoss: 1.849546\n",
      "Train Epoch: 1 [3200/5400\t(59%)]\tLoss: 2.048547\n",
      "Train Epoch: 1 [3400/5400\t(63%)]\tLoss: 1.767658\n",
      "Train Epoch: 1 [3600/5400\t(67%)]\tLoss: 1.961289\n",
      "Train Epoch: 1 [3800/5400\t(70%)]\tLoss: 1.053375\n",
      "Train Epoch: 1 [4000/5400\t(74%)]\tLoss: 1.096744\n",
      "Train Epoch: 1 [4200/5400\t(78%)]\tLoss: 1.169791\n",
      "Train Epoch: 1 [4400/5400\t(81%)]\tLoss: 1.292294\n",
      "Train Epoch: 1 [4600/5400\t(85%)]\tLoss: 1.089359\n",
      "Train Epoch: 1 [4800/5400\t(89%)]\tLoss: 2.217502\n",
      "Train Epoch: 1 [5000/5400\t(93%)]\tLoss: 1.336823\n",
      "Train Epoch: 1 [5200/5400\t(96%)]\tLoss: 1.366498\n",
      "\n",
      "Worker:Rami ends training in Global Round:4 |\n",
      "Worker:Ashneet starts training in Global Round:4 |\n"
     ]
    },
    {
     "data": {
      "application/vnd.jupyter.widget-view+json": {
       "model_id": "2b5bf2709078407fb33dcd0765eb65e3",
       "version_major": 2,
       "version_minor": 0
      },
      "text/plain": [
       "HBox(children=(IntProgress(value=0, max=1), HTML(value='')))"
      ]
     },
     "metadata": {},
     "output_type": "display_data"
    },
    {
     "name": "stdout",
     "output_type": "stream",
     "text": [
      "Train Epoch: 1 [2800/5400\t(52%)]\tLoss: 1.095100\n",
      "Train Epoch: 1 [3000/5400\t(56%)]\tLoss: 0.793005\n",
      "Train Epoch: 1 [3200/5400\t(59%)]\tLoss: 1.632268\n",
      "Train Epoch: 1 [3400/5400\t(63%)]\tLoss: 1.146309\n",
      "Train Epoch: 1 [3600/5400\t(67%)]\tLoss: 1.505994\n",
      "Train Epoch: 1 [3800/5400\t(70%)]\tLoss: 2.395412\n",
      "Train Epoch: 1 [4000/5400\t(74%)]\tLoss: 0.764781\n",
      "Train Epoch: 1 [4200/5400\t(78%)]\tLoss: 1.161373\n",
      "Train Epoch: 1 [4400/5400\t(81%)]\tLoss: 1.282493\n",
      "Train Epoch: 1 [4600/5400\t(85%)]\tLoss: 1.553860\n",
      "Train Epoch: 1 [4800/5400\t(89%)]\tLoss: 1.977643\n",
      "Train Epoch: 1 [5000/5400\t(93%)]\tLoss: 0.329587\n",
      "Train Epoch: 1 [5200/5400\t(96%)]\tLoss: 1.215145\n",
      "\n",
      "Worker:Ashneet ends training in Global Round:4 |\n",
      "Worker:Najeeb starts training in Global Round:4 |\n"
     ]
    },
    {
     "data": {
      "application/vnd.jupyter.widget-view+json": {
       "model_id": "86b2a50bb41544fd8fdcd17b0b4def7f",
       "version_major": 2,
       "version_minor": 0
      },
      "text/plain": [
       "HBox(children=(IntProgress(value=0, max=1), HTML(value='')))"
      ]
     },
     "metadata": {},
     "output_type": "display_data"
    },
    {
     "name": "stdout",
     "output_type": "stream",
     "text": [
      "Train Epoch: 1 [2800/5400\t(52%)]\tLoss: 1.879856\n",
      "Train Epoch: 1 [3000/5400\t(56%)]\tLoss: 1.115444\n",
      "Train Epoch: 1 [3200/5400\t(59%)]\tLoss: 1.906411\n",
      "Train Epoch: 1 [3400/5400\t(63%)]\tLoss: 1.728468\n",
      "Train Epoch: 1 [3600/5400\t(67%)]\tLoss: 1.774852\n",
      "Train Epoch: 1 [3800/5400\t(70%)]\tLoss: 1.685601\n",
      "Train Epoch: 1 [4000/5400\t(74%)]\tLoss: 1.037311\n",
      "Train Epoch: 1 [4200/5400\t(78%)]\tLoss: 1.621217\n",
      "Train Epoch: 1 [4400/5400\t(81%)]\tLoss: 1.408723\n",
      "Train Epoch: 1 [4600/5400\t(85%)]\tLoss: 2.712745\n",
      "Train Epoch: 1 [4800/5400\t(89%)]\tLoss: 0.318957\n",
      "Train Epoch: 1 [5000/5400\t(93%)]\tLoss: 1.785434\n",
      "Train Epoch: 1 [5200/5400\t(96%)]\tLoss: 2.429806\n",
      "\n",
      "Worker:Najeeb ends training in Global Round:4 |\n",
      "\n",
      " Current global round local reputations\n",
      "\n",
      "\n",
      "local ratings introduced by accountability manager:  Alberto , with tau value =:  2\n",
      "\n",
      "Worker         Rating                   Distance       \n",
      "\n",
      "Alberto                 1           0.16849328989598852\n",
      "\n",
      "Jesus                   0           0.24138768971764402\n",
      "\n",
      "Michel                  1           0.16976893703307083\n",
      "\n",
      "Fadi                    1           0.17682752584004024\n",
      "\n",
      "Rami                    1            0.1772894849041538\n",
      "\n",
      "Ashneet                 1           0.17292452332049424\n",
      "\n",
      "Najeeb                  1          0.003164610070725024\n",
      "\n",
      "local ratings introduced by accountability manager:  Michel , with tau value =:  2\n",
      "\n",
      "Worker         Rating                   Distance       \n",
      "\n",
      "Alberto                 1           0.16849328989598852\n",
      "\n",
      "Jesus                   0           0.24138768971764402\n",
      "\n",
      "Michel                  1           0.16976893703307083\n",
      "\n",
      "Fadi                    1           0.17682752584004024\n",
      "\n",
      "Rami                    1            0.1772894849041538\n",
      "\n",
      "Ashneet                 1           0.17292452332049424\n",
      "\n",
      "Najeeb                  1          0.003164610070725024\n",
      "\n",
      "local ratings introduced by accountability manager:  David , with tau value =:  2\n",
      "\n",
      "Worker         Rating                   Distance       \n",
      "\n",
      "Alberto                 1           0.16849328989598852\n",
      "\n",
      "Jesus                   0           0.24138768971764402\n",
      "\n",
      "Michel                  1           0.16976893703307083\n",
      "\n",
      "Fadi                    1           0.17682752584004024\n",
      "\n",
      "Rami                    1            0.1772894849041538\n",
      "\n",
      "Ashneet                 1           0.17292452332049424\n",
      "\n",
      "Najeeb                  1          0.003164610070725024\n",
      "\n",
      "Average loss: 1.4923, Accuracy: 7751/10000 (78%)\n",
      "\n",
      "Category   - Accuracy\n",
      "Zero       - 97.8\n",
      "One        - 97.9\n",
      "Two        - 70.4\n",
      "Three      - 87.1\n",
      "Four       - 80.3\n",
      "Five       - 52.2\n",
      "Six        - 91.4\n",
      "Seven      - 86.8\n",
      "Eight      - 57.0\n",
      "Nine       - 49.3\n",
      "\n",
      " | Global Training Round : 5 |\n",
      "\n",
      "Worker:Alberto starts training in Global Round:5 |\n"
     ]
    },
    {
     "data": {
      "application/vnd.jupyter.widget-view+json": {
       "model_id": "98b6ce1f649e48d090df26dc8da85c4e",
       "version_major": 2,
       "version_minor": 0
      },
      "text/plain": [
       "HBox(children=(IntProgress(value=0, max=1), HTML(value='')))"
      ]
     },
     "metadata": {},
     "output_type": "display_data"
    },
    {
     "name": "stdout",
     "output_type": "stream",
     "text": [
      "Train Epoch: 1 [2800/5400\t(52%)]\tLoss: 0.954976\n",
      "Train Epoch: 1 [3000/5400\t(56%)]\tLoss: 1.370864\n",
      "Train Epoch: 1 [3200/5400\t(59%)]\tLoss: 1.768413\n",
      "Train Epoch: 1 [3400/5400\t(63%)]\tLoss: 2.138199\n",
      "Train Epoch: 1 [3600/5400\t(67%)]\tLoss: 1.574147\n",
      "Train Epoch: 1 [3800/5400\t(70%)]\tLoss: 2.499161\n",
      "Train Epoch: 1 [4000/5400\t(74%)]\tLoss: 2.179370\n",
      "Train Epoch: 1 [4200/5400\t(78%)]\tLoss: 1.364948\n",
      "Train Epoch: 1 [4400/5400\t(81%)]\tLoss: 0.830277\n",
      "Train Epoch: 1 [4600/5400\t(85%)]\tLoss: 0.147133\n",
      "Train Epoch: 1 [4800/5400\t(89%)]\tLoss: 1.313116\n",
      "Train Epoch: 1 [5000/5400\t(93%)]\tLoss: 1.048097\n",
      "Train Epoch: 1 [5200/5400\t(96%)]\tLoss: 0.579040\n",
      "\n",
      "Worker:Alberto ends training in Global Round:5 |\n",
      "Worker:Jesus starts training in Global Round:5 |\n",
      "===>Targeted/stealthy attack started by:  Jesus  in Global Round:  5\n"
     ]
    },
    {
     "data": {
      "application/vnd.jupyter.widget-view+json": {
       "model_id": "2f1303fc228449fa9c65e1d9e821fcd4",
       "version_major": 2,
       "version_minor": 0
      },
      "text/plain": [
       "HBox(children=(IntProgress(value=0, max=1), HTML(value='')))"
      ]
     },
     "metadata": {},
     "output_type": "display_data"
    },
    {
     "name": "stdout",
     "output_type": "stream",
     "text": [
      "Train Epoch: 1 [2800/5400\t(52%)]\tLoss: 0.735443\n",
      "Train Epoch: 1 [3000/5400\t(56%)]\tLoss: 0.650081\n",
      "Train Epoch: 1 [3200/5400\t(59%)]\tLoss: 1.952411\n",
      "Train Epoch: 1 [3400/5400\t(63%)]\tLoss: 0.581126\n",
      "Train Epoch: 1 [3600/5400\t(67%)]\tLoss: 1.092325\n",
      "Train Epoch: 1 [3800/5400\t(70%)]\tLoss: 0.749697\n",
      "Train Epoch: 1 [4000/5400\t(74%)]\tLoss: 0.916070\n",
      "Train Epoch: 1 [4200/5400\t(78%)]\tLoss: 1.514239\n",
      "Train Epoch: 1 [4400/5400\t(81%)]\tLoss: 0.258903\n",
      "Train Epoch: 1 [4600/5400\t(85%)]\tLoss: 1.354789\n",
      "Train Epoch: 1 [4800/5400\t(89%)]\tLoss: 1.331104\n",
      "Train Epoch: 1 [5000/5400\t(93%)]\tLoss: 1.220435\n",
      "Train Epoch: 1 [5200/5400\t(96%)]\tLoss: 0.505422\n",
      "\n",
      "Worker:Jesus ends training in Global Round:5 |\n",
      "Worker:Michel starts training in Global Round:5 |\n"
     ]
    },
    {
     "data": {
      "application/vnd.jupyter.widget-view+json": {
       "model_id": "f1fd99a41b244fba90f77a8325d0a010",
       "version_major": 2,
       "version_minor": 0
      },
      "text/plain": [
       "HBox(children=(IntProgress(value=0, max=1), HTML(value='')))"
      ]
     },
     "metadata": {},
     "output_type": "display_data"
    },
    {
     "name": "stdout",
     "output_type": "stream",
     "text": [
      "Train Epoch: 1 [2800/5400\t(52%)]\tLoss: 1.719925\n",
      "Train Epoch: 1 [3000/5400\t(56%)]\tLoss: 1.674372\n",
      "Train Epoch: 1 [3200/5400\t(59%)]\tLoss: 1.151124\n",
      "Train Epoch: 1 [3400/5400\t(63%)]\tLoss: 1.375479\n",
      "Train Epoch: 1 [3600/5400\t(67%)]\tLoss: 0.349882\n",
      "Train Epoch: 1 [3800/5400\t(70%)]\tLoss: 1.007419\n",
      "Train Epoch: 1 [4000/5400\t(74%)]\tLoss: 0.653941\n",
      "Train Epoch: 1 [4200/5400\t(78%)]\tLoss: 2.098023\n",
      "Train Epoch: 1 [4400/5400\t(81%)]\tLoss: 0.188206\n",
      "Train Epoch: 1 [4600/5400\t(85%)]\tLoss: 0.737198\n",
      "Train Epoch: 1 [4800/5400\t(89%)]\tLoss: 0.490317\n",
      "Train Epoch: 1 [5000/5400\t(93%)]\tLoss: 0.578377\n",
      "Train Epoch: 1 [5200/5400\t(96%)]\tLoss: 0.480162\n",
      "\n",
      "Worker:Michel ends training in Global Round:5 |\n",
      "Worker:Fadi starts training in Global Round:5 |\n"
     ]
    },
    {
     "data": {
      "application/vnd.jupyter.widget-view+json": {
       "model_id": "0318c9b031ce403386a3b9457b122e9c",
       "version_major": 2,
       "version_minor": 0
      },
      "text/plain": [
       "HBox(children=(IntProgress(value=0, max=1), HTML(value='')))"
      ]
     },
     "metadata": {},
     "output_type": "display_data"
    },
    {
     "name": "stdout",
     "output_type": "stream",
     "text": [
      "Train Epoch: 1 [2800/5400\t(52%)]\tLoss: 1.255751\n",
      "Train Epoch: 1 [3000/5400\t(56%)]\tLoss: 0.963418\n",
      "Train Epoch: 1 [3200/5400\t(59%)]\tLoss: 1.655982\n",
      "Train Epoch: 1 [3400/5400\t(63%)]\tLoss: 0.315566\n",
      "Train Epoch: 1 [3600/5400\t(67%)]\tLoss: 2.578775\n",
      "Train Epoch: 1 [3800/5400\t(70%)]\tLoss: 0.885445\n",
      "Train Epoch: 1 [4000/5400\t(74%)]\tLoss: 0.671893\n",
      "Train Epoch: 1 [4200/5400\t(78%)]\tLoss: 0.760368\n",
      "Train Epoch: 1 [4400/5400\t(81%)]\tLoss: 2.104377\n",
      "Train Epoch: 1 [4600/5400\t(85%)]\tLoss: 1.322047\n",
      "Train Epoch: 1 [4800/5400\t(89%)]\tLoss: 0.633766\n",
      "Train Epoch: 1 [5000/5400\t(93%)]\tLoss: 0.677819\n",
      "Train Epoch: 1 [5200/5400\t(96%)]\tLoss: 0.968738\n",
      "\n",
      "Worker:Fadi ends training in Global Round:5 |\n",
      "Worker:Rami starts training in Global Round:5 |\n"
     ]
    },
    {
     "data": {
      "application/vnd.jupyter.widget-view+json": {
       "model_id": "44147a975a6c43abb5a36cd50cdb8b5b",
       "version_major": 2,
       "version_minor": 0
      },
      "text/plain": [
       "HBox(children=(IntProgress(value=0, max=1), HTML(value='')))"
      ]
     },
     "metadata": {},
     "output_type": "display_data"
    },
    {
     "name": "stdout",
     "output_type": "stream",
     "text": [
      "Train Epoch: 1 [2800/5400\t(52%)]\tLoss: 0.107012\n",
      "Train Epoch: 1 [3000/5400\t(56%)]\tLoss: 0.594848\n",
      "Train Epoch: 1 [3200/5400\t(59%)]\tLoss: 1.313650\n",
      "Train Epoch: 1 [3400/5400\t(63%)]\tLoss: 1.586819\n",
      "Train Epoch: 1 [3600/5400\t(67%)]\tLoss: 2.136891\n",
      "Train Epoch: 1 [3800/5400\t(70%)]\tLoss: 0.978219\n",
      "Train Epoch: 1 [4000/5400\t(74%)]\tLoss: 0.938034\n",
      "Train Epoch: 1 [4200/5400\t(78%)]\tLoss: 0.503986\n",
      "Train Epoch: 1 [4400/5400\t(81%)]\tLoss: 2.550407\n",
      "Train Epoch: 1 [4600/5400\t(85%)]\tLoss: 0.602466\n",
      "Train Epoch: 1 [4800/5400\t(89%)]\tLoss: 1.112475\n",
      "Train Epoch: 1 [5000/5400\t(93%)]\tLoss: 0.035876\n",
      "Train Epoch: 1 [5200/5400\t(96%)]\tLoss: 0.425106\n",
      "\n",
      "Worker:Rami ends training in Global Round:5 |\n",
      "Worker:Ashneet starts training in Global Round:5 |\n",
      "===>Targeted/stealthy attack started by:  Ashneet  in Global Round:  5\n"
     ]
    },
    {
     "data": {
      "application/vnd.jupyter.widget-view+json": {
       "model_id": "756ea06893c246c9a5dba511cf1f0ccc",
       "version_major": 2,
       "version_minor": 0
      },
      "text/plain": [
       "HBox(children=(IntProgress(value=0, max=1), HTML(value='')))"
      ]
     },
     "metadata": {},
     "output_type": "display_data"
    },
    {
     "name": "stdout",
     "output_type": "stream",
     "text": [
      "Train Epoch: 1 [2800/5400\t(52%)]\tLoss: 0.342208\n",
      "Train Epoch: 1 [3000/5400\t(56%)]\tLoss: 1.349808\n",
      "Train Epoch: 1 [3200/5400\t(59%)]\tLoss: 1.026925\n",
      "Train Epoch: 1 [3400/5400\t(63%)]\tLoss: 1.658256\n",
      "Train Epoch: 1 [3600/5400\t(67%)]\tLoss: 0.482831\n",
      "Train Epoch: 1 [3800/5400\t(70%)]\tLoss: 1.344451\n",
      "Train Epoch: 1 [4000/5400\t(74%)]\tLoss: 0.616859\n",
      "Train Epoch: 1 [4200/5400\t(78%)]\tLoss: 0.221995\n",
      "Train Epoch: 1 [4400/5400\t(81%)]\tLoss: 0.133349\n",
      "Train Epoch: 1 [4600/5400\t(85%)]\tLoss: 1.451068\n",
      "Train Epoch: 1 [4800/5400\t(89%)]\tLoss: 0.942186\n",
      "Train Epoch: 1 [5000/5400\t(93%)]\tLoss: 1.056075\n",
      "Train Epoch: 1 [5200/5400\t(96%)]\tLoss: 0.163042\n",
      "\n",
      "Worker:Ashneet ends training in Global Round:5 |\n",
      "Worker:Najeeb starts training in Global Round:5 |\n"
     ]
    },
    {
     "data": {
      "application/vnd.jupyter.widget-view+json": {
       "model_id": "750332e998904a09b83f9377151ada7e",
       "version_major": 2,
       "version_minor": 0
      },
      "text/plain": [
       "HBox(children=(IntProgress(value=0, max=1), HTML(value='')))"
      ]
     },
     "metadata": {},
     "output_type": "display_data"
    },
    {
     "name": "stdout",
     "output_type": "stream",
     "text": [
      "Train Epoch: 1 [2800/5400\t(52%)]\tLoss: 1.061950\n",
      "Train Epoch: 1 [3000/5400\t(56%)]\tLoss: 0.476569\n",
      "Train Epoch: 1 [3200/5400\t(59%)]\tLoss: 0.889094\n",
      "Train Epoch: 1 [3400/5400\t(63%)]\tLoss: 1.221518\n",
      "Train Epoch: 1 [3600/5400\t(67%)]\tLoss: 1.663472\n",
      "Train Epoch: 1 [3800/5400\t(70%)]\tLoss: 1.360870\n",
      "Train Epoch: 1 [4000/5400\t(74%)]\tLoss: 2.189037\n",
      "Train Epoch: 1 [4200/5400\t(78%)]\tLoss: 0.403679\n",
      "Train Epoch: 1 [4400/5400\t(81%)]\tLoss: 0.823085\n",
      "Train Epoch: 1 [4600/5400\t(85%)]\tLoss: 1.081702\n",
      "Train Epoch: 1 [4800/5400\t(89%)]\tLoss: 0.341148\n",
      "Train Epoch: 1 [5000/5400\t(93%)]\tLoss: 0.463685\n",
      "Train Epoch: 1 [5200/5400\t(96%)]\tLoss: 0.462859\n",
      "\n",
      "Worker:Najeeb ends training in Global Round:5 |\n",
      "\n",
      " Current global round local reputations\n",
      "\n",
      "\n",
      "local ratings introduced by accountability manager:  Alberto , with tau value =:  2\n",
      "\n",
      "Worker         Rating                   Distance       \n",
      "\n",
      "Alberto                 1           0.20554005524079397\n",
      "\n",
      "Jesus                   0            0.2628163792351621\n",
      "\n",
      "Michel                  1           0.21532826394944163\n",
      "\n",
      "Fadi                    1           0.22212898762318414\n",
      "\n",
      "Rami                    1           0.22111775604195658\n",
      "\n",
      "Ashneet                 0            0.2579222463931455\n",
      "\n",
      "Najeeb                  1          0.019403844186204618\n",
      "\n",
      "local ratings introduced by accountability manager:  Michel , with tau value =:  2\n",
      "\n",
      "Worker         Rating                   Distance       \n",
      "\n",
      "Alberto                 1           0.20554005524079397\n",
      "\n",
      "Jesus                   0            0.2628163792351621\n",
      "\n",
      "Michel                  1           0.21532826394944163\n",
      "\n",
      "Fadi                    1           0.22212898762318414\n",
      "\n",
      "Rami                    1           0.22111775604195658\n",
      "\n",
      "Ashneet                 0            0.2579222463931455\n",
      "\n",
      "Najeeb                  1          0.019403844186204618\n",
      "\n",
      "local ratings introduced by accountability manager:  David , with tau value =:  2\n",
      "\n",
      "Worker         Rating                   Distance       \n",
      "\n",
      "Alberto                 1           0.20554005524079397\n",
      "\n",
      "Jesus                   0            0.2628163792351621\n",
      "\n",
      "Michel                  1           0.21532826394944163\n",
      "\n",
      "Fadi                    1           0.22212898762318414\n",
      "\n",
      "Rami                    1           0.22111775604195658\n",
      "\n",
      "Ashneet                 0            0.2579222463931455\n",
      "\n",
      "Najeeb                  1          0.019403844186204618\n",
      "\n",
      "Average loss: 1.6057, Accuracy: 8239/10000 (82%)\n",
      "\n",
      "Category   - Accuracy\n",
      "Zero       - 97.3\n",
      "One        - 97.9\n",
      "Two        - 82.1\n",
      "Three      - 86.0\n",
      "Four       - 78.9\n",
      "Five       - 68.6\n",
      "Six        - 93.6\n",
      "Seven      - 83.2\n",
      "Eight      - 60.1\n",
      "Nine       - 72.7\n",
      "\n",
      " | Global Training Round : 6 |\n",
      "\n",
      "Worker:Alberto starts training in Global Round:6 |\n"
     ]
    },
    {
     "data": {
      "application/vnd.jupyter.widget-view+json": {
       "model_id": "da6be9f05a554f959d39fddfc4140a35",
       "version_major": 2,
       "version_minor": 0
      },
      "text/plain": [
       "HBox(children=(IntProgress(value=0, max=1), HTML(value='')))"
      ]
     },
     "metadata": {},
     "output_type": "display_data"
    },
    {
     "name": "stdout",
     "output_type": "stream",
     "text": [
      "Train Epoch: 1 [2800/5400\t(52%)]\tLoss: 1.252417\n",
      "Train Epoch: 1 [3000/5400\t(56%)]\tLoss: 1.185781\n",
      "Train Epoch: 1 [3200/5400\t(59%)]\tLoss: 1.594401\n",
      "Train Epoch: 1 [3400/5400\t(63%)]\tLoss: 0.973465\n",
      "Train Epoch: 1 [3600/5400\t(67%)]\tLoss: 1.136561\n",
      "Train Epoch: 1 [3800/5400\t(70%)]\tLoss: 1.129106\n",
      "Train Epoch: 1 [4000/5400\t(74%)]\tLoss: 2.432013\n",
      "Train Epoch: 1 [4200/5400\t(78%)]\tLoss: 1.631351\n",
      "Train Epoch: 1 [4400/5400\t(81%)]\tLoss: 1.233207\n",
      "Train Epoch: 1 [4600/5400\t(85%)]\tLoss: 0.362622\n",
      "Train Epoch: 1 [4800/5400\t(89%)]\tLoss: 2.100202\n",
      "Train Epoch: 1 [5000/5400\t(93%)]\tLoss: 0.779444\n",
      "Train Epoch: 1 [5200/5400\t(96%)]\tLoss: 0.933807\n",
      "\n",
      "Worker:Alberto ends training in Global Round:6 |\n",
      "Worker:Jesus starts training in Global Round:6 |\n",
      "===>Targeted/stealthy attack started by:  Jesus  in Global Round:  6\n"
     ]
    },
    {
     "data": {
      "application/vnd.jupyter.widget-view+json": {
       "model_id": "79fd871443014f0883f6ca35fb388da2",
       "version_major": 2,
       "version_minor": 0
      },
      "text/plain": [
       "HBox(children=(IntProgress(value=0, max=1), HTML(value='')))"
      ]
     },
     "metadata": {},
     "output_type": "display_data"
    },
    {
     "name": "stdout",
     "output_type": "stream",
     "text": [
      "Train Epoch: 1 [2800/5400\t(52%)]\tLoss: 1.326717\n",
      "Train Epoch: 1 [3000/5400\t(56%)]\tLoss: 1.274672\n",
      "Train Epoch: 1 [3200/5400\t(59%)]\tLoss: 1.888951\n",
      "Train Epoch: 1 [3400/5400\t(63%)]\tLoss: 1.286283\n",
      "Train Epoch: 1 [3600/5400\t(67%)]\tLoss: 2.494987\n",
      "Train Epoch: 1 [3800/5400\t(70%)]\tLoss: 1.196705\n",
      "Train Epoch: 1 [4000/5400\t(74%)]\tLoss: 1.169729\n",
      "Train Epoch: 1 [4200/5400\t(78%)]\tLoss: 1.030197\n",
      "Train Epoch: 1 [4400/5400\t(81%)]\tLoss: 0.831829\n",
      "Train Epoch: 1 [4600/5400\t(85%)]\tLoss: 0.809558\n",
      "Train Epoch: 1 [4800/5400\t(89%)]\tLoss: 0.835309\n",
      "Train Epoch: 1 [5000/5400\t(93%)]\tLoss: 0.197135\n",
      "Train Epoch: 1 [5200/5400\t(96%)]\tLoss: 0.374789\n",
      "\n",
      "Worker:Jesus ends training in Global Round:6 |\n",
      "Worker:Michel starts training in Global Round:6 |\n"
     ]
    },
    {
     "data": {
      "application/vnd.jupyter.widget-view+json": {
       "model_id": "88df9d1222f9447e834baeeb610f8a02",
       "version_major": 2,
       "version_minor": 0
      },
      "text/plain": [
       "HBox(children=(IntProgress(value=0, max=1), HTML(value='')))"
      ]
     },
     "metadata": {},
     "output_type": "display_data"
    },
    {
     "name": "stdout",
     "output_type": "stream",
     "text": [
      "Train Epoch: 1 [2800/5400\t(52%)]\tLoss: 1.334710\n",
      "Train Epoch: 1 [3000/5400\t(56%)]\tLoss: 1.664195\n",
      "Train Epoch: 1 [3200/5400\t(59%)]\tLoss: 0.633878\n",
      "Train Epoch: 1 [3400/5400\t(63%)]\tLoss: 1.558907\n",
      "Train Epoch: 1 [3600/5400\t(67%)]\tLoss: 0.918679\n",
      "Train Epoch: 1 [3800/5400\t(70%)]\tLoss: 1.231313\n",
      "Train Epoch: 1 [4000/5400\t(74%)]\tLoss: 0.714439\n",
      "Train Epoch: 1 [4200/5400\t(78%)]\tLoss: 0.948284\n",
      "Train Epoch: 1 [4400/5400\t(81%)]\tLoss: 0.591949\n",
      "Train Epoch: 1 [4600/5400\t(85%)]\tLoss: 0.954965\n",
      "Train Epoch: 1 [4800/5400\t(89%)]\tLoss: 0.370509\n",
      "Train Epoch: 1 [5000/5400\t(93%)]\tLoss: 1.479030\n",
      "Train Epoch: 1 [5200/5400\t(96%)]\tLoss: 0.217636\n",
      "\n",
      "Worker:Michel ends training in Global Round:6 |\n",
      "Worker:Fadi starts training in Global Round:6 |\n"
     ]
    },
    {
     "data": {
      "application/vnd.jupyter.widget-view+json": {
       "model_id": "55922e48a29d4fd59675f8007a6180aa",
       "version_major": 2,
       "version_minor": 0
      },
      "text/plain": [
       "HBox(children=(IntProgress(value=0, max=1), HTML(value='')))"
      ]
     },
     "metadata": {},
     "output_type": "display_data"
    },
    {
     "name": "stdout",
     "output_type": "stream",
     "text": [
      "Train Epoch: 1 [2800/5400\t(52%)]\tLoss: 1.108469\n",
      "Train Epoch: 1 [3000/5400\t(56%)]\tLoss: 0.994090\n",
      "Train Epoch: 1 [3200/5400\t(59%)]\tLoss: 0.620465\n",
      "Train Epoch: 1 [3400/5400\t(63%)]\tLoss: 0.525017\n",
      "Train Epoch: 1 [3600/5400\t(67%)]\tLoss: 2.030877\n",
      "Train Epoch: 1 [3800/5400\t(70%)]\tLoss: 0.859135\n",
      "Train Epoch: 1 [4000/5400\t(74%)]\tLoss: 0.840568\n",
      "Train Epoch: 1 [4200/5400\t(78%)]\tLoss: 0.963055\n",
      "Train Epoch: 1 [4400/5400\t(81%)]\tLoss: 0.522584\n",
      "Train Epoch: 1 [4600/5400\t(85%)]\tLoss: 0.761037\n",
      "Train Epoch: 1 [4800/5400\t(89%)]\tLoss: 0.283101\n",
      "Train Epoch: 1 [5000/5400\t(93%)]\tLoss: 1.750525\n",
      "Train Epoch: 1 [5200/5400\t(96%)]\tLoss: 0.876979\n",
      "\n",
      "Worker:Fadi ends training in Global Round:6 |\n",
      "Worker:Rami starts training in Global Round:6 |\n"
     ]
    },
    {
     "data": {
      "application/vnd.jupyter.widget-view+json": {
       "model_id": "b850930cad28496992eb6c0d284fb53f",
       "version_major": 2,
       "version_minor": 0
      },
      "text/plain": [
       "HBox(children=(IntProgress(value=0, max=1), HTML(value='')))"
      ]
     },
     "metadata": {},
     "output_type": "display_data"
    },
    {
     "name": "stdout",
     "output_type": "stream",
     "text": [
      "Train Epoch: 1 [2800/5400\t(52%)]\tLoss: 1.366483\n",
      "Train Epoch: 1 [3000/5400\t(56%)]\tLoss: 1.428994\n",
      "Train Epoch: 1 [3200/5400\t(59%)]\tLoss: 1.395996\n",
      "Train Epoch: 1 [3400/5400\t(63%)]\tLoss: 2.497283\n",
      "Train Epoch: 1 [3600/5400\t(67%)]\tLoss: 0.305769\n",
      "Train Epoch: 1 [3800/5400\t(70%)]\tLoss: 0.048571\n",
      "Train Epoch: 1 [4000/5400\t(74%)]\tLoss: 1.346416\n",
      "Train Epoch: 1 [4200/5400\t(78%)]\tLoss: 1.578560\n",
      "Train Epoch: 1 [4400/5400\t(81%)]\tLoss: 0.952890\n",
      "Train Epoch: 1 [4600/5400\t(85%)]\tLoss: 2.306116\n",
      "Train Epoch: 1 [4800/5400\t(89%)]\tLoss: 1.274462\n",
      "Train Epoch: 1 [5000/5400\t(93%)]\tLoss: 1.232194\n",
      "Train Epoch: 1 [5200/5400\t(96%)]\tLoss: 1.079220\n",
      "\n",
      "Worker:Rami ends training in Global Round:6 |\n",
      "Worker:Ashneet starts training in Global Round:6 |\n"
     ]
    },
    {
     "data": {
      "application/vnd.jupyter.widget-view+json": {
       "model_id": "75231ae731a1477d97bd28dbe1f0e776",
       "version_major": 2,
       "version_minor": 0
      },
      "text/plain": [
       "HBox(children=(IntProgress(value=0, max=1), HTML(value='')))"
      ]
     },
     "metadata": {},
     "output_type": "display_data"
    },
    {
     "name": "stdout",
     "output_type": "stream",
     "text": [
      "Train Epoch: 1 [2800/5400\t(52%)]\tLoss: 0.943684\n",
      "Train Epoch: 1 [3000/5400\t(56%)]\tLoss: 0.637040\n",
      "Train Epoch: 1 [3200/5400\t(59%)]\tLoss: 0.409886\n",
      "Train Epoch: 1 [3400/5400\t(63%)]\tLoss: 0.795464\n",
      "Train Epoch: 1 [3600/5400\t(67%)]\tLoss: 1.920637\n",
      "Train Epoch: 1 [3800/5400\t(70%)]\tLoss: 1.929931\n",
      "Train Epoch: 1 [4000/5400\t(74%)]\tLoss: 0.347343\n",
      "Train Epoch: 1 [4200/5400\t(78%)]\tLoss: 0.596939\n",
      "Train Epoch: 1 [4400/5400\t(81%)]\tLoss: 1.050682\n",
      "Train Epoch: 1 [4600/5400\t(85%)]\tLoss: 1.308133\n",
      "Train Epoch: 1 [4800/5400\t(89%)]\tLoss: 0.142669\n",
      "Train Epoch: 1 [5000/5400\t(93%)]\tLoss: 0.871017\n",
      "Train Epoch: 1 [5200/5400\t(96%)]\tLoss: 0.965665\n",
      "\n",
      "Worker:Ashneet ends training in Global Round:6 |\n",
      "Worker:Najeeb starts training in Global Round:6 |\n"
     ]
    },
    {
     "data": {
      "application/vnd.jupyter.widget-view+json": {
       "model_id": "6246a3ed537f4dcca148adc699b0e2a7",
       "version_major": 2,
       "version_minor": 0
      },
      "text/plain": [
       "HBox(children=(IntProgress(value=0, max=1), HTML(value='')))"
      ]
     },
     "metadata": {},
     "output_type": "display_data"
    },
    {
     "name": "stdout",
     "output_type": "stream",
     "text": [
      "Train Epoch: 1 [2800/5400\t(52%)]\tLoss: 0.953013\n",
      "Train Epoch: 1 [3000/5400\t(56%)]\tLoss: 1.364877\n",
      "Train Epoch: 1 [3200/5400\t(59%)]\tLoss: 1.015643\n",
      "Train Epoch: 1 [3400/5400\t(63%)]\tLoss: 0.833794\n",
      "Train Epoch: 1 [3600/5400\t(67%)]\tLoss: 0.235340\n",
      "Train Epoch: 1 [3800/5400\t(70%)]\tLoss: 0.639214\n",
      "Train Epoch: 1 [4000/5400\t(74%)]\tLoss: 1.099161\n",
      "Train Epoch: 1 [4200/5400\t(78%)]\tLoss: 2.711532\n",
      "Train Epoch: 1 [4400/5400\t(81%)]\tLoss: 0.050278\n",
      "Train Epoch: 1 [4600/5400\t(85%)]\tLoss: 1.890022\n",
      "Train Epoch: 1 [4800/5400\t(89%)]\tLoss: 0.974903\n",
      "Train Epoch: 1 [5000/5400\t(93%)]\tLoss: 0.436274\n",
      "Train Epoch: 1 [5200/5400\t(96%)]\tLoss: 0.478780\n",
      "\n",
      "Worker:Najeeb ends training in Global Round:6 |\n",
      "\n",
      " Current global round local reputations\n",
      "\n",
      "\n",
      "local ratings introduced by accountability manager:  Alberto , with tau value =:  2\n",
      "\n",
      "Worker         Rating                   Distance       \n",
      "\n",
      "Alberto                 1           0.21396284311819622\n",
      "\n",
      "Jesus                   0            0.2397309984087423\n",
      "\n",
      "Michel                  1         0.0001424384659086695\n",
      "\n",
      "Fadi                    1           0.20850785992413395\n",
      "\n",
      "Rami                    1           0.21279686783479212\n",
      "\n",
      "Ashneet                 1           0.21052309418837634\n",
      "\n",
      "Najeeb                  1            0.2090113713951217\n",
      "\n",
      "local ratings introduced by accountability manager:  Michel , with tau value =:  2\n",
      "\n",
      "Worker         Rating                   Distance       \n",
      "\n",
      "Alberto                 1           0.21396284311819622\n",
      "\n",
      "Jesus                   0            0.2397309984087423\n",
      "\n",
      "Michel                  1         0.0001424384659086695\n",
      "\n",
      "Fadi                    1           0.20850785992413395\n",
      "\n",
      "Rami                    1           0.21279686783479212\n",
      "\n",
      "Ashneet                 1           0.21052309418837634\n",
      "\n",
      "Najeeb                  1            0.2090113713951217\n",
      "\n",
      "local ratings introduced by accountability manager:  David , with tau value =:  2\n",
      "\n",
      "Worker         Rating                   Distance       \n",
      "\n",
      "Alberto                 1           0.21396284311819622\n",
      "\n",
      "Jesus                   0            0.2397309984087423\n",
      "\n",
      "Michel                  1         0.0001424384659086695\n",
      "\n",
      "Fadi                    1           0.20850785992413395\n",
      "\n",
      "Rami                    1           0.21279686783479212\n",
      "\n",
      "Ashneet                 1           0.21052309418837634\n",
      "\n",
      "Najeeb                  1            0.2090113713951217\n",
      "\n",
      "Average loss: 1.0593, Accuracy: 8298/10000 (83%)\n",
      "\n",
      "Category   - Accuracy\n",
      "Zero       - 97.6\n",
      "One        - 97.2\n",
      "Two        - 86.5\n",
      "Three      - 86.4\n",
      "Four       - 87.7\n",
      "Five       - 63.8\n",
      "Six        - 92.8\n",
      "Seven      - 85.2\n",
      "Eight      - 65.4\n",
      "Nine       - 63.5\n",
      "\n",
      " | Global Training Round : 7 |\n",
      "\n",
      "Worker:Alberto starts training in Global Round:7 |\n"
     ]
    },
    {
     "data": {
      "application/vnd.jupyter.widget-view+json": {
       "model_id": "2df4409e223e4ded8f59d6c2bab0c306",
       "version_major": 2,
       "version_minor": 0
      },
      "text/plain": [
       "HBox(children=(IntProgress(value=0, max=1), HTML(value='')))"
      ]
     },
     "metadata": {},
     "output_type": "display_data"
    },
    {
     "name": "stdout",
     "output_type": "stream",
     "text": [
      "Train Epoch: 1 [2800/5400\t(52%)]\tLoss: 0.746684\n",
      "Train Epoch: 1 [3000/5400\t(56%)]\tLoss: 0.923062\n",
      "Train Epoch: 1 [3200/5400\t(59%)]\tLoss: 0.107728\n",
      "Train Epoch: 1 [3400/5400\t(63%)]\tLoss: 0.546673\n",
      "Train Epoch: 1 [3600/5400\t(67%)]\tLoss: 0.269155\n",
      "Train Epoch: 1 [3800/5400\t(70%)]\tLoss: 1.351012\n",
      "Train Epoch: 1 [4000/5400\t(74%)]\tLoss: 0.166637\n",
      "Train Epoch: 1 [4200/5400\t(78%)]\tLoss: 0.661714\n",
      "Train Epoch: 1 [4400/5400\t(81%)]\tLoss: 1.300375\n",
      "Train Epoch: 1 [4600/5400\t(85%)]\tLoss: 1.127731\n",
      "Train Epoch: 1 [4800/5400\t(89%)]\tLoss: 0.654428\n",
      "Train Epoch: 1 [5000/5400\t(93%)]\tLoss: 0.933705\n",
      "Train Epoch: 1 [5200/5400\t(96%)]\tLoss: 0.567526\n",
      "\n",
      "Worker:Alberto ends training in Global Round:7 |\n",
      "Worker:Jesus starts training in Global Round:7 |\n",
      "===>Targeted/stealthy attack started by:  Jesus  in Global Round:  7\n"
     ]
    },
    {
     "data": {
      "application/vnd.jupyter.widget-view+json": {
       "model_id": "61a12bee613f46e48352abd096a76531",
       "version_major": 2,
       "version_minor": 0
      },
      "text/plain": [
       "HBox(children=(IntProgress(value=0, max=1), HTML(value='')))"
      ]
     },
     "metadata": {},
     "output_type": "display_data"
    },
    {
     "name": "stdout",
     "output_type": "stream",
     "text": [
      "Train Epoch: 1 [2800/5400\t(52%)]\tLoss: 0.606284\n",
      "Train Epoch: 1 [3000/5400\t(56%)]\tLoss: 0.876646\n",
      "Train Epoch: 1 [3200/5400\t(59%)]\tLoss: 1.624829\n",
      "Train Epoch: 1 [3400/5400\t(63%)]\tLoss: 0.074618\n",
      "Train Epoch: 1 [3600/5400\t(67%)]\tLoss: 0.906767\n",
      "Train Epoch: 1 [3800/5400\t(70%)]\tLoss: 0.309975\n",
      "Train Epoch: 1 [4000/5400\t(74%)]\tLoss: 0.379325\n",
      "Train Epoch: 1 [4200/5400\t(78%)]\tLoss: 0.940994\n",
      "Train Epoch: 1 [4400/5400\t(81%)]\tLoss: 0.528476\n",
      "Train Epoch: 1 [4600/5400\t(85%)]\tLoss: 0.476725\n",
      "Train Epoch: 1 [4800/5400\t(89%)]\tLoss: 0.225477\n",
      "Train Epoch: 1 [5000/5400\t(93%)]\tLoss: 0.748823\n",
      "Train Epoch: 1 [5200/5400\t(96%)]\tLoss: 0.169238\n",
      "\n",
      "Worker:Jesus ends training in Global Round:7 |\n",
      "Worker:Michel starts training in Global Round:7 |\n"
     ]
    },
    {
     "data": {
      "application/vnd.jupyter.widget-view+json": {
       "model_id": "478d17a0835e44c0b57a7d1f478cdde5",
       "version_major": 2,
       "version_minor": 0
      },
      "text/plain": [
       "HBox(children=(IntProgress(value=0, max=1), HTML(value='')))"
      ]
     },
     "metadata": {},
     "output_type": "display_data"
    },
    {
     "name": "stdout",
     "output_type": "stream",
     "text": [
      "Train Epoch: 1 [2800/5400\t(52%)]\tLoss: 1.125834\n",
      "Train Epoch: 1 [3000/5400\t(56%)]\tLoss: 1.458161\n",
      "Train Epoch: 1 [3200/5400\t(59%)]\tLoss: 0.205091\n",
      "Train Epoch: 1 [3400/5400\t(63%)]\tLoss: 0.775971\n",
      "Train Epoch: 1 [3600/5400\t(67%)]\tLoss: 0.821141\n",
      "Train Epoch: 1 [3800/5400\t(70%)]\tLoss: 0.327852\n",
      "Train Epoch: 1 [4000/5400\t(74%)]\tLoss: 0.330317\n",
      "Train Epoch: 1 [4200/5400\t(78%)]\tLoss: 0.738083\n",
      "Train Epoch: 1 [4400/5400\t(81%)]\tLoss: 0.528771\n",
      "Train Epoch: 1 [4600/5400\t(85%)]\tLoss: 0.060677\n",
      "Train Epoch: 1 [4800/5400\t(89%)]\tLoss: 1.093942\n",
      "Train Epoch: 1 [5000/5400\t(93%)]\tLoss: 0.226818\n",
      "Train Epoch: 1 [5200/5400\t(96%)]\tLoss: 1.610848\n",
      "\n",
      "Worker:Michel ends training in Global Round:7 |\n",
      "Worker:Fadi starts training in Global Round:7 |\n"
     ]
    },
    {
     "data": {
      "application/vnd.jupyter.widget-view+json": {
       "model_id": "9e6df2a9e7684726afb41c232b9060e0",
       "version_major": 2,
       "version_minor": 0
      },
      "text/plain": [
       "HBox(children=(IntProgress(value=0, max=1), HTML(value='')))"
      ]
     },
     "metadata": {},
     "output_type": "display_data"
    },
    {
     "name": "stdout",
     "output_type": "stream",
     "text": [
      "Train Epoch: 1 [2800/5400\t(52%)]\tLoss: 0.701270\n",
      "Train Epoch: 1 [3000/5400\t(56%)]\tLoss: 0.551627\n",
      "Train Epoch: 1 [3200/5400\t(59%)]\tLoss: 1.221027\n",
      "Train Epoch: 1 [3400/5400\t(63%)]\tLoss: 0.735763\n",
      "Train Epoch: 1 [3600/5400\t(67%)]\tLoss: 0.650393\n",
      "Train Epoch: 1 [3800/5400\t(70%)]\tLoss: 0.400235\n",
      "Train Epoch: 1 [4000/5400\t(74%)]\tLoss: 0.812917\n",
      "Train Epoch: 1 [4200/5400\t(78%)]\tLoss: 0.506258\n",
      "Train Epoch: 1 [4400/5400\t(81%)]\tLoss: 0.104860\n",
      "Train Epoch: 1 [4600/5400\t(85%)]\tLoss: 0.496268\n",
      "Train Epoch: 1 [4800/5400\t(89%)]\tLoss: 1.071127\n",
      "Train Epoch: 1 [5000/5400\t(93%)]\tLoss: 1.846553\n",
      "Train Epoch: 1 [5200/5400\t(96%)]\tLoss: 0.079029\n",
      "\n",
      "Worker:Fadi ends training in Global Round:7 |\n",
      "Worker:Rami starts training in Global Round:7 |\n"
     ]
    },
    {
     "data": {
      "application/vnd.jupyter.widget-view+json": {
       "model_id": "56237ecf434f48a7ab28c8f53abe59da",
       "version_major": 2,
       "version_minor": 0
      },
      "text/plain": [
       "HBox(children=(IntProgress(value=0, max=1), HTML(value='')))"
      ]
     },
     "metadata": {},
     "output_type": "display_data"
    },
    {
     "name": "stdout",
     "output_type": "stream",
     "text": [
      "Train Epoch: 1 [2800/5400\t(52%)]\tLoss: 1.729138\n",
      "Train Epoch: 1 [3000/5400\t(56%)]\tLoss: 0.666721\n",
      "Train Epoch: 1 [3200/5400\t(59%)]\tLoss: 0.682792\n",
      "Train Epoch: 1 [3400/5400\t(63%)]\tLoss: 0.698008\n",
      "Train Epoch: 1 [3600/5400\t(67%)]\tLoss: 1.418182\n",
      "Train Epoch: 1 [3800/5400\t(70%)]\tLoss: 1.747884\n",
      "Train Epoch: 1 [4000/5400\t(74%)]\tLoss: 0.654835\n",
      "Train Epoch: 1 [4200/5400\t(78%)]\tLoss: 0.434600\n",
      "Train Epoch: 1 [4400/5400\t(81%)]\tLoss: 1.298096\n",
      "Train Epoch: 1 [4600/5400\t(85%)]\tLoss: 2.153284\n",
      "Train Epoch: 1 [4800/5400\t(89%)]\tLoss: 0.229161\n",
      "Train Epoch: 1 [5000/5400\t(93%)]\tLoss: 3.028318\n",
      "Train Epoch: 1 [5200/5400\t(96%)]\tLoss: 0.335240\n",
      "\n",
      "Worker:Rami ends training in Global Round:7 |\n",
      "Worker:Ashneet starts training in Global Round:7 |\n"
     ]
    },
    {
     "data": {
      "application/vnd.jupyter.widget-view+json": {
       "model_id": "79117fbffb58430dbbefcb24a9f5fd95",
       "version_major": 2,
       "version_minor": 0
      },
      "text/plain": [
       "HBox(children=(IntProgress(value=0, max=1), HTML(value='')))"
      ]
     },
     "metadata": {},
     "output_type": "display_data"
    },
    {
     "name": "stdout",
     "output_type": "stream",
     "text": [
      "Train Epoch: 1 [2800/5400\t(52%)]\tLoss: 0.140286\n",
      "Train Epoch: 1 [3000/5400\t(56%)]\tLoss: 1.844651\n",
      "Train Epoch: 1 [3200/5400\t(59%)]\tLoss: 1.337577\n",
      "Train Epoch: 1 [3400/5400\t(63%)]\tLoss: 0.701977\n",
      "Train Epoch: 1 [3600/5400\t(67%)]\tLoss: 1.294370\n",
      "Train Epoch: 1 [3800/5400\t(70%)]\tLoss: 2.111726\n",
      "Train Epoch: 1 [4000/5400\t(74%)]\tLoss: 1.321268\n",
      "Train Epoch: 1 [4200/5400\t(78%)]\tLoss: 0.869967\n",
      "Train Epoch: 1 [4400/5400\t(81%)]\tLoss: 0.085689\n",
      "Train Epoch: 1 [4600/5400\t(85%)]\tLoss: 0.390785\n",
      "Train Epoch: 1 [4800/5400\t(89%)]\tLoss: 0.906133\n",
      "Train Epoch: 1 [5000/5400\t(93%)]\tLoss: 0.617760\n",
      "Train Epoch: 1 [5200/5400\t(96%)]\tLoss: 1.336416\n",
      "\n",
      "Worker:Ashneet ends training in Global Round:7 |\n",
      "Worker:Najeeb starts training in Global Round:7 |\n"
     ]
    },
    {
     "data": {
      "application/vnd.jupyter.widget-view+json": {
       "model_id": "388dbbaf19084915bc71da96b82218bd",
       "version_major": 2,
       "version_minor": 0
      },
      "text/plain": [
       "HBox(children=(IntProgress(value=0, max=1), HTML(value='')))"
      ]
     },
     "metadata": {},
     "output_type": "display_data"
    },
    {
     "name": "stdout",
     "output_type": "stream",
     "text": [
      "Train Epoch: 1 [2800/5400\t(52%)]\tLoss: 2.074852\n",
      "Train Epoch: 1 [3000/5400\t(56%)]\tLoss: 1.089034\n",
      "Train Epoch: 1 [3200/5400\t(59%)]\tLoss: 0.759854\n",
      "Train Epoch: 1 [3400/5400\t(63%)]\tLoss: 0.379618\n",
      "Train Epoch: 1 [3600/5400\t(67%)]\tLoss: 1.270438\n",
      "Train Epoch: 1 [3800/5400\t(70%)]\tLoss: 1.141606\n",
      "Train Epoch: 1 [4000/5400\t(74%)]\tLoss: 1.125010\n",
      "Train Epoch: 1 [4200/5400\t(78%)]\tLoss: 0.872556\n",
      "Train Epoch: 1 [4400/5400\t(81%)]\tLoss: 1.516510\n",
      "Train Epoch: 1 [4600/5400\t(85%)]\tLoss: 0.971185\n",
      "Train Epoch: 1 [4800/5400\t(89%)]\tLoss: 0.642182\n",
      "Train Epoch: 1 [5000/5400\t(93%)]\tLoss: 0.529836\n",
      "Train Epoch: 1 [5200/5400\t(96%)]\tLoss: 1.787400\n",
      "\n",
      "Worker:Najeeb ends training in Global Round:7 |\n",
      "\n",
      " Current global round local reputations\n",
      "\n",
      "\n",
      "local ratings introduced by accountability manager:  Alberto , with tau value =:  2\n",
      "\n",
      "Worker         Rating                   Distance       \n",
      "\n",
      "Alberto                 1           0.24260504441571398\n",
      "\n",
      "Jesus                   0           0.26717695752639026\n",
      "\n",
      "Michel                  1          0.017656543037206814\n",
      "\n",
      "Fadi                    1           0.24454633821242897\n",
      "\n",
      "Rami                    1           0.24545241834050183\n",
      "\n",
      "Ashneet                 0           0.25235455733637696\n",
      "\n",
      "Najeeb                  1           0.22944944806634904\n",
      "\n",
      "local ratings introduced by accountability manager:  Michel , with tau value =:  2\n",
      "\n",
      "Worker         Rating                   Distance       \n",
      "\n",
      "Alberto                 1           0.24260504441571398\n",
      "\n",
      "Jesus                   0           0.26717695752639026\n",
      "\n",
      "Michel                  1          0.017656543037206814\n",
      "\n",
      "Fadi                    1           0.24454633821242897\n",
      "\n",
      "Rami                    1           0.24545241834050183\n",
      "\n",
      "Ashneet                 0           0.25235455733637696\n",
      "\n",
      "Najeeb                  1           0.22944944806634904\n",
      "\n",
      "local ratings introduced by accountability manager:  David , with tau value =:  2\n",
      "\n",
      "Worker         Rating                   Distance       \n",
      "\n",
      "Alberto                 1           0.24260504441571398\n",
      "\n",
      "Jesus                   0           0.26717695752639026\n",
      "\n",
      "Michel                  1          0.017656543037206814\n",
      "\n",
      "Fadi                    1           0.24454633821242897\n",
      "\n",
      "Rami                    1           0.24545241834050183\n",
      "\n",
      "Ashneet                 0           0.25235455733637696\n",
      "\n",
      "Najeeb                  1           0.22944944806634904\n",
      "\n",
      "Average loss: 1.4326, Accuracy: 8493/10000 (85%)\n",
      "\n",
      "Category   - Accuracy\n",
      "Zero       - 97.3\n",
      "One        - 98.2\n",
      "Two        - 88.6\n",
      "Three      - 86.0\n",
      "Four       - 83.9\n",
      "Five       - 74.4\n",
      "Six        - 93.9\n",
      "Seven      - 84.9\n",
      "Eight      - 66.2\n",
      "Nine       - 72.7\n",
      "\n",
      " | Global Training Round : 8 |\n",
      "\n",
      "Worker:Alberto starts training in Global Round:8 |\n"
     ]
    },
    {
     "data": {
      "application/vnd.jupyter.widget-view+json": {
       "model_id": "5e563db35b8940d499cf541d2a8eb085",
       "version_major": 2,
       "version_minor": 0
      },
      "text/plain": [
       "HBox(children=(IntProgress(value=0, max=1), HTML(value='')))"
      ]
     },
     "metadata": {},
     "output_type": "display_data"
    },
    {
     "name": "stdout",
     "output_type": "stream",
     "text": [
      "Train Epoch: 1 [2800/5400\t(52%)]\tLoss: 1.155884\n",
      "Train Epoch: 1 [3000/5400\t(56%)]\tLoss: 1.326095\n",
      "Train Epoch: 1 [3200/5400\t(59%)]\tLoss: 0.474767\n",
      "Train Epoch: 1 [3400/5400\t(63%)]\tLoss: 0.480315\n",
      "Train Epoch: 1 [3600/5400\t(67%)]\tLoss: 0.255905\n",
      "Train Epoch: 1 [3800/5400\t(70%)]\tLoss: 1.833258\n",
      "Train Epoch: 1 [4000/5400\t(74%)]\tLoss: 0.631152\n",
      "Train Epoch: 1 [4200/5400\t(78%)]\tLoss: 0.390871\n",
      "Train Epoch: 1 [4400/5400\t(81%)]\tLoss: 0.855269\n",
      "Train Epoch: 1 [4600/5400\t(85%)]\tLoss: 1.017773\n",
      "Train Epoch: 1 [4800/5400\t(89%)]\tLoss: 2.656323\n",
      "Train Epoch: 1 [5000/5400\t(93%)]\tLoss: 0.462805\n",
      "Train Epoch: 1 [5200/5400\t(96%)]\tLoss: 0.591493\n",
      "\n",
      "Worker:Alberto ends training in Global Round:8 |\n",
      "Worker:Jesus starts training in Global Round:8 |\n",
      "===>Targeted/stealthy attack started by:  Jesus  in Global Round:  8\n"
     ]
    },
    {
     "data": {
      "application/vnd.jupyter.widget-view+json": {
       "model_id": "d3601f9ad8aa4f3aa6108902ed2c8982",
       "version_major": 2,
       "version_minor": 0
      },
      "text/plain": [
       "HBox(children=(IntProgress(value=0, max=1), HTML(value='')))"
      ]
     },
     "metadata": {},
     "output_type": "display_data"
    },
    {
     "name": "stdout",
     "output_type": "stream",
     "text": [
      "Train Epoch: 1 [2800/5400\t(52%)]\tLoss: 0.548541\n",
      "Train Epoch: 1 [3000/5400\t(56%)]\tLoss: 3.371739\n",
      "Train Epoch: 1 [3200/5400\t(59%)]\tLoss: 1.323000\n",
      "Train Epoch: 1 [3400/5400\t(63%)]\tLoss: 0.596833\n",
      "Train Epoch: 1 [3600/5400\t(67%)]\tLoss: 2.536332\n",
      "Train Epoch: 1 [3800/5400\t(70%)]\tLoss: 0.967544\n",
      "Train Epoch: 1 [4000/5400\t(74%)]\tLoss: 2.090039\n",
      "Train Epoch: 1 [4200/5400\t(78%)]\tLoss: 1.522277\n",
      "Train Epoch: 1 [4400/5400\t(81%)]\tLoss: 0.367802\n",
      "Train Epoch: 1 [4600/5400\t(85%)]\tLoss: 1.047048\n",
      "Train Epoch: 1 [4800/5400\t(89%)]\tLoss: 0.268593\n",
      "Train Epoch: 1 [5000/5400\t(93%)]\tLoss: 2.684964\n",
      "Train Epoch: 1 [5200/5400\t(96%)]\tLoss: 0.661737\n",
      "\n",
      "Worker:Jesus ends training in Global Round:8 |\n",
      "Worker:Michel starts training in Global Round:8 |\n"
     ]
    },
    {
     "data": {
      "application/vnd.jupyter.widget-view+json": {
       "model_id": "4180cd3818494b7eb846592a30b4cbd0",
       "version_major": 2,
       "version_minor": 0
      },
      "text/plain": [
       "HBox(children=(IntProgress(value=0, max=1), HTML(value='')))"
      ]
     },
     "metadata": {},
     "output_type": "display_data"
    },
    {
     "name": "stdout",
     "output_type": "stream",
     "text": [
      "Train Epoch: 1 [2800/5400\t(52%)]\tLoss: 1.430670\n",
      "Train Epoch: 1 [3000/5400\t(56%)]\tLoss: 0.214907\n",
      "Train Epoch: 1 [3200/5400\t(59%)]\tLoss: 0.545356\n",
      "Train Epoch: 1 [3400/5400\t(63%)]\tLoss: 1.375873\n",
      "Train Epoch: 1 [3600/5400\t(67%)]\tLoss: 0.489470\n",
      "Train Epoch: 1 [3800/5400\t(70%)]\tLoss: 0.816573\n",
      "Train Epoch: 1 [4000/5400\t(74%)]\tLoss: 1.292382\n",
      "Train Epoch: 1 [4200/5400\t(78%)]\tLoss: 1.499760\n",
      "Train Epoch: 1 [4400/5400\t(81%)]\tLoss: 1.252071\n",
      "Train Epoch: 1 [4600/5400\t(85%)]\tLoss: 0.178158\n",
      "Train Epoch: 1 [4800/5400\t(89%)]\tLoss: 1.419443\n",
      "Train Epoch: 1 [5000/5400\t(93%)]\tLoss: 0.455862\n",
      "Train Epoch: 1 [5200/5400\t(96%)]\tLoss: 0.675786\n",
      "\n",
      "Worker:Michel ends training in Global Round:8 |\n",
      "Worker:Fadi starts training in Global Round:8 |\n"
     ]
    },
    {
     "data": {
      "application/vnd.jupyter.widget-view+json": {
       "model_id": "041f9fb067dc416a99132d21e3757f0c",
       "version_major": 2,
       "version_minor": 0
      },
      "text/plain": [
       "HBox(children=(IntProgress(value=0, max=1), HTML(value='')))"
      ]
     },
     "metadata": {},
     "output_type": "display_data"
    },
    {
     "name": "stdout",
     "output_type": "stream",
     "text": [
      "Train Epoch: 1 [2800/5400\t(52%)]\tLoss: 1.074536\n",
      "Train Epoch: 1 [3000/5400\t(56%)]\tLoss: 1.666601\n",
      "Train Epoch: 1 [3200/5400\t(59%)]\tLoss: 1.085417\n",
      "Train Epoch: 1 [3400/5400\t(63%)]\tLoss: 0.586619\n",
      "Train Epoch: 1 [3600/5400\t(67%)]\tLoss: 1.465583\n",
      "Train Epoch: 1 [3800/5400\t(70%)]\tLoss: 1.028910\n",
      "Train Epoch: 1 [4000/5400\t(74%)]\tLoss: 0.570650\n",
      "Train Epoch: 1 [4200/5400\t(78%)]\tLoss: 0.175223\n",
      "Train Epoch: 1 [4400/5400\t(81%)]\tLoss: 0.187046\n",
      "Train Epoch: 1 [4600/5400\t(85%)]\tLoss: 0.728852\n",
      "Train Epoch: 1 [4800/5400\t(89%)]\tLoss: 1.090150\n",
      "Train Epoch: 1 [5000/5400\t(93%)]\tLoss: 1.263408\n",
      "Train Epoch: 1 [5200/5400\t(96%)]\tLoss: 1.280923\n",
      "\n",
      "Worker:Fadi ends training in Global Round:8 |\n",
      "Worker:Rami starts training in Global Round:8 |\n"
     ]
    },
    {
     "data": {
      "application/vnd.jupyter.widget-view+json": {
       "model_id": "16da32768f024721a4abfbe4b4327f16",
       "version_major": 2,
       "version_minor": 0
      },
      "text/plain": [
       "HBox(children=(IntProgress(value=0, max=1), HTML(value='')))"
      ]
     },
     "metadata": {},
     "output_type": "display_data"
    },
    {
     "name": "stdout",
     "output_type": "stream",
     "text": [
      "Train Epoch: 1 [2800/5400\t(52%)]\tLoss: 0.397805\n",
      "Train Epoch: 1 [3000/5400\t(56%)]\tLoss: 1.252172\n",
      "Train Epoch: 1 [3200/5400\t(59%)]\tLoss: 0.825858\n",
      "Train Epoch: 1 [3400/5400\t(63%)]\tLoss: 0.574409\n",
      "Train Epoch: 1 [3600/5400\t(67%)]\tLoss: 0.842631\n",
      "Train Epoch: 1 [3800/5400\t(70%)]\tLoss: 0.414425\n",
      "Train Epoch: 1 [4000/5400\t(74%)]\tLoss: 0.706306\n",
      "Train Epoch: 1 [4200/5400\t(78%)]\tLoss: 0.557881\n",
      "Train Epoch: 1 [4400/5400\t(81%)]\tLoss: 0.866290\n",
      "Train Epoch: 1 [4600/5400\t(85%)]\tLoss: 0.695062\n",
      "Train Epoch: 1 [4800/5400\t(89%)]\tLoss: 0.662434\n",
      "Train Epoch: 1 [5000/5400\t(93%)]\tLoss: 0.949384\n",
      "Train Epoch: 1 [5200/5400\t(96%)]\tLoss: 0.680801\n",
      "\n",
      "Worker:Rami ends training in Global Round:8 |\n",
      "Worker:Ashneet starts training in Global Round:8 |\n"
     ]
    },
    {
     "data": {
      "application/vnd.jupyter.widget-view+json": {
       "model_id": "25793b58f2084a818f21bd4b4003f06a",
       "version_major": 2,
       "version_minor": 0
      },
      "text/plain": [
       "HBox(children=(IntProgress(value=0, max=1), HTML(value='')))"
      ]
     },
     "metadata": {},
     "output_type": "display_data"
    },
    {
     "name": "stdout",
     "output_type": "stream",
     "text": [
      "Train Epoch: 1 [2800/5400\t(52%)]\tLoss: 0.554626\n",
      "Train Epoch: 1 [3000/5400\t(56%)]\tLoss: 1.511925\n",
      "Train Epoch: 1 [3200/5400\t(59%)]\tLoss: 0.768390\n",
      "Train Epoch: 1 [3400/5400\t(63%)]\tLoss: 1.468880\n",
      "Train Epoch: 1 [3600/5400\t(67%)]\tLoss: 0.479781\n",
      "Train Epoch: 1 [3800/5400\t(70%)]\tLoss: 0.669711\n",
      "Train Epoch: 1 [4000/5400\t(74%)]\tLoss: 0.415366\n",
      "Train Epoch: 1 [4200/5400\t(78%)]\tLoss: 0.412084\n",
      "Train Epoch: 1 [4400/5400\t(81%)]\tLoss: 0.662780\n",
      "Train Epoch: 1 [4600/5400\t(85%)]\tLoss: 0.937355\n",
      "Train Epoch: 1 [4800/5400\t(89%)]\tLoss: 0.648565\n",
      "Train Epoch: 1 [5000/5400\t(93%)]\tLoss: 1.661901\n",
      "Train Epoch: 1 [5200/5400\t(96%)]\tLoss: 1.464161\n",
      "\n",
      "Worker:Ashneet ends training in Global Round:8 |\n",
      "Worker:Najeeb starts training in Global Round:8 |\n"
     ]
    },
    {
     "data": {
      "application/vnd.jupyter.widget-view+json": {
       "model_id": "aedc97af51324517b9b8be0cd0e747dd",
       "version_major": 2,
       "version_minor": 0
      },
      "text/plain": [
       "HBox(children=(IntProgress(value=0, max=1), HTML(value='')))"
      ]
     },
     "metadata": {},
     "output_type": "display_data"
    },
    {
     "name": "stdout",
     "output_type": "stream",
     "text": [
      "Train Epoch: 1 [2800/5400\t(52%)]\tLoss: 1.277580\n",
      "Train Epoch: 1 [3000/5400\t(56%)]\tLoss: 1.241494\n",
      "Train Epoch: 1 [3200/5400\t(59%)]\tLoss: 0.993562\n",
      "Train Epoch: 1 [3400/5400\t(63%)]\tLoss: 1.447502\n",
      "Train Epoch: 1 [3600/5400\t(67%)]\tLoss: 0.687330\n",
      "Train Epoch: 1 [3800/5400\t(70%)]\tLoss: 0.552579\n",
      "Train Epoch: 1 [4000/5400\t(74%)]\tLoss: 1.349430\n",
      "Train Epoch: 1 [4200/5400\t(78%)]\tLoss: 0.829442\n",
      "Train Epoch: 1 [4400/5400\t(81%)]\tLoss: 1.277664\n",
      "Train Epoch: 1 [4600/5400\t(85%)]\tLoss: 0.105956\n",
      "Train Epoch: 1 [4800/5400\t(89%)]\tLoss: 0.353488\n",
      "Train Epoch: 1 [5000/5400\t(93%)]\tLoss: 0.960149\n",
      "Train Epoch: 1 [5200/5400\t(96%)]\tLoss: 1.325729\n",
      "\n",
      "Worker:Najeeb ends training in Global Round:8 |\n",
      "\n",
      " Current global round local reputations\n",
      "\n",
      "\n",
      "local ratings introduced by accountability manager:  Alberto , with tau value =:  2\n",
      "\n",
      "Worker         Rating                   Distance       \n",
      "\n",
      "Alberto                 0           0.23616853495782594\n",
      "\n",
      "Jesus                   0            0.2506274520087189\n",
      "\n",
      "Michel                  1          0.004056934611331339\n",
      "\n",
      "Fadi                    1           0.22912251379179058\n",
      "\n",
      "Rami                    1            0.2230896076911942\n",
      "\n",
      "Ashneet                 1            0.2274310519744389\n",
      "\n",
      "Najeeb                  1           0.22635416078819182\n",
      "\n",
      "local ratings introduced by accountability manager:  Michel , with tau value =:  2\n",
      "\n",
      "Worker         Rating                   Distance       \n",
      "\n",
      "Alberto                 0           0.23616853495782594\n",
      "\n",
      "Jesus                   0            0.2506274520087189\n",
      "\n",
      "Michel                  1          0.004056934611331339\n",
      "\n",
      "Fadi                    1           0.22912251379179058\n",
      "\n",
      "Rami                    1            0.2230896076911942\n",
      "\n",
      "Ashneet                 1            0.2274310519744389\n",
      "\n",
      "Najeeb                  1           0.22635416078819182\n",
      "\n",
      "local ratings introduced by accountability manager:  David , with tau value =:  2\n",
      "\n",
      "Worker         Rating                   Distance       \n",
      "\n",
      "Alberto                 0           0.23616853495782594\n",
      "\n",
      "Jesus                   0            0.2506274520087189\n",
      "\n",
      "Michel                  1          0.004056934611331339\n",
      "\n",
      "Fadi                    1           0.22912251379179058\n",
      "\n",
      "Rami                    1            0.2230896076911942\n",
      "\n",
      "Ashneet                 1            0.2274310519744389\n",
      "\n",
      "Najeeb                  1           0.22635416078819182\n",
      "\n",
      "Average loss: 1.4671, Accuracy: 8453/10000 (85%)\n",
      "\n",
      "Category   - Accuracy\n",
      "Zero       - 97.3\n",
      "One        - 98.7\n",
      "Two        - 83.8\n",
      "Three      - 86.8\n",
      "Four       - 88.6\n",
      "Five       - 75.9\n",
      "Six        - 90.7\n",
      "Seven      - 86.3\n",
      "Eight      - 66.4\n",
      "Nine       - 68.1\n",
      "\n",
      " | Global Training Round : 9 |\n",
      "\n",
      "Worker:Alberto starts training in Global Round:9 |\n"
     ]
    },
    {
     "data": {
      "application/vnd.jupyter.widget-view+json": {
       "model_id": "bf0552d4497e4f7ea446e4a5fb9458d3",
       "version_major": 2,
       "version_minor": 0
      },
      "text/plain": [
       "HBox(children=(IntProgress(value=0, max=1), HTML(value='')))"
      ]
     },
     "metadata": {},
     "output_type": "display_data"
    },
    {
     "name": "stdout",
     "output_type": "stream",
     "text": [
      "Train Epoch: 1 [2800/5400\t(52%)]\tLoss: 0.933700\n",
      "Train Epoch: 1 [3000/5400\t(56%)]\tLoss: 1.878036\n",
      "Train Epoch: 1 [3200/5400\t(59%)]\tLoss: 1.523381\n",
      "Train Epoch: 1 [3400/5400\t(63%)]\tLoss: 1.256174\n",
      "Train Epoch: 1 [3600/5400\t(67%)]\tLoss: 2.215782\n",
      "Train Epoch: 1 [3800/5400\t(70%)]\tLoss: 0.511621\n",
      "Train Epoch: 1 [4000/5400\t(74%)]\tLoss: 0.584671\n",
      "Train Epoch: 1 [4200/5400\t(78%)]\tLoss: 0.034574\n",
      "Train Epoch: 1 [4400/5400\t(81%)]\tLoss: 0.230786\n",
      "Train Epoch: 1 [4600/5400\t(85%)]\tLoss: 0.657284\n",
      "Train Epoch: 1 [4800/5400\t(89%)]\tLoss: 1.441697\n",
      "Train Epoch: 1 [5000/5400\t(93%)]\tLoss: 1.362905\n",
      "Train Epoch: 1 [5200/5400\t(96%)]\tLoss: 1.602010\n",
      "\n",
      "Worker:Alberto ends training in Global Round:9 |\n",
      "Worker:Jesus starts training in Global Round:9 |\n",
      "===>Targeted/stealthy attack started by:  Jesus  in Global Round:  9\n"
     ]
    },
    {
     "data": {
      "application/vnd.jupyter.widget-view+json": {
       "model_id": "78c644bad53742a8b3f06ddec269c152",
       "version_major": 2,
       "version_minor": 0
      },
      "text/plain": [
       "HBox(children=(IntProgress(value=0, max=1), HTML(value='')))"
      ]
     },
     "metadata": {},
     "output_type": "display_data"
    },
    {
     "name": "stdout",
     "output_type": "stream",
     "text": [
      "Train Epoch: 1 [2800/5400\t(52%)]\tLoss: 0.386328\n",
      "Train Epoch: 1 [3000/5400\t(56%)]\tLoss: 0.491435\n",
      "Train Epoch: 1 [3200/5400\t(59%)]\tLoss: 0.110364\n",
      "Train Epoch: 1 [3400/5400\t(63%)]\tLoss: 0.116224\n",
      "Train Epoch: 1 [3600/5400\t(67%)]\tLoss: 1.151424\n",
      "Train Epoch: 1 [3800/5400\t(70%)]\tLoss: 1.265835\n",
      "Train Epoch: 1 [4000/5400\t(74%)]\tLoss: 0.834996\n",
      "Train Epoch: 1 [4200/5400\t(78%)]\tLoss: 0.389190\n",
      "Train Epoch: 1 [4400/5400\t(81%)]\tLoss: 0.881033\n",
      "Train Epoch: 1 [4600/5400\t(85%)]\tLoss: 0.572604\n",
      "Train Epoch: 1 [4800/5400\t(89%)]\tLoss: 1.296932\n",
      "Train Epoch: 1 [5000/5400\t(93%)]\tLoss: 1.052475\n",
      "Train Epoch: 1 [5200/5400\t(96%)]\tLoss: 0.152859\n",
      "\n",
      "Worker:Jesus ends training in Global Round:9 |\n",
      "Worker:Michel starts training in Global Round:9 |\n"
     ]
    },
    {
     "data": {
      "application/vnd.jupyter.widget-view+json": {
       "model_id": "3a81fd51e507470aa60b5ca9438e3fba",
       "version_major": 2,
       "version_minor": 0
      },
      "text/plain": [
       "HBox(children=(IntProgress(value=0, max=1), HTML(value='')))"
      ]
     },
     "metadata": {},
     "output_type": "display_data"
    },
    {
     "name": "stdout",
     "output_type": "stream",
     "text": [
      "Train Epoch: 1 [2800/5400\t(52%)]\tLoss: 1.423458\n",
      "Train Epoch: 1 [3000/5400\t(56%)]\tLoss: 0.582871\n",
      "Train Epoch: 1 [3200/5400\t(59%)]\tLoss: 1.693138\n",
      "Train Epoch: 1 [3400/5400\t(63%)]\tLoss: 0.330908\n",
      "Train Epoch: 1 [3600/5400\t(67%)]\tLoss: 3.021320\n",
      "Train Epoch: 1 [3800/5400\t(70%)]\tLoss: 1.065969\n",
      "Train Epoch: 1 [4000/5400\t(74%)]\tLoss: 0.258458\n",
      "Train Epoch: 1 [4200/5400\t(78%)]\tLoss: 0.582287\n",
      "Train Epoch: 1 [4400/5400\t(81%)]\tLoss: 1.591586\n",
      "Train Epoch: 1 [4600/5400\t(85%)]\tLoss: 0.831761\n",
      "Train Epoch: 1 [4800/5400\t(89%)]\tLoss: 0.520388\n",
      "Train Epoch: 1 [5000/5400\t(93%)]\tLoss: 0.864768\n",
      "Train Epoch: 1 [5200/5400\t(96%)]\tLoss: 0.293832\n",
      "\n",
      "Worker:Michel ends training in Global Round:9 |\n",
      "Worker:Fadi starts training in Global Round:9 |\n"
     ]
    },
    {
     "data": {
      "application/vnd.jupyter.widget-view+json": {
       "model_id": "8a567f2e67ad44b5817ae8f330102836",
       "version_major": 2,
       "version_minor": 0
      },
      "text/plain": [
       "HBox(children=(IntProgress(value=0, max=1), HTML(value='')))"
      ]
     },
     "metadata": {},
     "output_type": "display_data"
    },
    {
     "name": "stdout",
     "output_type": "stream",
     "text": [
      "Train Epoch: 1 [2800/5400\t(52%)]\tLoss: 0.905599\n",
      "Train Epoch: 1 [3000/5400\t(56%)]\tLoss: 0.966806\n",
      "Train Epoch: 1 [3200/5400\t(59%)]\tLoss: 1.052381\n",
      "Train Epoch: 1 [3400/5400\t(63%)]\tLoss: 0.761000\n",
      "Train Epoch: 1 [3600/5400\t(67%)]\tLoss: 0.634271\n",
      "Train Epoch: 1 [3800/5400\t(70%)]\tLoss: 0.857850\n",
      "Train Epoch: 1 [4000/5400\t(74%)]\tLoss: 0.964750\n",
      "Train Epoch: 1 [4200/5400\t(78%)]\tLoss: 0.694956\n",
      "Train Epoch: 1 [4400/5400\t(81%)]\tLoss: 0.703776\n",
      "Train Epoch: 1 [4600/5400\t(85%)]\tLoss: 1.098044\n",
      "Train Epoch: 1 [4800/5400\t(89%)]\tLoss: 0.645693\n",
      "Train Epoch: 1 [5000/5400\t(93%)]\tLoss: 0.398348\n",
      "Train Epoch: 1 [5200/5400\t(96%)]\tLoss: 1.304236\n",
      "\n",
      "Worker:Fadi ends training in Global Round:9 |\n",
      "Worker:Rami starts training in Global Round:9 |\n"
     ]
    },
    {
     "data": {
      "application/vnd.jupyter.widget-view+json": {
       "model_id": "1a95cdccc6ca44a9a97550ba5553e2fd",
       "version_major": 2,
       "version_minor": 0
      },
      "text/plain": [
       "HBox(children=(IntProgress(value=0, max=1), HTML(value='')))"
      ]
     },
     "metadata": {},
     "output_type": "display_data"
    },
    {
     "name": "stdout",
     "output_type": "stream",
     "text": [
      "Train Epoch: 1 [2800/5400\t(52%)]\tLoss: 0.276665\n",
      "Train Epoch: 1 [3000/5400\t(56%)]\tLoss: 1.491661\n",
      "Train Epoch: 1 [3200/5400\t(59%)]\tLoss: 0.725277\n",
      "Train Epoch: 1 [3400/5400\t(63%)]\tLoss: 0.802013\n",
      "Train Epoch: 1 [3600/5400\t(67%)]\tLoss: 2.328541\n",
      "Train Epoch: 1 [3800/5400\t(70%)]\tLoss: 0.391952\n",
      "Train Epoch: 1 [4000/5400\t(74%)]\tLoss: 1.162107\n",
      "Train Epoch: 1 [4200/5400\t(78%)]\tLoss: 1.236266\n",
      "Train Epoch: 1 [4400/5400\t(81%)]\tLoss: 2.331446\n",
      "Train Epoch: 1 [4600/5400\t(85%)]\tLoss: 0.395298\n",
      "Train Epoch: 1 [4800/5400\t(89%)]\tLoss: 0.590073\n",
      "Train Epoch: 1 [5000/5400\t(93%)]\tLoss: 0.044616\n",
      "Train Epoch: 1 [5200/5400\t(96%)]\tLoss: 0.995075\n",
      "\n",
      "Worker:Rami ends training in Global Round:9 |\n",
      "Worker:Ashneet starts training in Global Round:9 |\n",
      "===>Targeted/stealthy attack started by:  Ashneet  in Global Round:  9\n"
     ]
    },
    {
     "data": {
      "application/vnd.jupyter.widget-view+json": {
       "model_id": "d419c62833754da6b431a421a8355192",
       "version_major": 2,
       "version_minor": 0
      },
      "text/plain": [
       "HBox(children=(IntProgress(value=0, max=1), HTML(value='')))"
      ]
     },
     "metadata": {},
     "output_type": "display_data"
    },
    {
     "name": "stdout",
     "output_type": "stream",
     "text": [
      "Train Epoch: 1 [2800/5400\t(52%)]\tLoss: 1.195408\n",
      "Train Epoch: 1 [3000/5400\t(56%)]\tLoss: 0.141805\n",
      "Train Epoch: 1 [3200/5400\t(59%)]\tLoss: 1.007503\n",
      "Train Epoch: 1 [3400/5400\t(63%)]\tLoss: 0.564496\n",
      "Train Epoch: 1 [3600/5400\t(67%)]\tLoss: 0.024814\n",
      "Train Epoch: 1 [3800/5400\t(70%)]\tLoss: 1.029938\n",
      "Train Epoch: 1 [4000/5400\t(74%)]\tLoss: 0.833425\n",
      "Train Epoch: 1 [4200/5400\t(78%)]\tLoss: 0.423301\n",
      "Train Epoch: 1 [4400/5400\t(81%)]\tLoss: 0.501359\n",
      "Train Epoch: 1 [4600/5400\t(85%)]\tLoss: 1.287329\n",
      "Train Epoch: 1 [4800/5400\t(89%)]\tLoss: 0.893929\n",
      "Train Epoch: 1 [5000/5400\t(93%)]\tLoss: 0.444571\n",
      "Train Epoch: 1 [5200/5400\t(96%)]\tLoss: 0.045991\n",
      "\n",
      "Worker:Ashneet ends training in Global Round:9 |\n",
      "Worker:Najeeb starts training in Global Round:9 |\n"
     ]
    },
    {
     "data": {
      "application/vnd.jupyter.widget-view+json": {
       "model_id": "69bf9fd6bf9a4c839e532794dbe67ace",
       "version_major": 2,
       "version_minor": 0
      },
      "text/plain": [
       "HBox(children=(IntProgress(value=0, max=1), HTML(value='')))"
      ]
     },
     "metadata": {},
     "output_type": "display_data"
    },
    {
     "name": "stdout",
     "output_type": "stream",
     "text": [
      "Train Epoch: 1 [2800/5400\t(52%)]\tLoss: 2.077275\n",
      "Train Epoch: 1 [3000/5400\t(56%)]\tLoss: 0.341112\n",
      "Train Epoch: 1 [3200/5400\t(59%)]\tLoss: 1.483704\n",
      "Train Epoch: 1 [3400/5400\t(63%)]\tLoss: 0.907832\n",
      "Train Epoch: 1 [3600/5400\t(67%)]\tLoss: 0.989065\n",
      "Train Epoch: 1 [3800/5400\t(70%)]\tLoss: 0.601615\n",
      "Train Epoch: 1 [4000/5400\t(74%)]\tLoss: 0.584036\n",
      "Train Epoch: 1 [4200/5400\t(78%)]\tLoss: 0.217128\n",
      "Train Epoch: 1 [4400/5400\t(81%)]\tLoss: 0.295886\n",
      "Train Epoch: 1 [4600/5400\t(85%)]\tLoss: 0.872628\n",
      "Train Epoch: 1 [4800/5400\t(89%)]\tLoss: 0.639365\n",
      "Train Epoch: 1 [5000/5400\t(93%)]\tLoss: 0.769762\n",
      "Train Epoch: 1 [5200/5400\t(96%)]\tLoss: 0.322779\n",
      "\n",
      "Worker:Najeeb ends training in Global Round:9 |\n",
      "\n",
      " Current global round local reputations\n",
      "\n",
      "\n",
      "local ratings introduced by accountability manager:  Alberto , with tau value =:  2\n",
      "\n",
      "Worker         Rating                   Distance       \n",
      "\n",
      "Alberto                 1           0.22941582401140442\n",
      "\n",
      "Jesus                   0            0.2443858025679339\n",
      "\n",
      "Michel                  1            0.2301247215073356\n",
      "\n",
      "Fadi                    1           0.21790931229461488\n",
      "\n",
      "Rami                    1            0.2263401750734864\n",
      "\n",
      "Ashneet                 1           0.23738583730050358\n",
      "\n",
      "Najeeb                  1           0.01607369312071672\n",
      "\n",
      "local ratings introduced by accountability manager:  Michel , with tau value =:  2\n",
      "\n",
      "Worker         Rating                   Distance       \n",
      "\n",
      "Alberto                 1           0.22941582401140442\n",
      "\n",
      "Jesus                   0            0.2443858025679339\n",
      "\n",
      "Michel                  1            0.2301247215073356\n",
      "\n",
      "Fadi                    1           0.21790931229461488\n",
      "\n",
      "Rami                    1            0.2263401750734864\n",
      "\n",
      "Ashneet                 1           0.23738583730050358\n",
      "\n",
      "Najeeb                  1           0.01607369312071672\n",
      "\n",
      "local ratings introduced by accountability manager:  David , with tau value =:  2\n",
      "\n",
      "Worker         Rating                   Distance       \n",
      "\n",
      "Alberto                 1           0.22941582401140442\n",
      "\n",
      "Jesus                   0            0.2443858025679339\n",
      "\n",
      "Michel                  1            0.2301247215073356\n",
      "\n",
      "Fadi                    1           0.21790931229461488\n",
      "\n",
      "Rami                    1            0.2263401750734864\n",
      "\n",
      "Ashneet                 1           0.23738583730050358\n",
      "\n",
      "Najeeb                  1           0.01607369312071672\n",
      "\n",
      "Average loss: 0.9619, Accuracy: 8290/10000 (83%)\n",
      "\n",
      "Category   - Accuracy\n",
      "Zero       - 97.3\n",
      "One        - 97.8\n",
      "Two        - 87.3\n",
      "Three      - 88.2\n",
      "Four       - 41.9\n",
      "Five       - 73.1\n",
      "Six        - 92.5\n",
      "Seven      - 87.0\n",
      "Eight      - 72.7\n",
      "Nine       - 87.5\n",
      "\n",
      " | Global Training Round : 10 |\n",
      "\n",
      "Worker:Alberto starts training in Global Round:10 |\n"
     ]
    },
    {
     "data": {
      "application/vnd.jupyter.widget-view+json": {
       "model_id": "3441837c5d994dfb90e79f962df7fe29",
       "version_major": 2,
       "version_minor": 0
      },
      "text/plain": [
       "HBox(children=(IntProgress(value=0, max=1), HTML(value='')))"
      ]
     },
     "metadata": {},
     "output_type": "display_data"
    },
    {
     "name": "stdout",
     "output_type": "stream",
     "text": [
      "Train Epoch: 1 [2800/5400\t(52%)]\tLoss: 1.386446\n",
      "Train Epoch: 1 [3000/5400\t(56%)]\tLoss: 0.391827\n",
      "Train Epoch: 1 [3200/5400\t(59%)]\tLoss: 0.758513\n",
      "Train Epoch: 1 [3400/5400\t(63%)]\tLoss: 0.191554\n",
      "Train Epoch: 1 [3600/5400\t(67%)]\tLoss: 1.941555\n",
      "Train Epoch: 1 [3800/5400\t(70%)]\tLoss: 0.101257\n",
      "Train Epoch: 1 [4000/5400\t(74%)]\tLoss: 0.587898\n",
      "Train Epoch: 1 [4200/5400\t(78%)]\tLoss: 0.650850\n",
      "Train Epoch: 1 [4400/5400\t(81%)]\tLoss: 1.218868\n",
      "Train Epoch: 1 [4600/5400\t(85%)]\tLoss: 0.169147\n",
      "Train Epoch: 1 [4800/5400\t(89%)]\tLoss: 0.336428\n",
      "Train Epoch: 1 [5000/5400\t(93%)]\tLoss: 1.380863\n",
      "Train Epoch: 1 [5200/5400\t(96%)]\tLoss: 0.600286\n",
      "\n",
      "Worker:Alberto ends training in Global Round:10 |\n",
      "Worker:Jesus starts training in Global Round:10 |\n"
     ]
    },
    {
     "data": {
      "application/vnd.jupyter.widget-view+json": {
       "model_id": "9a67d0dc0f184f7ca0a51269acaed8f2",
       "version_major": 2,
       "version_minor": 0
      },
      "text/plain": [
       "HBox(children=(IntProgress(value=0, max=1), HTML(value='')))"
      ]
     },
     "metadata": {},
     "output_type": "display_data"
    },
    {
     "name": "stdout",
     "output_type": "stream",
     "text": [
      "Train Epoch: 1 [2800/5400\t(52%)]\tLoss: 0.177960\n",
      "Train Epoch: 1 [3000/5400\t(56%)]\tLoss: 0.303665\n",
      "Train Epoch: 1 [3200/5400\t(59%)]\tLoss: 1.885573\n",
      "Train Epoch: 1 [3400/5400\t(63%)]\tLoss: 1.444327\n",
      "Train Epoch: 1 [3600/5400\t(67%)]\tLoss: 1.410183\n",
      "Train Epoch: 1 [3800/5400\t(70%)]\tLoss: 0.426116\n",
      "Train Epoch: 1 [4000/5400\t(74%)]\tLoss: 0.031644\n",
      "Train Epoch: 1 [4200/5400\t(78%)]\tLoss: 0.252474\n",
      "Train Epoch: 1 [4400/5400\t(81%)]\tLoss: 0.583040\n",
      "Train Epoch: 1 [4600/5400\t(85%)]\tLoss: 0.859064\n",
      "Train Epoch: 1 [4800/5400\t(89%)]\tLoss: 1.022984\n",
      "Train Epoch: 1 [5000/5400\t(93%)]\tLoss: 0.443137\n",
      "Train Epoch: 1 [5200/5400\t(96%)]\tLoss: 0.399975\n",
      "\n",
      "Worker:Jesus ends training in Global Round:10 |\n",
      "Worker:Michel starts training in Global Round:10 |\n"
     ]
    },
    {
     "data": {
      "application/vnd.jupyter.widget-view+json": {
       "model_id": "2140c1cbeb304a278ef736d0aeb9b90e",
       "version_major": 2,
       "version_minor": 0
      },
      "text/plain": [
       "HBox(children=(IntProgress(value=0, max=1), HTML(value='')))"
      ]
     },
     "metadata": {},
     "output_type": "display_data"
    },
    {
     "name": "stdout",
     "output_type": "stream",
     "text": [
      "Train Epoch: 1 [2800/5400\t(52%)]\tLoss: 1.134857\n",
      "Train Epoch: 1 [3000/5400\t(56%)]\tLoss: 0.325540\n",
      "Train Epoch: 1 [3200/5400\t(59%)]\tLoss: 1.247092\n",
      "Train Epoch: 1 [3400/5400\t(63%)]\tLoss: 0.882795\n",
      "Train Epoch: 1 [3600/5400\t(67%)]\tLoss: 2.565525\n",
      "Train Epoch: 1 [3800/5400\t(70%)]\tLoss: 0.520542\n",
      "Train Epoch: 1 [4000/5400\t(74%)]\tLoss: 0.687255\n",
      "Train Epoch: 1 [4200/5400\t(78%)]\tLoss: 0.662332\n",
      "Train Epoch: 1 [4400/5400\t(81%)]\tLoss: 0.712431\n",
      "Train Epoch: 1 [4600/5400\t(85%)]\tLoss: 1.800836\n",
      "Train Epoch: 1 [4800/5400\t(89%)]\tLoss: 0.216708\n",
      "Train Epoch: 1 [5000/5400\t(93%)]\tLoss: 1.140127\n",
      "Train Epoch: 1 [5200/5400\t(96%)]\tLoss: 0.480941\n",
      "\n",
      "Worker:Michel ends training in Global Round:10 |\n",
      "Worker:Fadi starts training in Global Round:10 |\n"
     ]
    },
    {
     "data": {
      "application/vnd.jupyter.widget-view+json": {
       "model_id": "f32ed96933e04b98bf50fc7460f28b3b",
       "version_major": 2,
       "version_minor": 0
      },
      "text/plain": [
       "HBox(children=(IntProgress(value=0, max=1), HTML(value='')))"
      ]
     },
     "metadata": {},
     "output_type": "display_data"
    },
    {
     "name": "stdout",
     "output_type": "stream",
     "text": [
      "Train Epoch: 1 [2800/5400\t(52%)]\tLoss: 1.551659\n",
      "Train Epoch: 1 [3000/5400\t(56%)]\tLoss: 0.549348\n",
      "Train Epoch: 1 [3200/5400\t(59%)]\tLoss: 0.872967\n",
      "Train Epoch: 1 [3400/5400\t(63%)]\tLoss: 0.498876\n",
      "Train Epoch: 1 [3600/5400\t(67%)]\tLoss: 0.800215\n",
      "Train Epoch: 1 [3800/5400\t(70%)]\tLoss: 0.413448\n",
      "Train Epoch: 1 [4000/5400\t(74%)]\tLoss: 1.721318\n",
      "Train Epoch: 1 [4200/5400\t(78%)]\tLoss: 1.483624\n",
      "Train Epoch: 1 [4400/5400\t(81%)]\tLoss: 3.902645\n",
      "Train Epoch: 1 [4600/5400\t(85%)]\tLoss: 2.307284\n",
      "Train Epoch: 1 [4800/5400\t(89%)]\tLoss: 0.069500\n",
      "Train Epoch: 1 [5000/5400\t(93%)]\tLoss: 0.477942\n",
      "Train Epoch: 1 [5200/5400\t(96%)]\tLoss: 0.664943\n",
      "\n",
      "Worker:Fadi ends training in Global Round:10 |\n",
      "Worker:Rami starts training in Global Round:10 |\n"
     ]
    },
    {
     "data": {
      "application/vnd.jupyter.widget-view+json": {
       "model_id": "a445b297ff9d4d418ecacecefc9ce482",
       "version_major": 2,
       "version_minor": 0
      },
      "text/plain": [
       "HBox(children=(IntProgress(value=0, max=1), HTML(value='')))"
      ]
     },
     "metadata": {},
     "output_type": "display_data"
    },
    {
     "name": "stdout",
     "output_type": "stream",
     "text": [
      "Train Epoch: 1 [2800/5400\t(52%)]\tLoss: 0.861538\n",
      "Train Epoch: 1 [3000/5400\t(56%)]\tLoss: 0.037140\n",
      "Train Epoch: 1 [3200/5400\t(59%)]\tLoss: 0.686590\n",
      "Train Epoch: 1 [3400/5400\t(63%)]\tLoss: 0.457720\n",
      "Train Epoch: 1 [3600/5400\t(67%)]\tLoss: 0.248733\n",
      "Train Epoch: 1 [3800/5400\t(70%)]\tLoss: 0.108518\n",
      "Train Epoch: 1 [4000/5400\t(74%)]\tLoss: 1.070185\n",
      "Train Epoch: 1 [4200/5400\t(78%)]\tLoss: 1.063217\n",
      "Train Epoch: 1 [4400/5400\t(81%)]\tLoss: 0.039812\n",
      "Train Epoch: 1 [4600/5400\t(85%)]\tLoss: 0.931295\n",
      "Train Epoch: 1 [4800/5400\t(89%)]\tLoss: 1.708936\n",
      "Train Epoch: 1 [5000/5400\t(93%)]\tLoss: 0.103718\n",
      "Train Epoch: 1 [5200/5400\t(96%)]\tLoss: 0.606860\n",
      "\n",
      "Worker:Rami ends training in Global Round:10 |\n",
      "Worker:Ashneet starts training in Global Round:10 |\n",
      "===>Targeted/stealthy attack started by:  Ashneet  in Global Round:  10\n"
     ]
    },
    {
     "data": {
      "application/vnd.jupyter.widget-view+json": {
       "model_id": "ae313cf7250147349c54da740a2131b3",
       "version_major": 2,
       "version_minor": 0
      },
      "text/plain": [
       "HBox(children=(IntProgress(value=0, max=1), HTML(value='')))"
      ]
     },
     "metadata": {},
     "output_type": "display_data"
    },
    {
     "name": "stdout",
     "output_type": "stream",
     "text": [
      "Train Epoch: 1 [2800/5400\t(52%)]\tLoss: 1.023828\n",
      "Train Epoch: 1 [3000/5400\t(56%)]\tLoss: 2.011360\n",
      "Train Epoch: 1 [3200/5400\t(59%)]\tLoss: 1.426088\n",
      "Train Epoch: 1 [3400/5400\t(63%)]\tLoss: 0.914982\n",
      "Train Epoch: 1 [3600/5400\t(67%)]\tLoss: 0.332803\n",
      "Train Epoch: 1 [3800/5400\t(70%)]\tLoss: 0.492688\n",
      "Train Epoch: 1 [4000/5400\t(74%)]\tLoss: 0.762341\n",
      "Train Epoch: 1 [4200/5400\t(78%)]\tLoss: 0.645296\n",
      "Train Epoch: 1 [4400/5400\t(81%)]\tLoss: 1.547459\n",
      "Train Epoch: 1 [4600/5400\t(85%)]\tLoss: 0.281873\n",
      "Train Epoch: 1 [4800/5400\t(89%)]\tLoss: 0.228783\n",
      "Train Epoch: 1 [5000/5400\t(93%)]\tLoss: 1.678501\n",
      "Train Epoch: 1 [5200/5400\t(96%)]\tLoss: 0.338352\n",
      "\n",
      "Worker:Ashneet ends training in Global Round:10 |\n",
      "Worker:Najeeb starts training in Global Round:10 |\n"
     ]
    },
    {
     "data": {
      "application/vnd.jupyter.widget-view+json": {
       "model_id": "59e89dd7d9a2480c841a8df48394a023",
       "version_major": 2,
       "version_minor": 0
      },
      "text/plain": [
       "HBox(children=(IntProgress(value=0, max=1), HTML(value='')))"
      ]
     },
     "metadata": {},
     "output_type": "display_data"
    },
    {
     "name": "stdout",
     "output_type": "stream",
     "text": [
      "Train Epoch: 1 [2800/5400\t(52%)]\tLoss: 0.373545\n",
      "Train Epoch: 1 [3000/5400\t(56%)]\tLoss: 2.004984\n",
      "Train Epoch: 1 [3200/5400\t(59%)]\tLoss: 0.536879\n",
      "Train Epoch: 1 [3400/5400\t(63%)]\tLoss: 0.482049\n",
      "Train Epoch: 1 [3600/5400\t(67%)]\tLoss: 0.554376\n",
      "Train Epoch: 1 [3800/5400\t(70%)]\tLoss: 0.611973\n",
      "Train Epoch: 1 [4000/5400\t(74%)]\tLoss: 0.083575\n",
      "Train Epoch: 1 [4200/5400\t(78%)]\tLoss: 0.247334\n",
      "Train Epoch: 1 [4400/5400\t(81%)]\tLoss: 0.372193\n",
      "Train Epoch: 1 [4600/5400\t(85%)]\tLoss: 0.722009\n",
      "Train Epoch: 1 [4800/5400\t(89%)]\tLoss: 1.019587\n",
      "Train Epoch: 1 [5000/5400\t(93%)]\tLoss: 3.199597\n",
      "Train Epoch: 1 [5200/5400\t(96%)]\tLoss: 0.497256\n",
      "\n",
      "Worker:Najeeb ends training in Global Round:10 |\n",
      "\n",
      " Current global round local reputations\n",
      "\n",
      "\n",
      "local ratings introduced by accountability manager:  Alberto , with tau value =:  2\n",
      "\n",
      "Worker         Rating                   Distance       \n",
      "\n",
      "Alberto                 1            0.2519838687022014\n",
      "\n",
      "Jesus                   1            0.2471844306195228\n",
      "\n",
      "Michel                  1            0.2508659182731807\n",
      "\n",
      "Fadi                    1            0.2517839180433636\n",
      "\n",
      "Rami                    0           0.25614604844069727\n",
      "\n",
      "Ashneet                 0           0.26704404656088737\n",
      "\n",
      "Najeeb                  1          0.004409069084291472\n",
      "\n",
      "local ratings introduced by accountability manager:  Michel , with tau value =:  2\n",
      "\n",
      "Worker         Rating                   Distance       \n",
      "\n",
      "Alberto                 1            0.2519838687022014\n",
      "\n",
      "Jesus                   1            0.2471844306195228\n",
      "\n",
      "Michel                  1            0.2508659182731807\n",
      "\n",
      "Fadi                    1            0.2517839180433636\n",
      "\n",
      "Rami                    0           0.25614604844069727\n",
      "\n",
      "Ashneet                 0           0.26704404656088737\n",
      "\n",
      "Najeeb                  1          0.004409069084291472\n",
      "\n",
      "local ratings introduced by accountability manager:  David , with tau value =:  2\n",
      "\n",
      "Worker         Rating                   Distance       \n",
      "\n",
      "Alberto                 1            0.2519838687022014\n",
      "\n",
      "Jesus                   1            0.2471844306195228\n",
      "\n",
      "Michel                  1            0.2508659182731807\n",
      "\n",
      "Fadi                    1            0.2517839180433636\n",
      "\n",
      "Rami                    0           0.25614604844069727\n",
      "\n",
      "Ashneet                 0           0.26704404656088737\n",
      "\n",
      "Najeeb                  1          0.004409069084291472\n",
      "\n",
      "Average loss: 1.3681, Accuracy: 8566/10000 (86%)\n",
      "\n",
      "Category   - Accuracy\n",
      "Zero       - 97.2\n",
      "One        - 97.5\n",
      "Two        - 87.0\n",
      "Three      - 87.1\n",
      "Four       - 86.0\n",
      "Five       - 78.3\n",
      "Six        - 91.8\n",
      "Seven      - 85.9\n",
      "Eight      - 68.5\n",
      "Nine       - 74.9\n",
      "\n",
      "Average loss during gobal rounds\n",
      "[2.2840084785380688, 2.1717591913351937, 2.077743516167005, 1.7076404353779144, 1.2695333597736642, 1.2189385118465699, 1.002151630030404, 1.0707793211858108, 1.0711269795479224, 0.913054232735448]\n",
      "Accuracy during gobal rounds\n",
      "[0.2514, 0.587, 0.6663, 0.7751, 0.8239, 0.8298, 0.8493, 0.8453, 0.829, 0.8566]\n",
      "class 8 true positive rate\n"
     ]
    },
    {
     "data": {
      "image/png": "[encoded data removed]",
      "text/plain": [
       "<Figure size 1008x288 with 1 Axes>"
      ]
     },
     "metadata": {
      "needs_background": "light"
     },
     "output_type": "display_data"
    },
    {
     "data": {
      "image/png": "[encoded data removed]",
      "text/plain": [
       "<Figure size 1080x288 with 1 Axes>"
      ]
     },
     "metadata": {
      "needs_background": "light"
     },
     "output_type": "display_data"
    },
    {
     "data": {
      "image/png": "[encoded data removed]",
      "text/plain": [
       "<Figure size 432x288 with 1 Axes>"
      ]
     },
     "metadata": {
      "needs_background": "light"
     },
     "output_type": "display_data"
    },
    {
     "name": "stdout",
     "output_type": "stream",
     "text": [
      "\n",
      "==> Update Global Reputation ....\n",
      "Cuurent Global Reputation of Peers After simulation\n",
      "Josep   Reputation:  0.095\n",
      "David   Reputation:  0.095\n",
      "Oriol   Reputation:  0.095\n",
      "Alberto   Reputation:  0.07077596472922448\n",
      "Jesus   Reputation:  0.05923376210187755\n",
      "Michel   Reputation:  0.07308440525469387\n",
      "Fadi   Reputation:  0.07308440525469387\n",
      "Rami   Reputation:  0.0684675242037551\n",
      "Ashneet   Reputation:  0.061542202627346936\n",
      "Najeeb   Reputation:  0.07308440525469387\n",
      "\n",
      "===>Simulation Step: 2\n",
      "\n",
      "Cuurent Global Reputation of Peers Before Simulation\n",
      "Josep   Reputation:  0.095\n",
      "David   Reputation:  0.095\n",
      "Oriol   Reputation:  0.095\n",
      "Alberto   Reputation:  0.07077596472922448\n",
      "Jesus   Reputation:  0.05923376210187755\n",
      "Michel   Reputation:  0.07308440525469387\n",
      "Fadi   Reputation:  0.07308440525469387\n",
      "Rami   Reputation:  0.0684675242037551\n",
      "Ashneet   Reputation:  0.061542202627346936\n",
      "Najeeb   Reputation:  0.07308440525469387\n",
      "=======> loading training dataset......\n",
      "\n",
      "=======> loading testing dataset......\n",
      "\n",
      "=======> loading training dataset......\n",
      "\n",
      "=======> loading training dataset......\n",
      "\n",
      "=======> loading training dataset......\n",
      "\n",
      "=======> loading training dataset......\n",
      "\n",
      "=======> loading training dataset......\n",
      "\n",
      "=======> loading training dataset......\n",
      "\n",
      "=======> loading training dataset......\n",
      "\n",
      "=======> loading training dataset......\n",
      "\n",
      "=======> loading training dataset......\n",
      "\n",
      "=======> loading training dataset......\n",
      "\n",
      "\n",
      "Loading done!....\n",
      "\n",
      "5400\n",
      "5400\n",
      "5400\n",
      "5400\n",
      "5400\n",
      "5400\n",
      "5400\n",
      "5400\n",
      "5400\n",
      "5400\n",
      "\n",
      "=======> Start Global Model Training......\n",
      "\n"
     ]
    },
    {
     "data": {
      "application/vnd.jupyter.widget-view+json": {
       "model_id": "570ab61c10f84780ba5bb6c8e54bfd57",
       "version_major": 2,
       "version_minor": 0
      },
      "text/plain": [
       "HBox(children=(IntProgress(value=0, max=10), HTML(value='')))"
      ]
     },
     "metadata": {},
     "output_type": "display_data"
    },
    {
     "name": "stdout",
     "output_type": "stream",
     "text": [
      "\n",
      " | Global Training Round : 1 |\n",
      "\n",
      "Worker:Alberto starts training in Global Round:1 |\n"
     ]
    },
    {
     "data": {
      "application/vnd.jupyter.widget-view+json": {
       "model_id": "78a3e470723a4e3fbc75fcc4166097de",
       "version_major": 2,
       "version_minor": 0
      },
      "text/plain": [
       "HBox(children=(IntProgress(value=0, max=1), HTML(value='')))"
      ]
     },
     "metadata": {},
     "output_type": "display_data"
    },
    {
     "name": "stdout",
     "output_type": "stream",
     "text": [
      "Train Epoch: 1 [2800/5400\t(52%)]\tLoss: 2.155002\n",
      "Train Epoch: 1 [3000/5400\t(56%)]\tLoss: 2.297731\n",
      "Train Epoch: 1 [3200/5400\t(59%)]\tLoss: 2.202372\n",
      "Train Epoch: 1 [3400/5400\t(63%)]\tLoss: 2.344277\n",
      "Train Epoch: 1 [3600/5400\t(67%)]\tLoss: 2.210409\n",
      "Train Epoch: 1 [3800/5400\t(70%)]\tLoss: 2.329742\n",
      "Train Epoch: 1 [4000/5400\t(74%)]\tLoss: 2.212210\n",
      "Train Epoch: 1 [4200/5400\t(78%)]\tLoss: 2.190230\n",
      "Train Epoch: 1 [4400/5400\t(81%)]\tLoss: 2.244628\n",
      "Train Epoch: 1 [4600/5400\t(85%)]\tLoss: 2.321244\n",
      "Train Epoch: 1 [4800/5400\t(89%)]\tLoss: 2.436478\n",
      "Train Epoch: 1 [5000/5400\t(93%)]\tLoss: 2.268799\n",
      "Train Epoch: 1 [5200/5400\t(96%)]\tLoss: 2.181435\n",
      "\n",
      "Worker:Alberto ends training in Global Round:1 |\n",
      "Worker:Michel starts training in Global Round:1 |\n"
     ]
    },
    {
     "data": {
      "application/vnd.jupyter.widget-view+json": {
       "model_id": "5850364f5167428cab15e94022c9ce2a",
       "version_major": 2,
       "version_minor": 0
      },
      "text/plain": [
       "HBox(children=(IntProgress(value=0, max=1), HTML(value='')))"
      ]
     },
     "metadata": {},
     "output_type": "display_data"
    },
    {
     "name": "stdout",
     "output_type": "stream",
     "text": [
      "Train Epoch: 1 [2800/5400\t(52%)]\tLoss: 2.180133\n",
      "Train Epoch: 1 [3000/5400\t(56%)]\tLoss: 2.236670\n",
      "Train Epoch: 1 [3200/5400\t(59%)]\tLoss: 2.330597\n",
      "Train Epoch: 1 [3400/5400\t(63%)]\tLoss: 2.396776\n",
      "Train Epoch: 1 [3600/5400\t(67%)]\tLoss: 2.395673\n",
      "Train Epoch: 1 [3800/5400\t(70%)]\tLoss: 2.343378\n",
      "Train Epoch: 1 [4000/5400\t(74%)]\tLoss: 2.249687\n",
      "Train Epoch: 1 [4200/5400\t(78%)]\tLoss: 2.142908\n",
      "Train Epoch: 1 [4400/5400\t(81%)]\tLoss: 2.277443\n",
      "Train Epoch: 1 [4600/5400\t(85%)]\tLoss: 2.326845\n",
      "Train Epoch: 1 [4800/5400\t(89%)]\tLoss: 2.234428\n",
      "Train Epoch: 1 [5000/5400\t(93%)]\tLoss: 2.141006\n",
      "Train Epoch: 1 [5200/5400\t(96%)]\tLoss: 2.191752\n",
      "\n",
      "Worker:Michel ends training in Global Round:1 |\n",
      "Worker:Fadi starts training in Global Round:1 |\n"
     ]
    },
    {
     "data": {
      "application/vnd.jupyter.widget-view+json": {
       "model_id": "8ad12e4d584e445a997830e408ae8ce0",
       "version_major": 2,
       "version_minor": 0
      },
      "text/plain": [
       "HBox(children=(IntProgress(value=0, max=1), HTML(value='')))"
      ]
     },
     "metadata": {},
     "output_type": "display_data"
    },
    {
     "name": "stdout",
     "output_type": "stream",
     "text": [
      "Train Epoch: 1 [2800/5400\t(52%)]\tLoss: 2.353710\n",
      "Train Epoch: 1 [3000/5400\t(56%)]\tLoss: 2.352356\n",
      "Train Epoch: 1 [3200/5400\t(59%)]\tLoss: 2.321766\n",
      "Train Epoch: 1 [3400/5400\t(63%)]\tLoss: 2.215526\n",
      "Train Epoch: 1 [3600/5400\t(67%)]\tLoss: 2.236972\n",
      "Train Epoch: 1 [3800/5400\t(70%)]\tLoss: 2.075221\n",
      "Train Epoch: 1 [4000/5400\t(74%)]\tLoss: 2.174369\n",
      "Train Epoch: 1 [4200/5400\t(78%)]\tLoss: 2.214853\n",
      "Train Epoch: 1 [4400/5400\t(81%)]\tLoss: 2.188586\n",
      "Train Epoch: 1 [4600/5400\t(85%)]\tLoss: 2.306684\n",
      "Train Epoch: 1 [4800/5400\t(89%)]\tLoss: 2.148318\n",
      "Train Epoch: 1 [5000/5400\t(93%)]\tLoss: 2.443884\n",
      "Train Epoch: 1 [5200/5400\t(96%)]\tLoss: 2.352417\n",
      "\n",
      "Worker:Fadi ends training in Global Round:1 |\n",
      "Worker:Najeeb starts training in Global Round:1 |\n"
     ]
    },
    {
     "data": {
      "application/vnd.jupyter.widget-view+json": {
       "model_id": "4acbe8f111e944ffa179ce28a0f384a7",
       "version_major": 2,
       "version_minor": 0
      },
      "text/plain": [
       "HBox(children=(IntProgress(value=0, max=1), HTML(value='')))"
      ]
     },
     "metadata": {},
     "output_type": "display_data"
    },
    {
     "name": "stdout",
     "output_type": "stream",
     "text": [
      "Train Epoch: 1 [2800/5400\t(52%)]\tLoss: 2.193790\n",
      "Train Epoch: 1 [3000/5400\t(56%)]\tLoss: 2.445583\n",
      "Train Epoch: 1 [3200/5400\t(59%)]\tLoss: 2.188362\n",
      "Train Epoch: 1 [3400/5400\t(63%)]\tLoss: 2.315945\n",
      "Train Epoch: 1 [3600/5400\t(67%)]\tLoss: 2.250886\n",
      "Train Epoch: 1 [3800/5400\t(70%)]\tLoss: 2.176821\n",
      "Train Epoch: 1 [4000/5400\t(74%)]\tLoss: 2.139096\n",
      "Train Epoch: 1 [4200/5400\t(78%)]\tLoss: 2.286945\n",
      "Train Epoch: 1 [4400/5400\t(81%)]\tLoss: 2.290508\n",
      "Train Epoch: 1 [4600/5400\t(85%)]\tLoss: 2.072407\n",
      "Train Epoch: 1 [4800/5400\t(89%)]\tLoss: 2.231462\n",
      "Train Epoch: 1 [5000/5400\t(93%)]\tLoss: 2.115979\n",
      "Train Epoch: 1 [5200/5400\t(96%)]\tLoss: 2.332409\n",
      "\n",
      "Worker:Najeeb ends training in Global Round:1 |\n",
      "Worker:Josep starts training in Global Round:1 |\n"
     ]
    },
    {
     "data": {
      "application/vnd.jupyter.widget-view+json": {
       "model_id": "626c458fbec542b28725e8f1eb14c638",
       "version_major": 2,
       "version_minor": 0
      },
      "text/plain": [
       "HBox(children=(IntProgress(value=0, max=1), HTML(value='')))"
      ]
     },
     "metadata": {},
     "output_type": "display_data"
    },
    {
     "name": "stdout",
     "output_type": "stream",
     "text": [
      "Train Epoch: 1 [2800/5400\t(52%)]\tLoss: 2.313290\n",
      "Train Epoch: 1 [3000/5400\t(56%)]\tLoss: 2.231734\n",
      "Train Epoch: 1 [3200/5400\t(59%)]\tLoss: 2.243100\n",
      "Train Epoch: 1 [3400/5400\t(63%)]\tLoss: 2.543279\n",
      "Train Epoch: 1 [3600/5400\t(67%)]\tLoss: 2.021557\n",
      "Train Epoch: 1 [3800/5400\t(70%)]\tLoss: 2.239064\n",
      "Train Epoch: 1 [4000/5400\t(74%)]\tLoss: 2.198660\n",
      "Train Epoch: 1 [4200/5400\t(78%)]\tLoss: 2.317072\n",
      "Train Epoch: 1 [4400/5400\t(81%)]\tLoss: 2.452511\n",
      "Train Epoch: 1 [4600/5400\t(85%)]\tLoss: 2.339431\n",
      "Train Epoch: 1 [4800/5400\t(89%)]\tLoss: 2.336707\n",
      "Train Epoch: 1 [5000/5400\t(93%)]\tLoss: 2.315545\n",
      "Train Epoch: 1 [5200/5400\t(96%)]\tLoss: 2.498931\n",
      "\n",
      "Worker:Josep ends training in Global Round:1 |\n",
      "Worker:David starts training in Global Round:1 |\n"
     ]
    },
    {
     "data": {
      "application/vnd.jupyter.widget-view+json": {
       "model_id": "9b2f417aa7af41f8bfbdec91ea420913",
       "version_major": 2,
       "version_minor": 0
      },
      "text/plain": [
       "HBox(children=(IntProgress(value=0, max=1), HTML(value='')))"
      ]
     },
     "metadata": {},
     "output_type": "display_data"
    },
    {
     "name": "stdout",
     "output_type": "stream",
     "text": [
      "Train Epoch: 1 [2800/5400\t(52%)]\tLoss: 2.337329\n",
      "Train Epoch: 1 [3000/5400\t(56%)]\tLoss: 2.241972\n",
      "Train Epoch: 1 [3200/5400\t(59%)]\tLoss: 2.092384\n",
      "Train Epoch: 1 [3400/5400\t(63%)]\tLoss: 2.209370\n",
      "Train Epoch: 1 [3600/5400\t(67%)]\tLoss: 2.202882\n",
      "Train Epoch: 1 [3800/5400\t(70%)]\tLoss: 2.194799\n",
      "Train Epoch: 1 [4000/5400\t(74%)]\tLoss: 2.326563\n",
      "Train Epoch: 1 [4200/5400\t(78%)]\tLoss: 2.117611\n",
      "Train Epoch: 1 [4400/5400\t(81%)]\tLoss: 2.102262\n",
      "Train Epoch: 1 [4600/5400\t(85%)]\tLoss: 2.250882\n",
      "Train Epoch: 1 [4800/5400\t(89%)]\tLoss: 2.190263\n",
      "Train Epoch: 1 [5000/5400\t(93%)]\tLoss: 2.149969\n",
      "Train Epoch: 1 [5200/5400\t(96%)]\tLoss: 2.382586\n",
      "\n",
      "Worker:David ends training in Global Round:1 |\n",
      "Worker:Oriol starts training in Global Round:1 |\n"
     ]
    },
    {
     "data": {
      "application/vnd.jupyter.widget-view+json": {
       "model_id": "d7c7fd64d84349728e513a2e93b6fe47",
       "version_major": 2,
       "version_minor": 0
      },
      "text/plain": [
       "HBox(children=(IntProgress(value=0, max=1), HTML(value='')))"
      ]
     },
     "metadata": {},
     "output_type": "display_data"
    },
    {
     "name": "stdout",
     "output_type": "stream",
     "text": [
      "Train Epoch: 1 [2800/5400\t(52%)]\tLoss: 2.340874\n",
      "Train Epoch: 1 [3000/5400\t(56%)]\tLoss: 2.342722\n",
      "Train Epoch: 1 [3200/5400\t(59%)]\tLoss: 2.319937\n",
      "Train Epoch: 1 [3400/5400\t(63%)]\tLoss: 2.442359\n",
      "Train Epoch: 1 [3600/5400\t(67%)]\tLoss: 2.274827\n",
      "Train Epoch: 1 [3800/5400\t(70%)]\tLoss: 2.225808\n",
      "Train Epoch: 1 [4000/5400\t(74%)]\tLoss: 2.261658\n",
      "Train Epoch: 1 [4200/5400\t(78%)]\tLoss: 2.359481\n",
      "Train Epoch: 1 [4400/5400\t(81%)]\tLoss: 2.503207\n",
      "Train Epoch: 1 [4600/5400\t(85%)]\tLoss: 2.368153\n",
      "Train Epoch: 1 [4800/5400\t(89%)]\tLoss: 2.358307\n",
      "Train Epoch: 1 [5000/5400\t(93%)]\tLoss: 2.160060\n",
      "Train Epoch: 1 [5200/5400\t(96%)]\tLoss: 2.220742\n",
      "\n",
      "Worker:Oriol ends training in Global Round:1 |\n",
      "\n",
      " Current global round local reputations\n",
      "\n",
      "\n",
      "local ratings introduced by accountability manager:  Ashneet , with tau value =:  2\n",
      "\n",
      "Worker         Rating                   Distance       \n",
      "\n",
      "Alberto                 1            0.0789846998171185\n",
      "\n",
      "Michel                  1           0.07527163324524963\n",
      "\n",
      "Fadi                    1           0.07727982008091136\n",
      "\n",
      "Najeeb                  1           0.06054848476079371\n",
      "\n",
      "Josep                   1           0.07796756199664681\n",
      "\n",
      "David                   1            0.0751295645902276\n",
      "\n",
      "Oriol                   1          0.016465006040105586\n",
      "\n",
      "local ratings introduced by accountability manager:  David , with tau value =:  2\n",
      "\n",
      "Worker         Rating                   Distance       \n",
      "\n",
      "Alberto                 1            0.0789846998171185\n",
      "\n",
      "Michel                  1           0.07527163324524963\n",
      "\n",
      "Fadi                    1           0.07727982008091136\n",
      "\n",
      "Najeeb                  1           0.06054848476079371\n",
      "\n",
      "Josep                   1           0.07796756199664681\n",
      "\n",
      "David                   1            0.0751295645902276\n",
      "\n",
      "Oriol                   1          0.016465006040105586\n",
      "\n",
      "local ratings introduced by accountability manager:  Michel , with tau value =:  2\n",
      "\n",
      "Worker         Rating                   Distance       \n",
      "\n",
      "Alberto                 1            0.0789846998171185\n",
      "\n",
      "Michel                  1           0.07527163324524963\n",
      "\n",
      "Fadi                    1           0.07727982008091136\n",
      "\n",
      "Najeeb                  1           0.06054848476079371\n",
      "\n",
      "Josep                   1           0.07796756199664681\n",
      "\n",
      "David                   1            0.0751295645902276\n",
      "\n",
      "Oriol                   1          0.016465006040105586\n",
      "\n",
      "Average loss: 2.2327, Accuracy: 2547/10000 (25%)\n",
      "\n",
      "Category   - Accuracy\n",
      "Zero       - 9.3\n",
      "One        - 6.6\n",
      "Two        - 0.9\n",
      "Three      - 90.1\n",
      "Four       - 17.4\n",
      "Five       - 0.2\n",
      "Six        - 44.9\n",
      "Seven      - 5.4\n",
      "Eight      - 28.5\n",
      "Nine       - 52.0\n",
      "\n",
      " | Global Training Round : 2 |\n",
      "\n",
      "Worker:Alberto starts training in Global Round:2 |\n"
     ]
    },
    {
     "data": {
      "application/vnd.jupyter.widget-view+json": {
       "model_id": "30751c88175c4ec18ebeb83bf12ec5b5",
       "version_major": 2,
       "version_minor": 0
      },
      "text/plain": [
       "HBox(children=(IntProgress(value=0, max=1), HTML(value='')))"
      ]
     },
     "metadata": {},
     "output_type": "display_data"
    },
    {
     "name": "stdout",
     "output_type": "stream",
     "text": [
      "Train Epoch: 1 [2800/5400\t(52%)]\tLoss: 2.177355\n",
      "Train Epoch: 1 [3000/5400\t(56%)]\tLoss: 2.459966\n",
      "Train Epoch: 1 [3200/5400\t(59%)]\tLoss: 1.808574\n",
      "Train Epoch: 1 [3400/5400\t(63%)]\tLoss: 2.186789\n",
      "Train Epoch: 1 [3600/5400\t(67%)]\tLoss: 2.196131\n",
      "Train Epoch: 1 [3800/5400\t(70%)]\tLoss: 2.175067\n",
      "Train Epoch: 1 [4000/5400\t(74%)]\tLoss: 2.193486\n",
      "Train Epoch: 1 [4200/5400\t(78%)]\tLoss: 2.379504\n",
      "Train Epoch: 1 [4400/5400\t(81%)]\tLoss: 2.115290\n",
      "Train Epoch: 1 [4600/5400\t(85%)]\tLoss: 1.930919\n",
      "Train Epoch: 1 [4800/5400\t(89%)]\tLoss: 2.038645\n",
      "Train Epoch: 1 [5000/5400\t(93%)]\tLoss: 2.160171\n",
      "Train Epoch: 1 [5200/5400\t(96%)]\tLoss: 1.864089\n",
      "\n",
      "Worker:Alberto ends training in Global Round:2 |\n",
      "Worker:Michel starts training in Global Round:2 |\n"
     ]
    },
    {
     "data": {
      "application/vnd.jupyter.widget-view+json": {
       "model_id": "c2b3b4e198844866b0af1039aec13577",
       "version_major": 2,
       "version_minor": 0
      },
      "text/plain": [
       "HBox(children=(IntProgress(value=0, max=1), HTML(value='')))"
      ]
     },
     "metadata": {},
     "output_type": "display_data"
    },
    {
     "name": "stdout",
     "output_type": "stream",
     "text": [
      "Train Epoch: 1 [2800/5400\t(52%)]\tLoss: 2.311893\n",
      "Train Epoch: 1 [3000/5400\t(56%)]\tLoss: 2.274460\n",
      "Train Epoch: 1 [3200/5400\t(59%)]\tLoss: 2.245809\n",
      "Train Epoch: 1 [3400/5400\t(63%)]\tLoss: 2.319588\n",
      "Train Epoch: 1 [3600/5400\t(67%)]\tLoss: 2.161654\n",
      "Train Epoch: 1 [3800/5400\t(70%)]\tLoss: 1.687590\n",
      "Train Epoch: 1 [4000/5400\t(74%)]\tLoss: 2.454273\n",
      "Train Epoch: 1 [4200/5400\t(78%)]\tLoss: 1.651412\n",
      "Train Epoch: 1 [4400/5400\t(81%)]\tLoss: 2.230915\n",
      "Train Epoch: 1 [4600/5400\t(85%)]\tLoss: 1.770368\n",
      "Train Epoch: 1 [4800/5400\t(89%)]\tLoss: 2.094948\n",
      "Train Epoch: 1 [5000/5400\t(93%)]\tLoss: 1.574526\n",
      "Train Epoch: 1 [5200/5400\t(96%)]\tLoss: 2.383925\n",
      "\n",
      "Worker:Michel ends training in Global Round:2 |\n",
      "Worker:Fadi starts training in Global Round:2 |\n"
     ]
    },
    {
     "data": {
      "application/vnd.jupyter.widget-view+json": {
       "model_id": "76e24336ca0146b08226ce8592678067",
       "version_major": 2,
       "version_minor": 0
      },
      "text/plain": [
       "HBox(children=(IntProgress(value=0, max=1), HTML(value='')))"
      ]
     },
     "metadata": {},
     "output_type": "display_data"
    },
    {
     "name": "stdout",
     "output_type": "stream",
     "text": [
      "Train Epoch: 1 [2800/5400\t(52%)]\tLoss: 2.365178\n",
      "Train Epoch: 1 [3000/5400\t(56%)]\tLoss: 1.847836\n",
      "Train Epoch: 1 [3200/5400\t(59%)]\tLoss: 2.219997\n",
      "Train Epoch: 1 [3400/5400\t(63%)]\tLoss: 2.145752\n",
      "Train Epoch: 1 [3600/5400\t(67%)]\tLoss: 2.129066\n",
      "Train Epoch: 1 [3800/5400\t(70%)]\tLoss: 2.279285\n",
      "Train Epoch: 1 [4000/5400\t(74%)]\tLoss: 2.193641\n",
      "Train Epoch: 1 [4200/5400\t(78%)]\tLoss: 2.286580\n",
      "Train Epoch: 1 [4400/5400\t(81%)]\tLoss: 2.300992\n",
      "Train Epoch: 1 [4600/5400\t(85%)]\tLoss: 1.640748\n",
      "Train Epoch: 1 [4800/5400\t(89%)]\tLoss: 2.386091\n",
      "Train Epoch: 1 [5000/5400\t(93%)]\tLoss: 2.181379\n",
      "Train Epoch: 1 [5200/5400\t(96%)]\tLoss: 2.006488\n",
      "\n",
      "Worker:Fadi ends training in Global Round:2 |\n",
      "Worker:Najeeb starts training in Global Round:2 |\n"
     ]
    },
    {
     "data": {
      "application/vnd.jupyter.widget-view+json": {
       "model_id": "7a4a9fe6eaea42c0bd7c4462db0dff4b",
       "version_major": 2,
       "version_minor": 0
      },
      "text/plain": [
       "HBox(children=(IntProgress(value=0, max=1), HTML(value='')))"
      ]
     },
     "metadata": {},
     "output_type": "display_data"
    },
    {
     "name": "stdout",
     "output_type": "stream",
     "text": [
      "Train Epoch: 1 [2800/5400\t(52%)]\tLoss: 2.365581\n",
      "Train Epoch: 1 [3000/5400\t(56%)]\tLoss: 2.188790\n",
      "Train Epoch: 1 [3200/5400\t(59%)]\tLoss: 2.307305\n",
      "Train Epoch: 1 [3400/5400\t(63%)]\tLoss: 2.173314\n",
      "Train Epoch: 1 [3600/5400\t(67%)]\tLoss: 1.960625\n",
      "Train Epoch: 1 [3800/5400\t(70%)]\tLoss: 2.051865\n",
      "Train Epoch: 1 [4000/5400\t(74%)]\tLoss: 1.889433\n",
      "Train Epoch: 1 [4200/5400\t(78%)]\tLoss: 1.561734\n",
      "Train Epoch: 1 [4400/5400\t(81%)]\tLoss: 2.150613\n",
      "Train Epoch: 1 [4600/5400\t(85%)]\tLoss: 2.275733\n",
      "Train Epoch: 1 [4800/5400\t(89%)]\tLoss: 1.958728\n",
      "Train Epoch: 1 [5000/5400\t(93%)]\tLoss: 2.040238\n",
      "Train Epoch: 1 [5200/5400\t(96%)]\tLoss: 1.651668\n",
      "\n",
      "Worker:Najeeb ends training in Global Round:2 |\n",
      "Worker:Josep starts training in Global Round:2 |\n"
     ]
    },
    {
     "data": {
      "application/vnd.jupyter.widget-view+json": {
       "model_id": "65a98a4312ba4a0dade41dc0d9b24cec",
       "version_major": 2,
       "version_minor": 0
      },
      "text/plain": [
       "HBox(children=(IntProgress(value=0, max=1), HTML(value='')))"
      ]
     },
     "metadata": {},
     "output_type": "display_data"
    },
    {
     "name": "stdout",
     "output_type": "stream",
     "text": [
      "Train Epoch: 1 [2800/5400\t(52%)]\tLoss: 2.054808\n",
      "Train Epoch: 1 [3000/5400\t(56%)]\tLoss: 2.181420\n",
      "Train Epoch: 1 [3200/5400\t(59%)]\tLoss: 1.896897\n",
      "Train Epoch: 1 [3400/5400\t(63%)]\tLoss: 1.771092\n",
      "Train Epoch: 1 [3600/5400\t(67%)]\tLoss: 1.966376\n",
      "Train Epoch: 1 [3800/5400\t(70%)]\tLoss: 2.062821\n",
      "Train Epoch: 1 [4000/5400\t(74%)]\tLoss: 2.190853\n",
      "Train Epoch: 1 [4200/5400\t(78%)]\tLoss: 2.004335\n",
      "Train Epoch: 1 [4400/5400\t(81%)]\tLoss: 2.254375\n",
      "Train Epoch: 1 [4600/5400\t(85%)]\tLoss: 2.457988\n",
      "Train Epoch: 1 [4800/5400\t(89%)]\tLoss: 1.933439\n",
      "Train Epoch: 1 [5000/5400\t(93%)]\tLoss: 2.521827\n",
      "Train Epoch: 1 [5200/5400\t(96%)]\tLoss: 1.554237\n",
      "\n",
      "Worker:Josep ends training in Global Round:2 |\n",
      "Worker:David starts training in Global Round:2 |\n"
     ]
    },
    {
     "data": {
      "application/vnd.jupyter.widget-view+json": {
       "model_id": "32805c4b9555436c9e3da2a1e078294a",
       "version_major": 2,
       "version_minor": 0
      },
      "text/plain": [
       "HBox(children=(IntProgress(value=0, max=1), HTML(value='')))"
      ]
     },
     "metadata": {},
     "output_type": "display_data"
    },
    {
     "name": "stdout",
     "output_type": "stream",
     "text": [
      "Train Epoch: 1 [2800/5400\t(52%)]\tLoss: 2.064815\n",
      "Train Epoch: 1 [3000/5400\t(56%)]\tLoss: 2.105316\n",
      "Train Epoch: 1 [3200/5400\t(59%)]\tLoss: 2.246685\n",
      "Train Epoch: 1 [3400/5400\t(63%)]\tLoss: 1.998770\n",
      "Train Epoch: 1 [3600/5400\t(67%)]\tLoss: 2.403006\n",
      "Train Epoch: 1 [3800/5400\t(70%)]\tLoss: 2.063292\n",
      "Train Epoch: 1 [4000/5400\t(74%)]\tLoss: 1.849421\n",
      "Train Epoch: 1 [4200/5400\t(78%)]\tLoss: 2.155566\n",
      "Train Epoch: 1 [4400/5400\t(81%)]\tLoss: 2.442038\n",
      "Train Epoch: 1 [4600/5400\t(85%)]\tLoss: 2.082169\n",
      "Train Epoch: 1 [4800/5400\t(89%)]\tLoss: 1.955119\n",
      "Train Epoch: 1 [5000/5400\t(93%)]\tLoss: 2.378979\n",
      "Train Epoch: 1 [5200/5400\t(96%)]\tLoss: 1.790058\n",
      "\n",
      "Worker:David ends training in Global Round:2 |\n",
      "Worker:Oriol starts training in Global Round:2 |\n"
     ]
    },
    {
     "data": {
      "application/vnd.jupyter.widget-view+json": {
       "model_id": "0f670b96eefb41119ea7ee17bfa4521a",
       "version_major": 2,
       "version_minor": 0
      },
      "text/plain": [
       "HBox(children=(IntProgress(value=0, max=1), HTML(value='')))"
      ]
     },
     "metadata": {},
     "output_type": "display_data"
    },
    {
     "name": "stdout",
     "output_type": "stream",
     "text": [
      "Train Epoch: 1 [2800/5400\t(52%)]\tLoss: 1.885741\n",
      "Train Epoch: 1 [3000/5400\t(56%)]\tLoss: 1.876154\n",
      "Train Epoch: 1 [3200/5400\t(59%)]\tLoss: 1.682922\n",
      "Train Epoch: 1 [3400/5400\t(63%)]\tLoss: 1.942802\n",
      "Train Epoch: 1 [3600/5400\t(67%)]\tLoss: 2.131840\n",
      "Train Epoch: 1 [3800/5400\t(70%)]\tLoss: 1.997252\n",
      "Train Epoch: 1 [4000/5400\t(74%)]\tLoss: 2.085141\n",
      "Train Epoch: 1 [4200/5400\t(78%)]\tLoss: 1.918267\n",
      "Train Epoch: 1 [4400/5400\t(81%)]\tLoss: 2.292149\n",
      "Train Epoch: 1 [4600/5400\t(85%)]\tLoss: 1.747406\n",
      "Train Epoch: 1 [4800/5400\t(89%)]\tLoss: 2.149998\n",
      "Train Epoch: 1 [5000/5400\t(93%)]\tLoss: 1.876744\n",
      "Train Epoch: 1 [5200/5400\t(96%)]\tLoss: 2.091560\n",
      "\n",
      "Worker:Oriol ends training in Global Round:2 |\n",
      "\n",
      " Current global round local reputations\n",
      "\n",
      "\n",
      "local ratings introduced by accountability manager:  Ashneet , with tau value =:  2\n",
      "\n",
      "Worker         Rating                   Distance       \n",
      "\n",
      "Alberto                 1           0.11616124301130078\n",
      "\n",
      "Michel                  1           0.11611940835070822\n",
      "\n",
      "Fadi                    1           0.09393378892626046\n",
      "\n",
      "Najeeb                  1           0.11072607057667148\n",
      "\n",
      "Josep                   1            0.1111099074104069\n",
      "\n",
      "David                   1           0.11358382912875482\n",
      "\n",
      "Oriol                   1          0.017883545681134875\n",
      "\n",
      "local ratings introduced by accountability manager:  David , with tau value =:  2\n",
      "\n",
      "Worker         Rating                   Distance       \n",
      "\n",
      "Alberto                 1           0.11616124301130078\n",
      "\n",
      "Michel                  1           0.11611940835070822\n",
      "\n",
      "Fadi                    1           0.09393378892626046\n",
      "\n",
      "Najeeb                  1           0.11072607057667148\n",
      "\n",
      "Josep                   1            0.1111099074104069\n",
      "\n",
      "David                   1           0.11358382912875482\n",
      "\n",
      "Oriol                   1          0.017883545681134875\n",
      "\n",
      "local ratings introduced by accountability manager:  Michel , with tau value =:  2\n",
      "\n",
      "Worker         Rating                   Distance       \n",
      "\n",
      "Alberto                 1           0.11616124301130078\n",
      "\n",
      "Michel                  1           0.11611940835070822\n",
      "\n",
      "Fadi                    1           0.09393378892626046\n",
      "\n",
      "Najeeb                  1           0.11072607057667148\n",
      "\n",
      "Josep                   1            0.1111099074104069\n",
      "\n",
      "David                   1           0.11358382912875482\n",
      "\n",
      "Oriol                   1          0.017883545681134875\n",
      "\n",
      "Average loss: 1.9354, Accuracy: 6498/10000 (65%)\n",
      "\n",
      "Category   - Accuracy\n",
      "Zero       - 98.1\n",
      "One        - 79.4\n",
      "Two        - 17.3\n",
      "Three      - 89.9\n",
      "Four       - 47.9\n",
      "Five       - 42.4\n",
      "Six        - 76.6\n",
      "Seven      - 93.5\n",
      "Eight      - 76.3\n",
      "Nine       - 26.1\n",
      "\n",
      " | Global Training Round : 3 |\n",
      "\n",
      "Worker:Alberto starts training in Global Round:3 |\n"
     ]
    },
    {
     "data": {
      "application/vnd.jupyter.widget-view+json": {
       "model_id": "b1f7f7ceadae4771bfb17ffc2b9ee96e",
       "version_major": 2,
       "version_minor": 0
      },
      "text/plain": [
       "HBox(children=(IntProgress(value=0, max=1), HTML(value='')))"
      ]
     },
     "metadata": {},
     "output_type": "display_data"
    },
    {
     "name": "stdout",
     "output_type": "stream",
     "text": [
      "Train Epoch: 1 [2800/5400\t(52%)]\tLoss: 1.293330\n",
      "Train Epoch: 1 [3000/5400\t(56%)]\tLoss: 0.925144\n",
      "Train Epoch: 1 [3200/5400\t(59%)]\tLoss: 2.076167\n",
      "Train Epoch: 1 [3400/5400\t(63%)]\tLoss: 1.115615\n",
      "Train Epoch: 1 [3600/5400\t(67%)]\tLoss: 2.004476\n",
      "Train Epoch: 1 [3800/5400\t(70%)]\tLoss: 1.890332\n",
      "Train Epoch: 1 [4000/5400\t(74%)]\tLoss: 1.836373\n",
      "Train Epoch: 1 [4200/5400\t(78%)]\tLoss: 1.663460\n",
      "Train Epoch: 1 [4400/5400\t(81%)]\tLoss: 1.733804\n",
      "Train Epoch: 1 [4600/5400\t(85%)]\tLoss: 1.884789\n",
      "Train Epoch: 1 [4800/5400\t(89%)]\tLoss: 1.644499\n",
      "Train Epoch: 1 [5000/5400\t(93%)]\tLoss: 0.618413\n",
      "Train Epoch: 1 [5200/5400\t(96%)]\tLoss: 1.852699\n",
      "\n",
      "Worker:Alberto ends training in Global Round:3 |\n",
      "Worker:Michel starts training in Global Round:3 |\n"
     ]
    },
    {
     "data": {
      "application/vnd.jupyter.widget-view+json": {
       "model_id": "0f1158d6ed11465bbbc6c31287df987a",
       "version_major": 2,
       "version_minor": 0
      },
      "text/plain": [
       "HBox(children=(IntProgress(value=0, max=1), HTML(value='')))"
      ]
     },
     "metadata": {},
     "output_type": "display_data"
    },
    {
     "name": "stdout",
     "output_type": "stream",
     "text": [
      "Train Epoch: 1 [2800/5400\t(52%)]\tLoss: 1.156521\n",
      "Train Epoch: 1 [3000/5400\t(56%)]\tLoss: 1.880248\n",
      "Train Epoch: 1 [3200/5400\t(59%)]\tLoss: 2.286238\n",
      "Train Epoch: 1 [3400/5400\t(63%)]\tLoss: 0.963667\n",
      "Train Epoch: 1 [3600/5400\t(67%)]\tLoss: 1.847283\n",
      "Train Epoch: 1 [3800/5400\t(70%)]\tLoss: 1.820459\n",
      "Train Epoch: 1 [4000/5400\t(74%)]\tLoss: 1.357868\n",
      "Train Epoch: 1 [4200/5400\t(78%)]\tLoss: 1.538617\n",
      "Train Epoch: 1 [4400/5400\t(81%)]\tLoss: 1.682876\n",
      "Train Epoch: 1 [4600/5400\t(85%)]\tLoss: 1.937741\n",
      "Train Epoch: 1 [4800/5400\t(89%)]\tLoss: 1.287905\n",
      "Train Epoch: 1 [5000/5400\t(93%)]\tLoss: 2.325465\n",
      "Train Epoch: 1 [5200/5400\t(96%)]\tLoss: 1.863034\n",
      "\n",
      "Worker:Michel ends training in Global Round:3 |\n",
      "Worker:Fadi starts training in Global Round:3 |\n"
     ]
    },
    {
     "data": {
      "application/vnd.jupyter.widget-view+json": {
       "model_id": "3f5677e1f03443489a1e8c859fd9ade8",
       "version_major": 2,
       "version_minor": 0
      },
      "text/plain": [
       "HBox(children=(IntProgress(value=0, max=1), HTML(value='')))"
      ]
     },
     "metadata": {},
     "output_type": "display_data"
    },
    {
     "name": "stdout",
     "output_type": "stream",
     "text": [
      "Train Epoch: 1 [2800/5400\t(52%)]\tLoss: 1.576698\n",
      "Train Epoch: 1 [3000/5400\t(56%)]\tLoss: 2.254209\n",
      "Train Epoch: 1 [3200/5400\t(59%)]\tLoss: 2.349023\n",
      "Train Epoch: 1 [3400/5400\t(63%)]\tLoss: 1.492032\n",
      "Train Epoch: 1 [3600/5400\t(67%)]\tLoss: 1.203132\n",
      "Train Epoch: 1 [3800/5400\t(70%)]\tLoss: 1.129349\n",
      "Train Epoch: 1 [4000/5400\t(74%)]\tLoss: 2.106981\n",
      "Train Epoch: 1 [4200/5400\t(78%)]\tLoss: 1.998295\n",
      "Train Epoch: 1 [4400/5400\t(81%)]\tLoss: 1.327305\n",
      "Train Epoch: 1 [4600/5400\t(85%)]\tLoss: 1.373290\n",
      "Train Epoch: 1 [4800/5400\t(89%)]\tLoss: 0.665231\n",
      "Train Epoch: 1 [5000/5400\t(93%)]\tLoss: 1.637267\n",
      "Train Epoch: 1 [5200/5400\t(96%)]\tLoss: 0.760102\n",
      "\n",
      "Worker:Fadi ends training in Global Round:3 |\n",
      "Worker:Najeeb starts training in Global Round:3 |\n"
     ]
    },
    {
     "data": {
      "application/vnd.jupyter.widget-view+json": {
       "model_id": "93eb235b988045598eeab327c3cdecaf",
       "version_major": 2,
       "version_minor": 0
      },
      "text/plain": [
       "HBox(children=(IntProgress(value=0, max=1), HTML(value='')))"
      ]
     },
     "metadata": {},
     "output_type": "display_data"
    },
    {
     "name": "stdout",
     "output_type": "stream",
     "text": [
      "Train Epoch: 1 [2800/5400\t(52%)]\tLoss: 2.197221\n",
      "Train Epoch: 1 [3000/5400\t(56%)]\tLoss: 0.481125\n",
      "Train Epoch: 1 [3200/5400\t(59%)]\tLoss: 2.494333\n",
      "Train Epoch: 1 [3400/5400\t(63%)]\tLoss: 1.309795\n",
      "Train Epoch: 1 [3600/5400\t(67%)]\tLoss: 1.766879\n",
      "Train Epoch: 1 [3800/5400\t(70%)]\tLoss: 1.180323\n",
      "Train Epoch: 1 [4000/5400\t(74%)]\tLoss: 2.037767\n",
      "Train Epoch: 1 [4200/5400\t(78%)]\tLoss: 1.584987\n",
      "Train Epoch: 1 [4400/5400\t(81%)]\tLoss: 2.100937\n",
      "Train Epoch: 1 [4600/5400\t(85%)]\tLoss: 1.814109\n",
      "Train Epoch: 1 [4800/5400\t(89%)]\tLoss: 1.268429\n",
      "Train Epoch: 1 [5000/5400\t(93%)]\tLoss: 1.409050\n",
      "Train Epoch: 1 [5200/5400\t(96%)]\tLoss: 0.404390\n",
      "\n",
      "Worker:Najeeb ends training in Global Round:3 |\n",
      "Worker:Josep starts training in Global Round:3 |\n"
     ]
    },
    {
     "data": {
      "application/vnd.jupyter.widget-view+json": {
       "model_id": "7cb8ff29f6cf43f4a05d09b5621efdea",
       "version_major": 2,
       "version_minor": 0
      },
      "text/plain": [
       "HBox(children=(IntProgress(value=0, max=1), HTML(value='')))"
      ]
     },
     "metadata": {},
     "output_type": "display_data"
    },
    {
     "name": "stdout",
     "output_type": "stream",
     "text": [
      "Train Epoch: 1 [2800/5400\t(52%)]\tLoss: 1.479672\n",
      "Train Epoch: 1 [3000/5400\t(56%)]\tLoss: 1.873677\n",
      "Train Epoch: 1 [3200/5400\t(59%)]\tLoss: 1.925297\n",
      "Train Epoch: 1 [3400/5400\t(63%)]\tLoss: 1.824014\n",
      "Train Epoch: 1 [3600/5400\t(67%)]\tLoss: 1.583460\n",
      "Train Epoch: 1 [3800/5400\t(70%)]\tLoss: 1.317597\n",
      "Train Epoch: 1 [4000/5400\t(74%)]\tLoss: 1.715750\n",
      "Train Epoch: 1 [4200/5400\t(78%)]\tLoss: 2.534041\n",
      "Train Epoch: 1 [4400/5400\t(81%)]\tLoss: 0.876982\n",
      "Train Epoch: 1 [4600/5400\t(85%)]\tLoss: 1.334448\n",
      "Train Epoch: 1 [4800/5400\t(89%)]\tLoss: 0.969060\n",
      "Train Epoch: 1 [5000/5400\t(93%)]\tLoss: 1.444130\n",
      "Train Epoch: 1 [5200/5400\t(96%)]\tLoss: 1.740074\n",
      "\n",
      "Worker:Josep ends training in Global Round:3 |\n",
      "Worker:David starts training in Global Round:3 |\n"
     ]
    },
    {
     "data": {
      "application/vnd.jupyter.widget-view+json": {
       "model_id": "227ceab3bef74606a15bebde9284a310",
       "version_major": 2,
       "version_minor": 0
      },
      "text/plain": [
       "HBox(children=(IntProgress(value=0, max=1), HTML(value='')))"
      ]
     },
     "metadata": {},
     "output_type": "display_data"
    },
    {
     "name": "stdout",
     "output_type": "stream",
     "text": [
      "Train Epoch: 1 [2800/5400\t(52%)]\tLoss: 1.454268\n",
      "Train Epoch: 1 [3000/5400\t(56%)]\tLoss: 1.500911\n",
      "Train Epoch: 1 [3200/5400\t(59%)]\tLoss: 1.461104\n",
      "Train Epoch: 1 [3400/5400\t(63%)]\tLoss: 1.716825\n",
      "Train Epoch: 1 [3600/5400\t(67%)]\tLoss: 2.031857\n",
      "Train Epoch: 1 [3800/5400\t(70%)]\tLoss: 1.021196\n",
      "Train Epoch: 1 [4000/5400\t(74%)]\tLoss: 1.935479\n",
      "Train Epoch: 1 [4200/5400\t(78%)]\tLoss: 1.173896\n",
      "Train Epoch: 1 [4400/5400\t(81%)]\tLoss: 1.125529\n",
      "Train Epoch: 1 [4600/5400\t(85%)]\tLoss: 1.850949\n",
      "Train Epoch: 1 [4800/5400\t(89%)]\tLoss: 0.914234\n",
      "Train Epoch: 1 [5000/5400\t(93%)]\tLoss: 1.196360\n",
      "Train Epoch: 1 [5200/5400\t(96%)]\tLoss: 2.716447\n",
      "\n",
      "Worker:David ends training in Global Round:3 |\n",
      "Worker:Oriol starts training in Global Round:3 |\n",
      "===>Targeted/stealthy attack started by:  Oriol  in Global Round:  3\n"
     ]
    },
    {
     "data": {
      "application/vnd.jupyter.widget-view+json": {
       "model_id": "801a1fbed75a40b79fa6a5196b07ffa1",
       "version_major": 2,
       "version_minor": 0
      },
      "text/plain": [
       "HBox(children=(IntProgress(value=0, max=1), HTML(value='')))"
      ]
     },
     "metadata": {},
     "output_type": "display_data"
    },
    {
     "name": "stdout",
     "output_type": "stream",
     "text": [
      "Train Epoch: 1 [2800/5400\t(52%)]\tLoss: 0.861807\n",
      "Train Epoch: 1 [3000/5400\t(56%)]\tLoss: 1.082323\n",
      "Train Epoch: 1 [3200/5400\t(59%)]\tLoss: 1.178984\n",
      "Train Epoch: 1 [3400/5400\t(63%)]\tLoss: 0.591495\n",
      "Train Epoch: 1 [3600/5400\t(67%)]\tLoss: 2.122553\n",
      "Train Epoch: 1 [3800/5400\t(70%)]\tLoss: 1.220353\n",
      "Train Epoch: 1 [4000/5400\t(74%)]\tLoss: 1.944248\n",
      "Train Epoch: 1 [4200/5400\t(78%)]\tLoss: 2.249997\n",
      "Train Epoch: 1 [4400/5400\t(81%)]\tLoss: 1.214326\n",
      "Train Epoch: 1 [4600/5400\t(85%)]\tLoss: 1.758897\n",
      "Train Epoch: 1 [4800/5400\t(89%)]\tLoss: 1.149911\n",
      "Train Epoch: 1 [5000/5400\t(93%)]\tLoss: 0.704596\n",
      "Train Epoch: 1 [5200/5400\t(96%)]\tLoss: 1.083117\n",
      "\n",
      "Worker:Oriol ends training in Global Round:3 |\n",
      "\n",
      " Current global round local reputations\n",
      "\n",
      "\n",
      "local ratings introduced by accountability manager:  Ashneet , with tau value =:  2\n",
      "\n",
      "Worker         Rating                   Distance       \n",
      "\n",
      "Alberto                 0           0.20213408382327402\n",
      "\n",
      "Michel                  1           0.18813752800191244\n",
      "\n",
      "Fadi                    1           0.18415268794571615\n",
      "\n",
      "Najeeb                  1           0.19264819656435617\n",
      "\n",
      "Josep                   1         0.0003711252673503503\n",
      "\n",
      "David                   1            0.1907216024522383\n",
      "\n",
      "Oriol                   0            0.2789175534585061\n",
      "\n",
      "local ratings introduced by accountability manager:  David , with tau value =:  2\n",
      "\n",
      "Worker         Rating                   Distance       \n",
      "\n",
      "Alberto                 0           0.20213408382327402\n",
      "\n",
      "Michel                  1           0.18813752800191244\n",
      "\n",
      "Fadi                    1           0.18415268794571615\n",
      "\n",
      "Najeeb                  1           0.19264819656435617\n",
      "\n",
      "Josep                   1         0.0003711252673503503\n",
      "\n",
      "David                   1            0.1907216024522383\n",
      "\n",
      "Oriol                   0            0.2789175534585061\n",
      "\n",
      "local ratings introduced by accountability manager:  Michel , with tau value =:  2\n",
      "\n",
      "Worker         Rating                   Distance       \n",
      "\n",
      "Alberto                 0           0.20213408382327402\n",
      "\n",
      "Michel                  1           0.18813752800191244\n",
      "\n",
      "Fadi                    1           0.18415268794571615\n",
      "\n",
      "Najeeb                  1           0.19264819656435617\n",
      "\n",
      "Josep                   1         0.0003711252673503503\n",
      "\n",
      "David                   1            0.1907216024522383\n",
      "\n",
      "Oriol                   0            0.2789175534585061\n",
      "\n",
      "Average loss: 1.8859, Accuracy: 7939/10000 (79%)\n",
      "\n",
      "Category   - Accuracy\n",
      "Zero       - 97.9\n",
      "One        - 98.9\n",
      "Two        - 70.1\n",
      "Three      - 88.7\n",
      "Four       - 78.0\n",
      "Five       - 64.7\n",
      "Six        - 94.8\n",
      "Seven      - 86.8\n",
      "Eight      - 42.6\n",
      "Nine       - 67.4\n",
      "\n",
      " | Global Training Round : 4 |\n",
      "\n",
      "Worker:Alberto starts training in Global Round:4 |\n"
     ]
    },
    {
     "data": {
      "application/vnd.jupyter.widget-view+json": {
       "model_id": "5153030b80674de2af83edba36eb7fcb",
       "version_major": 2,
       "version_minor": 0
      },
      "text/plain": [
       "HBox(children=(IntProgress(value=0, max=1), HTML(value='')))"
      ]
     },
     "metadata": {},
     "output_type": "display_data"
    },
    {
     "name": "stdout",
     "output_type": "stream",
     "text": [
      "Train Epoch: 1 [2800/5400\t(52%)]\tLoss: 1.586554\n",
      "Train Epoch: 1 [3000/5400\t(56%)]\tLoss: 1.483513\n",
      "Train Epoch: 1 [3200/5400\t(59%)]\tLoss: 3.383774\n",
      "Train Epoch: 1 [3400/5400\t(63%)]\tLoss: 0.858513\n",
      "Train Epoch: 1 [3600/5400\t(67%)]\tLoss: 1.862509\n",
      "Train Epoch: 1 [3800/5400\t(70%)]\tLoss: 1.917785\n",
      "Train Epoch: 1 [4000/5400\t(74%)]\tLoss: 2.276648\n",
      "Train Epoch: 1 [4200/5400\t(78%)]\tLoss: 1.494889\n",
      "Train Epoch: 1 [4400/5400\t(81%)]\tLoss: 0.754509\n",
      "Train Epoch: 1 [4600/5400\t(85%)]\tLoss: 0.992984\n",
      "Train Epoch: 1 [4800/5400\t(89%)]\tLoss: 0.541003\n",
      "Train Epoch: 1 [5000/5400\t(93%)]\tLoss: 2.496290\n",
      "Train Epoch: 1 [5200/5400\t(96%)]\tLoss: 0.995852\n",
      "\n",
      "Worker:Alberto ends training in Global Round:4 |\n",
      "Worker:Michel starts training in Global Round:4 |\n"
     ]
    },
    {
     "data": {
      "application/vnd.jupyter.widget-view+json": {
       "model_id": "d45bf22d659e4c4094f427f0feff687c",
       "version_major": 2,
       "version_minor": 0
      },
      "text/plain": [
       "HBox(children=(IntProgress(value=0, max=1), HTML(value='')))"
      ]
     },
     "metadata": {},
     "output_type": "display_data"
    },
    {
     "name": "stdout",
     "output_type": "stream",
     "text": [
      "Train Epoch: 1 [2800/5400\t(52%)]\tLoss: 1.248108\n",
      "Train Epoch: 1 [3000/5400\t(56%)]\tLoss: 1.272567\n",
      "Train Epoch: 1 [3200/5400\t(59%)]\tLoss: 2.167798\n",
      "Train Epoch: 1 [3400/5400\t(63%)]\tLoss: 1.572403\n",
      "Train Epoch: 1 [3600/5400\t(67%)]\tLoss: 1.332186\n",
      "Train Epoch: 1 [3800/5400\t(70%)]\tLoss: 0.877988\n",
      "Train Epoch: 1 [4000/5400\t(74%)]\tLoss: 1.448335\n",
      "Train Epoch: 1 [4200/5400\t(78%)]\tLoss: 1.347468\n",
      "Train Epoch: 1 [4400/5400\t(81%)]\tLoss: 0.208381\n",
      "Train Epoch: 1 [4600/5400\t(85%)]\tLoss: 1.042044\n",
      "Train Epoch: 1 [4800/5400\t(89%)]\tLoss: 1.134015\n",
      "Train Epoch: 1 [5000/5400\t(93%)]\tLoss: 0.991972\n",
      "Train Epoch: 1 [5200/5400\t(96%)]\tLoss: 0.650703\n",
      "\n",
      "Worker:Michel ends training in Global Round:4 |\n",
      "Worker:Fadi starts training in Global Round:4 |\n"
     ]
    },
    {
     "data": {
      "application/vnd.jupyter.widget-view+json": {
       "model_id": "6b38295ab10c45da854bbb2976b4554a",
       "version_major": 2,
       "version_minor": 0
      },
      "text/plain": [
       "HBox(children=(IntProgress(value=0, max=1), HTML(value='')))"
      ]
     },
     "metadata": {},
     "output_type": "display_data"
    },
    {
     "name": "stdout",
     "output_type": "stream",
     "text": [
      "Train Epoch: 1 [2800/5400\t(52%)]\tLoss: 1.344098\n",
      "Train Epoch: 1 [3000/5400\t(56%)]\tLoss: 2.047393\n",
      "Train Epoch: 1 [3200/5400\t(59%)]\tLoss: 1.565728\n",
      "Train Epoch: 1 [3400/5400\t(63%)]\tLoss: 1.731268\n",
      "Train Epoch: 1 [3600/5400\t(67%)]\tLoss: 0.525745\n",
      "Train Epoch: 1 [3800/5400\t(70%)]\tLoss: 0.968471\n",
      "Train Epoch: 1 [4000/5400\t(74%)]\tLoss: 2.374876\n",
      "Train Epoch: 1 [4200/5400\t(78%)]\tLoss: 0.379876\n",
      "Train Epoch: 1 [4400/5400\t(81%)]\tLoss: 0.712848\n",
      "Train Epoch: 1 [4600/5400\t(85%)]\tLoss: 1.621597\n",
      "Train Epoch: 1 [4800/5400\t(89%)]\tLoss: 0.136514\n",
      "Train Epoch: 1 [5000/5400\t(93%)]\tLoss: 1.892565\n",
      "Train Epoch: 1 [5200/5400\t(96%)]\tLoss: 1.242889\n",
      "\n",
      "Worker:Fadi ends training in Global Round:4 |\n",
      "Worker:Najeeb starts training in Global Round:4 |\n"
     ]
    },
    {
     "data": {
      "application/vnd.jupyter.widget-view+json": {
       "model_id": "bc267889660b47eeb5350bf0e395305e",
       "version_major": 2,
       "version_minor": 0
      },
      "text/plain": [
       "HBox(children=(IntProgress(value=0, max=1), HTML(value='')))"
      ]
     },
     "metadata": {},
     "output_type": "display_data"
    },
    {
     "name": "stdout",
     "output_type": "stream",
     "text": [
      "Train Epoch: 1 [2800/5400\t(52%)]\tLoss: 0.888010\n",
      "Train Epoch: 1 [3000/5400\t(56%)]\tLoss: 1.398811\n",
      "Train Epoch: 1 [3200/5400\t(59%)]\tLoss: 1.081663\n",
      "Train Epoch: 1 [3400/5400\t(63%)]\tLoss: 1.226221\n",
      "Train Epoch: 1 [3600/5400\t(67%)]\tLoss: 1.932664\n",
      "Train Epoch: 1 [3800/5400\t(70%)]\tLoss: 1.616847\n",
      "Train Epoch: 1 [4000/5400\t(74%)]\tLoss: 0.683096\n",
      "Train Epoch: 1 [4200/5400\t(78%)]\tLoss: 1.090433\n",
      "Train Epoch: 1 [4400/5400\t(81%)]\tLoss: 0.943856\n",
      "Train Epoch: 1 [4600/5400\t(85%)]\tLoss: 1.179282\n",
      "Train Epoch: 1 [4800/5400\t(89%)]\tLoss: 1.460586\n",
      "Train Epoch: 1 [5000/5400\t(93%)]\tLoss: 1.459332\n",
      "Train Epoch: 1 [5200/5400\t(96%)]\tLoss: 2.360258\n",
      "\n",
      "Worker:Najeeb ends training in Global Round:4 |\n",
      "Worker:Josep starts training in Global Round:4 |\n"
     ]
    },
    {
     "data": {
      "application/vnd.jupyter.widget-view+json": {
       "model_id": "60ba786ce17344a7a8ad10a7c4b75aec",
       "version_major": 2,
       "version_minor": 0
      },
      "text/plain": [
       "HBox(children=(IntProgress(value=0, max=1), HTML(value='')))"
      ]
     },
     "metadata": {},
     "output_type": "display_data"
    },
    {
     "name": "stdout",
     "output_type": "stream",
     "text": [
      "Train Epoch: 1 [2800/5400\t(52%)]\tLoss: 1.178842\n",
      "Train Epoch: 1 [3000/5400\t(56%)]\tLoss: 1.037200\n",
      "Train Epoch: 1 [3200/5400\t(59%)]\tLoss: 1.065134\n",
      "Train Epoch: 1 [3400/5400\t(63%)]\tLoss: 2.608305\n",
      "Train Epoch: 1 [3600/5400\t(67%)]\tLoss: 1.608013\n",
      "Train Epoch: 1 [3800/5400\t(70%)]\tLoss: 0.975978\n",
      "Train Epoch: 1 [4000/5400\t(74%)]\tLoss: 1.656032\n",
      "Train Epoch: 1 [4200/5400\t(78%)]\tLoss: 1.630386\n",
      "Train Epoch: 1 [4400/5400\t(81%)]\tLoss: 0.906070\n",
      "Train Epoch: 1 [4600/5400\t(85%)]\tLoss: 1.509617\n",
      "Train Epoch: 1 [4800/5400\t(89%)]\tLoss: 1.668523\n",
      "Train Epoch: 1 [5000/5400\t(93%)]\tLoss: 0.890553\n",
      "Train Epoch: 1 [5200/5400\t(96%)]\tLoss: 1.280835\n",
      "\n",
      "Worker:Josep ends training in Global Round:4 |\n",
      "Worker:David starts training in Global Round:4 |\n"
     ]
    },
    {
     "data": {
      "application/vnd.jupyter.widget-view+json": {
       "model_id": "f26592a736be4723b49ca9186649d824",
       "version_major": 2,
       "version_minor": 0
      },
      "text/plain": [
       "HBox(children=(IntProgress(value=0, max=1), HTML(value='')))"
      ]
     },
     "metadata": {},
     "output_type": "display_data"
    },
    {
     "name": "stdout",
     "output_type": "stream",
     "text": [
      "Train Epoch: 1 [2800/5400\t(52%)]\tLoss: 1.437814\n",
      "Train Epoch: 1 [3000/5400\t(56%)]\tLoss: 1.064908\n",
      "Train Epoch: 1 [3200/5400\t(59%)]\tLoss: 1.773234\n",
      "Train Epoch: 1 [3400/5400\t(63%)]\tLoss: 1.838791\n",
      "Train Epoch: 1 [3600/5400\t(67%)]\tLoss: 0.699921\n",
      "Train Epoch: 1 [3800/5400\t(70%)]\tLoss: 1.051416\n",
      "Train Epoch: 1 [4000/5400\t(74%)]\tLoss: 1.370305\n",
      "Train Epoch: 1 [4200/5400\t(78%)]\tLoss: 1.113023\n",
      "Train Epoch: 1 [4400/5400\t(81%)]\tLoss: 1.609014\n",
      "Train Epoch: 1 [4600/5400\t(85%)]\tLoss: 1.491376\n",
      "Train Epoch: 1 [4800/5400\t(89%)]\tLoss: 0.682129\n",
      "Train Epoch: 1 [5000/5400\t(93%)]\tLoss: 0.942300\n",
      "Train Epoch: 1 [5200/5400\t(96%)]\tLoss: 2.223882\n",
      "\n",
      "Worker:David ends training in Global Round:4 |\n",
      "Worker:Oriol starts training in Global Round:4 |\n",
      "===>Targeted/stealthy attack started by:  Oriol  in Global Round:  4\n"
     ]
    },
    {
     "data": {
      "application/vnd.jupyter.widget-view+json": {
       "model_id": "495616c7e6f24baa967c03b5ef0eb8e7",
       "version_major": 2,
       "version_minor": 0
      },
      "text/plain": [
       "HBox(children=(IntProgress(value=0, max=1), HTML(value='')))"
      ]
     },
     "metadata": {},
     "output_type": "display_data"
    },
    {
     "name": "stdout",
     "output_type": "stream",
     "text": [
      "Train Epoch: 1 [2800/5400\t(52%)]\tLoss: 1.704086\n",
      "Train Epoch: 1 [3000/5400\t(56%)]\tLoss: 1.405339\n",
      "Train Epoch: 1 [3200/5400\t(59%)]\tLoss: 0.854343\n",
      "Train Epoch: 1 [3400/5400\t(63%)]\tLoss: 0.620659\n",
      "Train Epoch: 1 [3600/5400\t(67%)]\tLoss: 2.909237\n",
      "Train Epoch: 1 [3800/5400\t(70%)]\tLoss: 1.054106\n",
      "Train Epoch: 1 [4000/5400\t(74%)]\tLoss: 2.103489\n",
      "Train Epoch: 1 [4200/5400\t(78%)]\tLoss: 0.828304\n",
      "Train Epoch: 1 [4400/5400\t(81%)]\tLoss: 0.104556\n",
      "Train Epoch: 1 [4600/5400\t(85%)]\tLoss: 0.643834\n",
      "Train Epoch: 1 [4800/5400\t(89%)]\tLoss: 1.474667\n",
      "Train Epoch: 1 [5000/5400\t(93%)]\tLoss: 1.324413\n",
      "Train Epoch: 1 [5200/5400\t(96%)]\tLoss: 2.443049\n",
      "\n",
      "Worker:Oriol ends training in Global Round:4 |\n",
      "\n",
      " Current global round local reputations\n",
      "\n",
      "\n",
      "local ratings introduced by accountability manager:  Ashneet , with tau value =:  2\n",
      "\n",
      "Worker         Rating                   Distance       \n",
      "\n",
      "Alberto                 1           0.17507739682684417\n",
      "\n",
      "Michel                  1            0.1860632651540725\n",
      "\n",
      "Fadi                    1            0.1908125670904152\n",
      "\n",
      "Najeeb                  1           0.19405258599796243\n",
      "\n",
      "Josep                   1           0.18908875676875356\n",
      "\n",
      "David                   1          0.019577274211783017\n",
      "\n",
      "Oriol                   0           0.26350158360484394\n",
      "\n",
      "local ratings introduced by accountability manager:  David , with tau value =:  2\n",
      "\n",
      "Worker         Rating                   Distance       \n",
      "\n",
      "Alberto                 1           0.17507739682684417\n",
      "\n",
      "Michel                  1            0.1860632651540725\n",
      "\n",
      "Fadi                    1            0.1908125670904152\n",
      "\n",
      "Najeeb                  1           0.19405258599796243\n",
      "\n",
      "Josep                   1           0.18908875676875356\n",
      "\n",
      "David                   1          0.019577274211783017\n",
      "\n",
      "Oriol                   0           0.26350158360484394\n",
      "\n",
      "local ratings introduced by accountability manager:  Michel , with tau value =:  2\n",
      "\n",
      "Worker         Rating                   Distance       \n",
      "\n",
      "Alberto                 1           0.17507739682684417\n",
      "\n",
      "Michel                  1            0.1860632651540725\n",
      "\n",
      "Fadi                    1            0.1908125670904152\n",
      "\n",
      "Najeeb                  1           0.19405258599796243\n",
      "\n",
      "Josep                   1           0.18908875676875356\n",
      "\n",
      "David                   1          0.019577274211783017\n",
      "\n",
      "Oriol                   0           0.26350158360484394\n",
      "\n",
      "Average loss: 1.3044, Accuracy: 8362/10000 (84%)\n",
      "\n",
      "Category   - Accuracy\n",
      "Zero       - 98.4\n",
      "One        - 98.2\n",
      "Two        - 80.9\n",
      "Three      - 86.6\n",
      "Four       - 81.1\n",
      "Five       - 68.6\n",
      "Six        - 93.3\n",
      "Seven      - 86.8\n",
      "Eight      - 63.4\n",
      "Nine       - 75.4\n",
      "\n",
      " | Global Training Round : 5 |\n",
      "\n",
      "Worker:Alberto starts training in Global Round:5 |\n"
     ]
    },
    {
     "data": {
      "application/vnd.jupyter.widget-view+json": {
       "model_id": "d3816089cd244410b8bae67889aea6d2",
       "version_major": 2,
       "version_minor": 0
      },
      "text/plain": [
       "HBox(children=(IntProgress(value=0, max=1), HTML(value='')))"
      ]
     },
     "metadata": {},
     "output_type": "display_data"
    },
    {
     "name": "stdout",
     "output_type": "stream",
     "text": [
      "Train Epoch: 1 [2800/5400\t(52%)]\tLoss: 1.934917\n",
      "Train Epoch: 1 [3000/5400\t(56%)]\tLoss: 0.318200\n",
      "Train Epoch: 1 [3200/5400\t(59%)]\tLoss: 0.353152\n",
      "Train Epoch: 1 [3400/5400\t(63%)]\tLoss: 1.107728\n",
      "Train Epoch: 1 [3600/5400\t(67%)]\tLoss: 0.448501\n",
      "Train Epoch: 1 [3800/5400\t(70%)]\tLoss: 0.912637\n",
      "Train Epoch: 1 [4000/5400\t(74%)]\tLoss: 0.650029\n",
      "Train Epoch: 1 [4200/5400\t(78%)]\tLoss: 0.750398\n",
      "Train Epoch: 1 [4400/5400\t(81%)]\tLoss: 0.215807\n",
      "Train Epoch: 1 [4600/5400\t(85%)]\tLoss: 0.586504\n",
      "Train Epoch: 1 [4800/5400\t(89%)]\tLoss: 0.359196\n",
      "Train Epoch: 1 [5000/5400\t(93%)]\tLoss: 1.143762\n",
      "Train Epoch: 1 [5200/5400\t(96%)]\tLoss: 0.063736\n",
      "\n",
      "Worker:Alberto ends training in Global Round:5 |\n",
      "Worker:Michel starts training in Global Round:5 |\n"
     ]
    },
    {
     "data": {
      "application/vnd.jupyter.widget-view+json": {
       "model_id": "3a043f96ef5d4a30b4cdf947d4969aea",
       "version_major": 2,
       "version_minor": 0
      },
      "text/plain": [
       "HBox(children=(IntProgress(value=0, max=1), HTML(value='')))"
      ]
     },
     "metadata": {},
     "output_type": "display_data"
    },
    {
     "name": "stdout",
     "output_type": "stream",
     "text": [
      "Train Epoch: 1 [2800/5400\t(52%)]\tLoss: 1.895749\n",
      "Train Epoch: 1 [3000/5400\t(56%)]\tLoss: 0.751881\n",
      "Train Epoch: 1 [3200/5400\t(59%)]\tLoss: 0.783887\n",
      "Train Epoch: 1 [3400/5400\t(63%)]\tLoss: 0.952384\n",
      "Train Epoch: 1 [3600/5400\t(67%)]\tLoss: 0.503049\n",
      "Train Epoch: 1 [3800/5400\t(70%)]\tLoss: 1.834544\n",
      "Train Epoch: 1 [4000/5400\t(74%)]\tLoss: 0.428856\n",
      "Train Epoch: 1 [4200/5400\t(78%)]\tLoss: 0.915513\n",
      "Train Epoch: 1 [4400/5400\t(81%)]\tLoss: 0.928067\n",
      "Train Epoch: 1 [4600/5400\t(85%)]\tLoss: 0.937275\n",
      "Train Epoch: 1 [4800/5400\t(89%)]\tLoss: 0.618965\n",
      "Train Epoch: 1 [5000/5400\t(93%)]\tLoss: 0.709707\n",
      "Train Epoch: 1 [5200/5400\t(96%)]\tLoss: 0.535638\n",
      "\n",
      "Worker:Michel ends training in Global Round:5 |\n",
      "Worker:Fadi starts training in Global Round:5 |\n"
     ]
    },
    {
     "data": {
      "application/vnd.jupyter.widget-view+json": {
       "model_id": "07c4046a7b324ec6b40ed44e362be8c2",
       "version_major": 2,
       "version_minor": 0
      },
      "text/plain": [
       "HBox(children=(IntProgress(value=0, max=1), HTML(value='')))"
      ]
     },
     "metadata": {},
     "output_type": "display_data"
    },
    {
     "name": "stdout",
     "output_type": "stream",
     "text": [
      "Train Epoch: 1 [2800/5400\t(52%)]\tLoss: 1.434846\n",
      "Train Epoch: 1 [3000/5400\t(56%)]\tLoss: 1.557068\n",
      "Train Epoch: 1 [3200/5400\t(59%)]\tLoss: 1.971177\n",
      "Train Epoch: 1 [3400/5400\t(63%)]\tLoss: 0.632280\n",
      "Train Epoch: 1 [3600/5400\t(67%)]\tLoss: 1.645552\n",
      "Train Epoch: 1 [3800/5400\t(70%)]\tLoss: 0.141357\n",
      "Train Epoch: 1 [4000/5400\t(74%)]\tLoss: 0.568885\n",
      "Train Epoch: 1 [4200/5400\t(78%)]\tLoss: 0.607637\n",
      "Train Epoch: 1 [4400/5400\t(81%)]\tLoss: 0.690845\n",
      "Train Epoch: 1 [4600/5400\t(85%)]\tLoss: 1.974388\n",
      "Train Epoch: 1 [4800/5400\t(89%)]\tLoss: 1.290087\n",
      "Train Epoch: 1 [5000/5400\t(93%)]\tLoss: 0.798757\n",
      "Train Epoch: 1 [5200/5400\t(96%)]\tLoss: 1.519714\n",
      "\n",
      "Worker:Fadi ends training in Global Round:5 |\n",
      "Worker:Najeeb starts training in Global Round:5 |\n"
     ]
    },
    {
     "data": {
      "application/vnd.jupyter.widget-view+json": {
       "model_id": "219095f7efa148dc839e64cc5d52cf27",
       "version_major": 2,
       "version_minor": 0
      },
      "text/plain": [
       "HBox(children=(IntProgress(value=0, max=1), HTML(value='')))"
      ]
     },
     "metadata": {},
     "output_type": "display_data"
    },
    {
     "name": "stdout",
     "output_type": "stream",
     "text": [
      "Train Epoch: 1 [2800/5400\t(52%)]\tLoss: 1.893001\n",
      "Train Epoch: 1 [3000/5400\t(56%)]\tLoss: 0.689859\n",
      "Train Epoch: 1 [3200/5400\t(59%)]\tLoss: 0.990024\n",
      "Train Epoch: 1 [3400/5400\t(63%)]\tLoss: 1.025439\n",
      "Train Epoch: 1 [3600/5400\t(67%)]\tLoss: 0.966777\n",
      "Train Epoch: 1 [3800/5400\t(70%)]\tLoss: 1.243957\n",
      "Train Epoch: 1 [4000/5400\t(74%)]\tLoss: 1.190932\n",
      "Train Epoch: 1 [4200/5400\t(78%)]\tLoss: 0.566712\n",
      "Train Epoch: 1 [4400/5400\t(81%)]\tLoss: 0.575842\n",
      "Train Epoch: 1 [4600/5400\t(85%)]\tLoss: 0.340167\n",
      "Train Epoch: 1 [4800/5400\t(89%)]\tLoss: 0.616175\n",
      "Train Epoch: 1 [5000/5400\t(93%)]\tLoss: 0.956462\n",
      "Train Epoch: 1 [5200/5400\t(96%)]\tLoss: 0.503946\n",
      "\n",
      "Worker:Najeeb ends training in Global Round:5 |\n",
      "Worker:Josep starts training in Global Round:5 |\n"
     ]
    },
    {
     "data": {
      "application/vnd.jupyter.widget-view+json": {
       "model_id": "a4faa15942394fa5822e58fb6fe5d601",
       "version_major": 2,
       "version_minor": 0
      },
      "text/plain": [
       "HBox(children=(IntProgress(value=0, max=1), HTML(value='')))"
      ]
     },
     "metadata": {},
     "output_type": "display_data"
    },
    {
     "name": "stdout",
     "output_type": "stream",
     "text": [
      "Train Epoch: 1 [2800/5400\t(52%)]\tLoss: 1.997059\n",
      "Train Epoch: 1 [3000/5400\t(56%)]\tLoss: 2.404131\n",
      "Train Epoch: 1 [3200/5400\t(59%)]\tLoss: 0.930510\n",
      "Train Epoch: 1 [3400/5400\t(63%)]\tLoss: 1.368129\n",
      "Train Epoch: 1 [3600/5400\t(67%)]\tLoss: 0.369887\n",
      "Train Epoch: 1 [3800/5400\t(70%)]\tLoss: 1.645762\n",
      "Train Epoch: 1 [4000/5400\t(74%)]\tLoss: 1.846352\n",
      "Train Epoch: 1 [4200/5400\t(78%)]\tLoss: 0.545016\n",
      "Train Epoch: 1 [4400/5400\t(81%)]\tLoss: 0.293406\n",
      "Train Epoch: 1 [4600/5400\t(85%)]\tLoss: 0.478835\n",
      "Train Epoch: 1 [4800/5400\t(89%)]\tLoss: 0.011167\n",
      "Train Epoch: 1 [5000/5400\t(93%)]\tLoss: 1.003691\n",
      "Train Epoch: 1 [5200/5400\t(96%)]\tLoss: 0.477908\n",
      "\n",
      "Worker:Josep ends training in Global Round:5 |\n",
      "Worker:David starts training in Global Round:5 |\n"
     ]
    },
    {
     "data": {
      "application/vnd.jupyter.widget-view+json": {
       "model_id": "e8e6629bc5b247f8acdeb03fb423915a",
       "version_major": 2,
       "version_minor": 0
      },
      "text/plain": [
       "HBox(children=(IntProgress(value=0, max=1), HTML(value='')))"
      ]
     },
     "metadata": {},
     "output_type": "display_data"
    },
    {
     "name": "stdout",
     "output_type": "stream",
     "text": [
      "Train Epoch: 1 [2800/5400\t(52%)]\tLoss: 1.866089\n",
      "Train Epoch: 1 [3000/5400\t(56%)]\tLoss: 1.279840\n",
      "Train Epoch: 1 [3200/5400\t(59%)]\tLoss: 1.481702\n",
      "Train Epoch: 1 [3400/5400\t(63%)]\tLoss: 0.736394\n",
      "Train Epoch: 1 [3600/5400\t(67%)]\tLoss: 0.340754\n",
      "Train Epoch: 1 [3800/5400\t(70%)]\tLoss: 1.048499\n",
      "Train Epoch: 1 [4000/5400\t(74%)]\tLoss: 0.619329\n",
      "Train Epoch: 1 [4200/5400\t(78%)]\tLoss: 0.882819\n",
      "Train Epoch: 1 [4400/5400\t(81%)]\tLoss: 1.412615\n",
      "Train Epoch: 1 [4600/5400\t(85%)]\tLoss: 0.453289\n",
      "Train Epoch: 1 [4800/5400\t(89%)]\tLoss: 0.275000\n",
      "Train Epoch: 1 [5000/5400\t(93%)]\tLoss: 0.827502\n",
      "Train Epoch: 1 [5200/5400\t(96%)]\tLoss: 0.517602\n",
      "\n",
      "Worker:David ends training in Global Round:5 |\n",
      "Worker:Oriol starts training in Global Round:5 |\n",
      "===>Targeted/stealthy attack started by:  Oriol  in Global Round:  5\n"
     ]
    },
    {
     "data": {
      "application/vnd.jupyter.widget-view+json": {
       "model_id": "8723d7a9225348b49139ca7a69bede75",
       "version_major": 2,
       "version_minor": 0
      },
      "text/plain": [
       "HBox(children=(IntProgress(value=0, max=1), HTML(value='')))"
      ]
     },
     "metadata": {},
     "output_type": "display_data"
    },
    {
     "name": "stdout",
     "output_type": "stream",
     "text": [
      "Train Epoch: 1 [2800/5400\t(52%)]\tLoss: 1.502974\n",
      "Train Epoch: 1 [3000/5400\t(56%)]\tLoss: 0.207889\n",
      "Train Epoch: 1 [3200/5400\t(59%)]\tLoss: 1.750889\n",
      "Train Epoch: 1 [3400/5400\t(63%)]\tLoss: 0.974401\n",
      "Train Epoch: 1 [3600/5400\t(67%)]\tLoss: 1.787268\n",
      "Train Epoch: 1 [3800/5400\t(70%)]\tLoss: 0.788862\n",
      "Train Epoch: 1 [4000/5400\t(74%)]\tLoss: 1.469583\n",
      "Train Epoch: 1 [4200/5400\t(78%)]\tLoss: 0.022418\n",
      "Train Epoch: 1 [4400/5400\t(81%)]\tLoss: 1.054185\n",
      "Train Epoch: 1 [4600/5400\t(85%)]\tLoss: 0.203539\n",
      "Train Epoch: 1 [4800/5400\t(89%)]\tLoss: 0.765106\n",
      "Train Epoch: 1 [5000/5400\t(93%)]\tLoss: 0.359523\n",
      "Train Epoch: 1 [5200/5400\t(96%)]\tLoss: 1.010373\n",
      "\n",
      "Worker:Oriol ends training in Global Round:5 |\n",
      "\n",
      " Current global round local reputations\n",
      "\n",
      "\n",
      "local ratings introduced by accountability manager:  Ashneet , with tau value =:  2\n",
      "\n",
      "Worker         Rating                   Distance       \n",
      "\n",
      "Alberto                 1            0.2330497045230057\n",
      "\n",
      "Michel                  1          0.021227346099031475\n",
      "\n",
      "Fadi                    1            0.2115902474304429\n",
      "\n",
      "Najeeb                  1           0.22402941053803588\n",
      "\n",
      "Josep                   1           0.23212944210117645\n",
      "\n",
      "David                   1           0.23115154824698522\n",
      "\n",
      "Oriol                   0            0.2763544371019624\n",
      "\n",
      "local ratings introduced by accountability manager:  David , with tau value =:  2\n",
      "\n",
      "Worker         Rating                   Distance       \n",
      "\n",
      "Alberto                 1            0.2330497045230057\n",
      "\n",
      "Michel                  1          0.021227346099031475\n",
      "\n",
      "Fadi                    1            0.2115902474304429\n",
      "\n",
      "Najeeb                  1           0.22402941053803588\n",
      "\n",
      "Josep                   1           0.23212944210117645\n",
      "\n",
      "David                   1           0.23115154824698522\n",
      "\n",
      "Oriol                   0            0.2763544371019624\n",
      "\n",
      "local ratings introduced by accountability manager:  Michel , with tau value =:  2\n",
      "\n",
      "Worker         Rating                   Distance       \n",
      "\n",
      "Alberto                 1            0.2330497045230057\n",
      "\n",
      "Michel                  1          0.021227346099031475\n",
      "\n",
      "Fadi                    1            0.2115902474304429\n",
      "\n",
      "Najeeb                  1           0.22402941053803588\n",
      "\n",
      "Josep                   1           0.23212944210117645\n",
      "\n",
      "David                   1           0.23115154824698522\n",
      "\n",
      "Oriol                   0            0.2763544371019624\n",
      "\n",
      "Average loss: 1.0104, Accuracy: 8596/10000 (86%)\n",
      "\n",
      "Category   - Accuracy\n",
      "Zero       - 98.5\n",
      "One        - 98.1\n",
      "Two        - 87.5\n",
      "Three      - 89.2\n",
      "Four       - 87.6\n",
      "Five       - 76.6\n",
      "Six        - 93.7\n",
      "Seven      - 87.1\n",
      "Eight      - 62.3\n",
      "Nine       - 76.3\n",
      "\n",
      " | Global Training Round : 6 |\n",
      "\n",
      "Worker:Alberto starts training in Global Round:6 |\n"
     ]
    },
    {
     "data": {
      "application/vnd.jupyter.widget-view+json": {
       "model_id": "748b2929f1994f16b4cc7e9a5bf23a6d",
       "version_major": 2,
       "version_minor": 0
      },
      "text/plain": [
       "HBox(children=(IntProgress(value=0, max=1), HTML(value='')))"
      ]
     },
     "metadata": {},
     "output_type": "display_data"
    },
    {
     "name": "stdout",
     "output_type": "stream",
     "text": [
      "Train Epoch: 1 [2800/5400\t(52%)]\tLoss: 0.764585\n",
      "Train Epoch: 1 [3000/5400\t(56%)]\tLoss: 1.572840\n",
      "Train Epoch: 1 [3200/5400\t(59%)]\tLoss: 1.577963\n",
      "Train Epoch: 1 [3400/5400\t(63%)]\tLoss: 0.174413\n",
      "Train Epoch: 1 [3600/5400\t(67%)]\tLoss: 1.029442\n",
      "Train Epoch: 1 [3800/5400\t(70%)]\tLoss: 0.855187\n",
      "Train Epoch: 1 [4000/5400\t(74%)]\tLoss: 1.129929\n",
      "Train Epoch: 1 [4200/5400\t(78%)]\tLoss: 1.599194\n",
      "Train Epoch: 1 [4400/5400\t(81%)]\tLoss: 0.530472\n",
      "Train Epoch: 1 [4600/5400\t(85%)]\tLoss: 0.765254\n",
      "Train Epoch: 1 [4800/5400\t(89%)]\tLoss: 1.173360\n",
      "Train Epoch: 1 [5000/5400\t(93%)]\tLoss: 2.459364\n",
      "Train Epoch: 1 [5200/5400\t(96%)]\tLoss: 0.393447\n",
      "\n",
      "Worker:Alberto ends training in Global Round:6 |\n",
      "Worker:Michel starts training in Global Round:6 |\n"
     ]
    },
    {
     "data": {
      "application/vnd.jupyter.widget-view+json": {
       "model_id": "ba7bddcb54c04ddcbe2c601ad50a5e46",
       "version_major": 2,
       "version_minor": 0
      },
      "text/plain": [
       "HBox(children=(IntProgress(value=0, max=1), HTML(value='')))"
      ]
     },
     "metadata": {},
     "output_type": "display_data"
    },
    {
     "name": "stdout",
     "output_type": "stream",
     "text": [
      "Train Epoch: 1 [2800/5400\t(52%)]\tLoss: 0.724079\n",
      "Train Epoch: 1 [3000/5400\t(56%)]\tLoss: 1.593896\n",
      "Train Epoch: 1 [3200/5400\t(59%)]\tLoss: 1.466475\n",
      "Train Epoch: 1 [3400/5400\t(63%)]\tLoss: 0.677104\n",
      "Train Epoch: 1 [3600/5400\t(67%)]\tLoss: 0.348131\n",
      "Train Epoch: 1 [3800/5400\t(70%)]\tLoss: 3.369061\n",
      "Train Epoch: 1 [4000/5400\t(74%)]\tLoss: 1.408511\n",
      "Train Epoch: 1 [4200/5400\t(78%)]\tLoss: 0.313471\n",
      "Train Epoch: 1 [4400/5400\t(81%)]\tLoss: 1.402529\n",
      "Train Epoch: 1 [4600/5400\t(85%)]\tLoss: 0.606825\n",
      "Train Epoch: 1 [4800/5400\t(89%)]\tLoss: 1.336563\n",
      "Train Epoch: 1 [5000/5400\t(93%)]\tLoss: 2.413918\n",
      "Train Epoch: 1 [5200/5400\t(96%)]\tLoss: 0.802046\n",
      "\n",
      "Worker:Michel ends training in Global Round:6 |\n",
      "Worker:Fadi starts training in Global Round:6 |\n"
     ]
    },
    {
     "data": {
      "application/vnd.jupyter.widget-view+json": {
       "model_id": "275586ab333443bfb6a6bc6746f07428",
       "version_major": 2,
       "version_minor": 0
      },
      "text/plain": [
       "HBox(children=(IntProgress(value=0, max=1), HTML(value='')))"
      ]
     },
     "metadata": {},
     "output_type": "display_data"
    },
    {
     "name": "stdout",
     "output_type": "stream",
     "text": [
      "Train Epoch: 1 [2800/5400\t(52%)]\tLoss: 1.220250\n",
      "Train Epoch: 1 [3000/5400\t(56%)]\tLoss: 0.215813\n",
      "Train Epoch: 1 [3200/5400\t(59%)]\tLoss: 2.104594\n",
      "Train Epoch: 1 [3400/5400\t(63%)]\tLoss: 0.204246\n",
      "Train Epoch: 1 [3600/5400\t(67%)]\tLoss: 0.077110\n",
      "Train Epoch: 1 [3800/5400\t(70%)]\tLoss: 1.550209\n",
      "Train Epoch: 1 [4000/5400\t(74%)]\tLoss: 0.536007\n",
      "Train Epoch: 1 [4200/5400\t(78%)]\tLoss: 1.962300\n",
      "Train Epoch: 1 [4400/5400\t(81%)]\tLoss: 1.215928\n",
      "Train Epoch: 1 [4600/5400\t(85%)]\tLoss: 1.503993\n",
      "Train Epoch: 1 [4800/5400\t(89%)]\tLoss: 1.329194\n",
      "Train Epoch: 1 [5000/5400\t(93%)]\tLoss: 0.617113\n",
      "Train Epoch: 1 [5200/5400\t(96%)]\tLoss: 0.180148\n",
      "\n",
      "Worker:Fadi ends training in Global Round:6 |\n",
      "Worker:Najeeb starts training in Global Round:6 |\n"
     ]
    },
    {
     "data": {
      "application/vnd.jupyter.widget-view+json": {
       "model_id": "5ec8a39d74964cef84150abbaf12f5a7",
       "version_major": 2,
       "version_minor": 0
      },
      "text/plain": [
       "HBox(children=(IntProgress(value=0, max=1), HTML(value='')))"
      ]
     },
     "metadata": {},
     "output_type": "display_data"
    },
    {
     "name": "stdout",
     "output_type": "stream",
     "text": [
      "Train Epoch: 1 [2800/5400\t(52%)]\tLoss: 0.713984\n",
      "Train Epoch: 1 [3000/5400\t(56%)]\tLoss: 0.480700\n",
      "Train Epoch: 1 [3200/5400\t(59%)]\tLoss: 1.526528\n",
      "Train Epoch: 1 [3400/5400\t(63%)]\tLoss: 0.731314\n",
      "Train Epoch: 1 [3600/5400\t(67%)]\tLoss: 0.823362\n",
      "Train Epoch: 1 [3800/5400\t(70%)]\tLoss: 0.853654\n",
      "Train Epoch: 1 [4000/5400\t(74%)]\tLoss: 0.744393\n",
      "Train Epoch: 1 [4200/5400\t(78%)]\tLoss: 0.968364\n",
      "Train Epoch: 1 [4400/5400\t(81%)]\tLoss: 0.630243\n",
      "Train Epoch: 1 [4600/5400\t(85%)]\tLoss: 0.172221\n",
      "Train Epoch: 1 [4800/5400\t(89%)]\tLoss: 0.565690\n",
      "Train Epoch: 1 [5000/5400\t(93%)]\tLoss: 0.946123\n",
      "Train Epoch: 1 [5200/5400\t(96%)]\tLoss: 1.227944\n",
      "\n",
      "Worker:Najeeb ends training in Global Round:6 |\n",
      "Worker:Josep starts training in Global Round:6 |\n"
     ]
    },
    {
     "data": {
      "application/vnd.jupyter.widget-view+json": {
       "model_id": "656ffc2c3399462394efbf929805d792",
       "version_major": 2,
       "version_minor": 0
      },
      "text/plain": [
       "HBox(children=(IntProgress(value=0, max=1), HTML(value='')))"
      ]
     },
     "metadata": {},
     "output_type": "display_data"
    },
    {
     "name": "stdout",
     "output_type": "stream",
     "text": [
      "Train Epoch: 1 [2800/5400\t(52%)]\tLoss: 0.393492\n",
      "Train Epoch: 1 [3000/5400\t(56%)]\tLoss: 0.995678\n",
      "Train Epoch: 1 [3200/5400\t(59%)]\tLoss: 0.545202\n",
      "Train Epoch: 1 [3400/5400\t(63%)]\tLoss: 0.495765\n",
      "Train Epoch: 1 [3600/5400\t(67%)]\tLoss: 3.398506\n",
      "Train Epoch: 1 [3800/5400\t(70%)]\tLoss: 1.127605\n",
      "Train Epoch: 1 [4000/5400\t(74%)]\tLoss: 0.558250\n",
      "Train Epoch: 1 [4200/5400\t(78%)]\tLoss: 0.555932\n",
      "Train Epoch: 1 [4400/5400\t(81%)]\tLoss: 1.393266\n",
      "Train Epoch: 1 [4600/5400\t(85%)]\tLoss: 1.519815\n",
      "Train Epoch: 1 [4800/5400\t(89%)]\tLoss: 1.208791\n",
      "Train Epoch: 1 [5000/5400\t(93%)]\tLoss: 2.175863\n",
      "Train Epoch: 1 [5200/5400\t(96%)]\tLoss: 2.253508\n",
      "\n",
      "Worker:Josep ends training in Global Round:6 |\n",
      "Worker:David starts training in Global Round:6 |\n"
     ]
    },
    {
     "data": {
      "application/vnd.jupyter.widget-view+json": {
       "model_id": "e68ff3c24e5044a6982d7e39fc851612",
       "version_major": 2,
       "version_minor": 0
      },
      "text/plain": [
       "HBox(children=(IntProgress(value=0, max=1), HTML(value='')))"
      ]
     },
     "metadata": {},
     "output_type": "display_data"
    },
    {
     "name": "stdout",
     "output_type": "stream",
     "text": [
      "Train Epoch: 1 [2800/5400\t(52%)]\tLoss: 1.726951\n",
      "Train Epoch: 1 [3000/5400\t(56%)]\tLoss: 0.807411\n",
      "Train Epoch: 1 [3200/5400\t(59%)]\tLoss: 0.926537\n",
      "Train Epoch: 1 [3400/5400\t(63%)]\tLoss: 0.073124\n",
      "Train Epoch: 1 [3600/5400\t(67%)]\tLoss: 0.149109\n",
      "Train Epoch: 1 [3800/5400\t(70%)]\tLoss: 0.674946\n",
      "Train Epoch: 1 [4000/5400\t(74%)]\tLoss: 0.155694\n",
      "Train Epoch: 1 [4200/5400\t(78%)]\tLoss: 1.327066\n",
      "Train Epoch: 1 [4400/5400\t(81%)]\tLoss: 0.950656\n",
      "Train Epoch: 1 [4600/5400\t(85%)]\tLoss: 1.620977\n",
      "Train Epoch: 1 [4800/5400\t(89%)]\tLoss: 0.234167\n",
      "Train Epoch: 1 [5000/5400\t(93%)]\tLoss: 0.378661\n",
      "Train Epoch: 1 [5200/5400\t(96%)]\tLoss: 0.980780\n",
      "\n",
      "Worker:David ends training in Global Round:6 |\n",
      "Worker:Oriol starts training in Global Round:6 |\n",
      "===>Targeted/stealthy attack started by:  Oriol  in Global Round:  6\n"
     ]
    },
    {
     "data": {
      "application/vnd.jupyter.widget-view+json": {
       "model_id": "fd2cb14772514d6e977dca6d0ba2e7a5",
       "version_major": 2,
       "version_minor": 0
      },
      "text/plain": [
       "HBox(children=(IntProgress(value=0, max=1), HTML(value='')))"
      ]
     },
     "metadata": {},
     "output_type": "display_data"
    },
    {
     "name": "stdout",
     "output_type": "stream",
     "text": [
      "Train Epoch: 1 [2800/5400\t(52%)]\tLoss: 0.340317\n",
      "Train Epoch: 1 [3000/5400\t(56%)]\tLoss: 0.618744\n",
      "Train Epoch: 1 [3200/5400\t(59%)]\tLoss: 2.392900\n",
      "Train Epoch: 1 [3400/5400\t(63%)]\tLoss: 0.669894\n",
      "Train Epoch: 1 [3600/5400\t(67%)]\tLoss: 2.176697\n",
      "Train Epoch: 1 [3800/5400\t(70%)]\tLoss: 1.024465\n",
      "Train Epoch: 1 [4000/5400\t(74%)]\tLoss: 0.094095\n",
      "Train Epoch: 1 [4200/5400\t(78%)]\tLoss: 1.309966\n",
      "Train Epoch: 1 [4400/5400\t(81%)]\tLoss: 4.723131\n",
      "Train Epoch: 1 [4600/5400\t(85%)]\tLoss: 2.404391\n",
      "Train Epoch: 1 [4800/5400\t(89%)]\tLoss: 1.077432\n",
      "Train Epoch: 1 [5000/5400\t(93%)]\tLoss: 0.145035\n",
      "Train Epoch: 1 [5200/5400\t(96%)]\tLoss: 0.821018\n",
      "\n",
      "Worker:Oriol ends training in Global Round:6 |\n",
      "\n",
      " Current global round local reputations\n",
      "\n",
      "\n",
      "local ratings introduced by accountability manager:  Ashneet , with tau value =:  2\n",
      "\n",
      "Worker         Rating                   Distance       \n",
      "\n",
      "Alberto                 1            0.2431868655643777\n",
      "\n",
      "Michel                  1           0.22693821946476694\n",
      "\n",
      "Fadi                    1          0.021926186982548244\n",
      "\n",
      "Najeeb                  1            0.2437548448851685\n",
      "\n",
      "Josep                   1           0.23479161792634745\n",
      "\n",
      "David                   1            0.2481489175537877\n",
      "\n",
      "Oriol                   0            0.2729405506758997\n",
      "\n",
      "local ratings introduced by accountability manager:  David , with tau value =:  2\n",
      "\n",
      "Worker         Rating                   Distance       \n",
      "\n",
      "Alberto                 1            0.2431868655643777\n",
      "\n",
      "Michel                  1           0.22693821946476694\n",
      "\n",
      "Fadi                    1          0.021926186982548244\n",
      "\n",
      "Najeeb                  1            0.2437548448851685\n",
      "\n",
      "Josep                   1           0.23479161792634745\n",
      "\n",
      "David                   1            0.2481489175537877\n",
      "\n",
      "Oriol                   0            0.2729405506758997\n",
      "\n",
      "local ratings introduced by accountability manager:  Michel , with tau value =:  2\n",
      "\n",
      "Worker         Rating                   Distance       \n",
      "\n",
      "Alberto                 1            0.2431868655643777\n",
      "\n",
      "Michel                  1           0.22693821946476694\n",
      "\n",
      "Fadi                    1          0.021926186982548244\n",
      "\n",
      "Najeeb                  1            0.2437548448851685\n",
      "\n",
      "Josep                   1           0.23479161792634745\n",
      "\n",
      "David                   1            0.2481489175537877\n",
      "\n",
      "Oriol                   0            0.2729405506758997\n",
      "\n",
      "Average loss: 0.8887, Accuracy: 8725/10000 (87%)\n",
      "\n",
      "Category   - Accuracy\n",
      "Zero       - 97.6\n",
      "One        - 98.0\n",
      "Two        - 87.6\n",
      "Three      - 88.7\n",
      "Four       - 91.3\n",
      "Five       - 76.5\n",
      "Six        - 94.3\n",
      "Seven      - 86.4\n",
      "Eight      - 75.2\n",
      "Nine       - 74.8\n",
      "\n",
      " | Global Training Round : 7 |\n",
      "\n",
      "Worker:Alberto starts training in Global Round:7 |\n"
     ]
    },
    {
     "data": {
      "application/vnd.jupyter.widget-view+json": {
       "model_id": "7586887826e64e8ea4e5183d5a187c16",
       "version_major": 2,
       "version_minor": 0
      },
      "text/plain": [
       "HBox(children=(IntProgress(value=0, max=1), HTML(value='')))"
      ]
     },
     "metadata": {},
     "output_type": "display_data"
    },
    {
     "name": "stdout",
     "output_type": "stream",
     "text": [
      "Train Epoch: 1 [2800/5400\t(52%)]\tLoss: 0.051042\n",
      "Train Epoch: 1 [3000/5400\t(56%)]\tLoss: 1.253189\n",
      "Train Epoch: 1 [3200/5400\t(59%)]\tLoss: 1.469126\n",
      "Train Epoch: 1 [3400/5400\t(63%)]\tLoss: 0.561311\n",
      "Train Epoch: 1 [3600/5400\t(67%)]\tLoss: 3.679389\n",
      "Train Epoch: 1 [3800/5400\t(70%)]\tLoss: 0.627526\n",
      "Train Epoch: 1 [4000/5400\t(74%)]\tLoss: 0.222520\n",
      "Train Epoch: 1 [4200/5400\t(78%)]\tLoss: 2.187138\n",
      "Train Epoch: 1 [4400/5400\t(81%)]\tLoss: 1.626310\n",
      "Train Epoch: 1 [4600/5400\t(85%)]\tLoss: 0.003711\n",
      "Train Epoch: 1 [4800/5400\t(89%)]\tLoss: 0.078085\n",
      "Train Epoch: 1 [5000/5400\t(93%)]\tLoss: 0.924452\n",
      "Train Epoch: 1 [5200/5400\t(96%)]\tLoss: 0.470950\n",
      "\n",
      "Worker:Alberto ends training in Global Round:7 |\n",
      "Worker:Michel starts training in Global Round:7 |\n"
     ]
    },
    {
     "data": {
      "application/vnd.jupyter.widget-view+json": {
       "model_id": "56f5ff0369864427b8838c5f4b3f9d0d",
       "version_major": 2,
       "version_minor": 0
      },
      "text/plain": [
       "HBox(children=(IntProgress(value=0, max=1), HTML(value='')))"
      ]
     },
     "metadata": {},
     "output_type": "display_data"
    },
    {
     "name": "stdout",
     "output_type": "stream",
     "text": [
      "Train Epoch: 1 [2800/5400\t(52%)]\tLoss: 0.901528\n",
      "Train Epoch: 1 [3000/5400\t(56%)]\tLoss: 0.884047\n",
      "Train Epoch: 1 [3200/5400\t(59%)]\tLoss: 1.438740\n",
      "Train Epoch: 1 [3400/5400\t(63%)]\tLoss: 1.258111\n",
      "Train Epoch: 1 [3600/5400\t(67%)]\tLoss: 0.164971\n",
      "Train Epoch: 1 [3800/5400\t(70%)]\tLoss: 0.856576\n",
      "Train Epoch: 1 [4000/5400\t(74%)]\tLoss: 0.354055\n",
      "Train Epoch: 1 [4200/5400\t(78%)]\tLoss: 0.464894\n",
      "Train Epoch: 1 [4400/5400\t(81%)]\tLoss: 0.245560\n",
      "Train Epoch: 1 [4600/5400\t(85%)]\tLoss: 1.231540\n",
      "Train Epoch: 1 [4800/5400\t(89%)]\tLoss: 0.768239\n",
      "Train Epoch: 1 [5000/5400\t(93%)]\tLoss: 2.076152\n",
      "Train Epoch: 1 [5200/5400\t(96%)]\tLoss: 0.463704\n",
      "\n",
      "Worker:Michel ends training in Global Round:7 |\n",
      "Worker:Fadi starts training in Global Round:7 |\n"
     ]
    },
    {
     "data": {
      "application/vnd.jupyter.widget-view+json": {
       "model_id": "307994e1dc76496d8a01c312293a515c",
       "version_major": 2,
       "version_minor": 0
      },
      "text/plain": [
       "HBox(children=(IntProgress(value=0, max=1), HTML(value='')))"
      ]
     },
     "metadata": {},
     "output_type": "display_data"
    },
    {
     "name": "stdout",
     "output_type": "stream",
     "text": [
      "Train Epoch: 1 [2800/5400\t(52%)]\tLoss: 1.675206\n",
      "Train Epoch: 1 [3000/5400\t(56%)]\tLoss: 0.602018\n",
      "Train Epoch: 1 [3200/5400\t(59%)]\tLoss: 0.573802\n",
      "Train Epoch: 1 [3400/5400\t(63%)]\tLoss: 1.870362\n",
      "Train Epoch: 1 [3600/5400\t(67%)]\tLoss: 0.272479\n",
      "Train Epoch: 1 [3800/5400\t(70%)]\tLoss: 0.203518\n",
      "Train Epoch: 1 [4000/5400\t(74%)]\tLoss: 0.519220\n",
      "Train Epoch: 1 [4200/5400\t(78%)]\tLoss: 0.946402\n",
      "Train Epoch: 1 [4400/5400\t(81%)]\tLoss: 1.139139\n",
      "Train Epoch: 1 [4600/5400\t(85%)]\tLoss: 0.382170\n",
      "Train Epoch: 1 [4800/5400\t(89%)]\tLoss: 1.007294\n",
      "Train Epoch: 1 [5000/5400\t(93%)]\tLoss: 0.296836\n",
      "Train Epoch: 1 [5200/5400\t(96%)]\tLoss: 1.346296\n",
      "\n",
      "Worker:Fadi ends training in Global Round:7 |\n",
      "Worker:Najeeb starts training in Global Round:7 |\n"
     ]
    },
    {
     "data": {
      "application/vnd.jupyter.widget-view+json": {
       "model_id": "ba25c8cbfcc847ff83dec625660e60d6",
       "version_major": 2,
       "version_minor": 0
      },
      "text/plain": [
       "HBox(children=(IntProgress(value=0, max=1), HTML(value='')))"
      ]
     },
     "metadata": {},
     "output_type": "display_data"
    },
    {
     "name": "stdout",
     "output_type": "stream",
     "text": [
      "Train Epoch: 1 [2800/5400\t(52%)]\tLoss: 0.025402\n",
      "Train Epoch: 1 [3000/5400\t(56%)]\tLoss: 0.233042\n",
      "Train Epoch: 1 [3200/5400\t(59%)]\tLoss: 0.441181\n",
      "Train Epoch: 1 [3400/5400\t(63%)]\tLoss: 0.966469\n",
      "Train Epoch: 1 [3600/5400\t(67%)]\tLoss: 1.018279\n",
      "Train Epoch: 1 [3800/5400\t(70%)]\tLoss: 0.286856\n",
      "Train Epoch: 1 [4000/5400\t(74%)]\tLoss: 1.212811\n",
      "Train Epoch: 1 [4200/5400\t(78%)]\tLoss: 0.769209\n",
      "Train Epoch: 1 [4400/5400\t(81%)]\tLoss: 2.884104\n",
      "Train Epoch: 1 [4600/5400\t(85%)]\tLoss: 0.276418\n",
      "Train Epoch: 1 [4800/5400\t(89%)]\tLoss: 0.191467\n",
      "Train Epoch: 1 [5000/5400\t(93%)]\tLoss: 1.050808\n",
      "Train Epoch: 1 [5200/5400\t(96%)]\tLoss: 0.867329\n",
      "\n",
      "Worker:Najeeb ends training in Global Round:7 |\n",
      "Worker:Josep starts training in Global Round:7 |\n"
     ]
    },
    {
     "data": {
      "application/vnd.jupyter.widget-view+json": {
       "model_id": "eaaca68670a8442e84d07e268912271e",
       "version_major": 2,
       "version_minor": 0
      },
      "text/plain": [
       "HBox(children=(IntProgress(value=0, max=1), HTML(value='')))"
      ]
     },
     "metadata": {},
     "output_type": "display_data"
    },
    {
     "name": "stdout",
     "output_type": "stream",
     "text": [
      "Train Epoch: 1 [2800/5400\t(52%)]\tLoss: 0.621615\n",
      "Train Epoch: 1 [3000/5400\t(56%)]\tLoss: 1.110668\n",
      "Train Epoch: 1 [3200/5400\t(59%)]\tLoss: 1.404772\n",
      "Train Epoch: 1 [3400/5400\t(63%)]\tLoss: 1.463978\n",
      "Train Epoch: 1 [3600/5400\t(67%)]\tLoss: 2.032830\n",
      "Train Epoch: 1 [3800/5400\t(70%)]\tLoss: 0.143836\n",
      "Train Epoch: 1 [4000/5400\t(74%)]\tLoss: 0.444971\n",
      "Train Epoch: 1 [4200/5400\t(78%)]\tLoss: 1.334455\n",
      "Train Epoch: 1 [4400/5400\t(81%)]\tLoss: 0.982217\n",
      "Train Epoch: 1 [4600/5400\t(85%)]\tLoss: 1.332544\n",
      "Train Epoch: 1 [4800/5400\t(89%)]\tLoss: 0.070453\n",
      "Train Epoch: 1 [5000/5400\t(93%)]\tLoss: 0.824571\n",
      "Train Epoch: 1 [5200/5400\t(96%)]\tLoss: 1.870738\n",
      "\n",
      "Worker:Josep ends training in Global Round:7 |\n",
      "Worker:David starts training in Global Round:7 |\n"
     ]
    },
    {
     "data": {
      "application/vnd.jupyter.widget-view+json": {
       "model_id": "cc1e65d1df864569bfc66a8893b9e6fc",
       "version_major": 2,
       "version_minor": 0
      },
      "text/plain": [
       "HBox(children=(IntProgress(value=0, max=1), HTML(value='')))"
      ]
     },
     "metadata": {},
     "output_type": "display_data"
    },
    {
     "name": "stdout",
     "output_type": "stream",
     "text": [
      "Train Epoch: 1 [2800/5400\t(52%)]\tLoss: 2.142586\n",
      "Train Epoch: 1 [3000/5400\t(56%)]\tLoss: 0.343149\n",
      "Train Epoch: 1 [3200/5400\t(59%)]\tLoss: 0.568784\n",
      "Train Epoch: 1 [3400/5400\t(63%)]\tLoss: 1.646706\n",
      "Train Epoch: 1 [3600/5400\t(67%)]\tLoss: 0.474098\n",
      "Train Epoch: 1 [3800/5400\t(70%)]\tLoss: 0.289213\n",
      "Train Epoch: 1 [4000/5400\t(74%)]\tLoss: 2.815653\n",
      "Train Epoch: 1 [4200/5400\t(78%)]\tLoss: 0.876718\n",
      "Train Epoch: 1 [4400/5400\t(81%)]\tLoss: 1.554597\n",
      "Train Epoch: 1 [4600/5400\t(85%)]\tLoss: 0.120257\n",
      "Train Epoch: 1 [4800/5400\t(89%)]\tLoss: 0.679752\n",
      "Train Epoch: 1 [5000/5400\t(93%)]\tLoss: 0.459376\n",
      "Train Epoch: 1 [5200/5400\t(96%)]\tLoss: 0.817179\n",
      "\n",
      "Worker:David ends training in Global Round:7 |\n",
      "Worker:Oriol starts training in Global Round:7 |\n",
      "===>Targeted/stealthy attack started by:  Oriol  in Global Round:  7\n"
     ]
    },
    {
     "data": {
      "application/vnd.jupyter.widget-view+json": {
       "model_id": "a7463dcc268d4e8a9fe38cab5d0ce2b9",
       "version_major": 2,
       "version_minor": 0
      },
      "text/plain": [
       "HBox(children=(IntProgress(value=0, max=1), HTML(value='')))"
      ]
     },
     "metadata": {},
     "output_type": "display_data"
    },
    {
     "name": "stdout",
     "output_type": "stream",
     "text": [
      "Train Epoch: 1 [2800/5400\t(52%)]\tLoss: 0.672627\n",
      "Train Epoch: 1 [3000/5400\t(56%)]\tLoss: 0.088063\n",
      "Train Epoch: 1 [3200/5400\t(59%)]\tLoss: 1.636361\n",
      "Train Epoch: 1 [3400/5400\t(63%)]\tLoss: 1.200223\n",
      "Train Epoch: 1 [3600/5400\t(67%)]\tLoss: 0.867364\n",
      "Train Epoch: 1 [3800/5400\t(70%)]\tLoss: 0.652841\n",
      "Train Epoch: 1 [4000/5400\t(74%)]\tLoss: 0.069384\n",
      "Train Epoch: 1 [4200/5400\t(78%)]\tLoss: 0.206509\n",
      "Train Epoch: 1 [4400/5400\t(81%)]\tLoss: 1.305151\n",
      "Train Epoch: 1 [4600/5400\t(85%)]\tLoss: 0.364040\n",
      "Train Epoch: 1 [4800/5400\t(89%)]\tLoss: 0.531663\n",
      "Train Epoch: 1 [5000/5400\t(93%)]\tLoss: 2.224240\n",
      "Train Epoch: 1 [5200/5400\t(96%)]\tLoss: 0.505724\n",
      "\n",
      "Worker:Oriol ends training in Global Round:7 |\n",
      "\n",
      " Current global round local reputations\n",
      "\n",
      "\n",
      "local ratings introduced by accountability manager:  Ashneet , with tau value =:  2\n",
      "\n",
      "Worker         Rating                   Distance       \n",
      "\n",
      "Alberto                 1           0.24484944914873483\n",
      "\n",
      "Michel                  1            0.2497271465641001\n",
      "\n",
      "Fadi                    1          0.003697195076387914\n",
      "\n",
      "Najeeb                  1           0.24212351332345272\n",
      "\n",
      "Josep                   1            0.2424582457451867\n",
      "\n",
      "David                   1            0.2540740632455162\n",
      "\n",
      "Oriol                   0           0.26619888499416255\n",
      "\n",
      "local ratings introduced by accountability manager:  David , with tau value =:  2\n",
      "\n",
      "Worker         Rating                   Distance       \n",
      "\n",
      "Alberto                 1           0.24484944914873483\n",
      "\n",
      "Michel                  1            0.2497271465641001\n",
      "\n",
      "Fadi                    1          0.003697195076387914\n",
      "\n",
      "Najeeb                  1           0.24212351332345272\n",
      "\n",
      "Josep                   1            0.2424582457451867\n",
      "\n",
      "David                   1            0.2540740632455162\n",
      "\n",
      "Oriol                   0           0.26619888499416255\n",
      "\n",
      "local ratings introduced by accountability manager:  Michel , with tau value =:  2\n",
      "\n",
      "Worker         Rating                   Distance       \n",
      "\n",
      "Alberto                 1           0.24484944914873483\n",
      "\n",
      "Michel                  1            0.2497271465641001\n",
      "\n",
      "Fadi                    1          0.003697195076387914\n",
      "\n",
      "Najeeb                  1           0.24212351332345272\n",
      "\n",
      "Josep                   1            0.2424582457451867\n",
      "\n",
      "David                   1            0.2540740632455162\n",
      "\n",
      "Oriol                   0           0.26619888499416255\n",
      "\n",
      "Average loss: 0.8078, Accuracy: 8815/10000 (88%)\n",
      "\n",
      "Category   - Accuracy\n",
      "Zero       - 98.2\n",
      "One        - 98.6\n",
      "Two        - 88.9\n",
      "Three      - 86.8\n",
      "Four       - 90.6\n",
      "Five       - 79.7\n",
      "Six        - 94.7\n",
      "Seven      - 87.1\n",
      "Eight      - 77.4\n",
      "Nine       - 77.6\n",
      "\n",
      " | Global Training Round : 8 |\n",
      "\n",
      "Worker:Alberto starts training in Global Round:8 |\n"
     ]
    },
    {
     "data": {
      "application/vnd.jupyter.widget-view+json": {
       "model_id": "e2ee518fe50948f09241c05b3f5b6f2c",
       "version_major": 2,
       "version_minor": 0
      },
      "text/plain": [
       "HBox(children=(IntProgress(value=0, max=1), HTML(value='')))"
      ]
     },
     "metadata": {},
     "output_type": "display_data"
    }
   ],
   "source": [
    "#targeted attack training experiment in an EigenTrust environment\n",
    "eigenTrust_targeted_attack_training_exp(sim_num = SIM_NUM, peer_pseudonym = PEER_PSEUDONYM,\n",
    "                peer_num = PEER_NUM, peer_frac = PEER_FRAC, acm_frac = ACM_FRAC, seed = SEED, tau = TARGETED_TAU, \n",
    "                trust_upd = TRUST_UPDATE, global_rounds = GLOBAL_ROUNDS, local_epochs = LOCAL_EPOCHS, local_bs = LOCAL_BS,\n",
    "               local_lr = LOCAL_LR , local_momentum = LOCAL_MOMENTUM, num_classes = NUM_CLASSES, \n",
    "               labels_dict = LABELS_DICT, classes_list = CLASSES_LIST, device = DEVICE,\n",
    "                attack_type = 'targeted', attack_rates = STEALTHY_POSONING_RATES, \n",
    "                                          malicious_behaviour_rate = STEALTHY_MALICIOU_BEHAVIOUR_RATE, \n",
    "                                        mapping_list = MAPPING_LIST, a = A)"
   ]
  },
  {
   "cell_type": "code",
   "execution_count": null,
   "metadata": {},
   "outputs": [],
   "source": []
  }
 ],
 "metadata": {
  "kernelspec": {
   "display_name": "Python 3",
   "language": "python",
   "name": "python3"
  },
  "language_info": {
   "codemirror_mode": {
    "name": "ipython",
    "version": 3
   },
   "file_extension": ".py",
   "mimetype": "text/x-python",
   "name": "python",
   "nbconvert_exporter": "python",
   "pygments_lexer": "ipython3",
   "version": "3.7.4"
  }
 },
 "nbformat": 4,
 "nbformat_minor": 2
}
